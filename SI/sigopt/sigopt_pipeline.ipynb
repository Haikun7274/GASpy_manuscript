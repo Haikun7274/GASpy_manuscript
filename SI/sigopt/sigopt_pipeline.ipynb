{
 "cells": [
  {
   "cell_type": "markdown",
   "metadata": {},
   "source": [
    "We choose one of the pipelines that TPOT used and then use SigOpt to optimize the hyperparametrs. We compare the resulting performance to TPOT."
   ]
  },
  {
   "cell_type": "markdown",
   "metadata": {},
   "source": [
    "# Initialize"
   ]
  },
  {
   "cell_type": "code",
   "execution_count": 1,
   "metadata": {},
   "outputs": [],
   "source": [
    "import dill as pickle\n",
    "import numpy as np\n",
    "from sklearn import metrics\n",
    "from tpot import TPOTRegressor\n",
    "from gaspy.utils import vasp_settings_to_str\n",
    "from gaspy_regress.regressor import GASpyRegressor"
   ]
  },
  {
   "cell_type": "markdown",
   "metadata": {},
   "source": [
    "# Fit TPOT"
   ]
  },
  {
   "cell_type": "markdown",
   "metadata": {},
   "source": [
    "## Settings"
   ]
  },
  {
   "cell_type": "code",
   "execution_count": null,
   "metadata": {},
   "outputs": [],
   "source": [
    "fit_blocks = [('CO',)]\n",
    "dev_size = None\n",
    "dim_red = 'pca'\n",
    "tpot_verbosity = 2\n",
    "n_jobs = 16\n",
    "random_state = None\n",
    "VASP_SETTINGS = vasp_settings_to_str({'gga': 'RP',\n",
    "                                      'pp_version': '5.4',\n",
    "                                      'encut': 350})\n",
    "model_name = 'TPOT'\n",
    "features = ['coordatoms_chemfp0', 'neighbors_chemfp0']\n",
    "responses = ['energy']\n",
    "blocks = ['adsorbate']"
   ]
  },
  {
   "cell_type": "markdown",
   "metadata": {},
   "source": [
    "## Standard\n",
    "Let's run a single TPOT on 90% of our data and see what the train/test errors are."
   ]
  },
  {
   "cell_type": "code",
   "execution_count": null,
   "metadata": {},
   "outputs": [],
   "source": [
    "train_size = 0.9\n",
    "tpot_generations = 1\n",
    "tpot_population = 16\n",
    "tpot_offspring = 16\n",
    "\n",
    "# Fit\n",
    "tpot = TPOTRegressor(generations=tpot_generations,\n",
    "                     population_size=tpot_population,\n",
    "                     offspring_size=tpot_offspring,\n",
    "                     verbosity=tpot_verbosity,\n",
    "                     random_state=random_state,\n",
    "                     n_jobs=n_jobs)\n",
    "model = GASpyRegressor(features=features, responses=responses,\n",
    "                       blocks=blocks, vasp_settings=VASP_SETTINGS,\n",
    "                       train_size=train_size, dev_size=dev_size,\n",
    "                       dim_red=dim_red)\n",
    "model.fit_tpot(tpot, model_name=model_name, blocks=fit_blocks)\n",
    "\n",
    "# Save\n",
    "with open('model.pkl', 'w') as file_handle:\n",
    "    pickle.dump(model, file_handle)"
   ]
  },
  {
   "cell_type": "code",
   "execution_count": 15,
   "metadata": {},
   "outputs": [],
   "source": [
    "# Load\n",
    "with open('standard_model.pkl', 'r') as file_handle:\n",
    "    model = pickle.load(file_handle)"
   ]
  },
  {
   "cell_type": "code",
   "execution_count": 16,
   "metadata": {},
   "outputs": [
    {
     "name": "stdout",
     "output_type": "stream",
     "text": [
      "('stackingestimator', StackingEstimator(estimator=GradientBoostingRegressor(alpha=0.9, criterion='friedman_mse', init=None,\n",
      "             learning_rate=0.1, loss='ls', max_depth=8, max_features=1.0,\n",
      "             max_leaf_nodes=None, min_impurity_decrease=0.0,\n",
      "             min_impurity_split=None, min_samples_leaf=16,\n",
      "             min_samples_split=4, min_weight_fraction_leaf=0.0,\n",
      "             n_estimators=100, presort='auto', random_state=None,\n",
      "             subsample=0.65, verbose=0, warm_start=False)))\n",
      "('randomforestregressor', RandomForestRegressor(bootstrap=False, criterion='mse', max_depth=None,\n",
      "           max_features=0.3, max_leaf_nodes=None,\n",
      "           min_impurity_decrease=0.0, min_impurity_split=None,\n",
      "           min_samples_leaf=7, min_samples_split=7,\n",
      "           min_weight_fraction_leaf=0.0, n_estimators=100, n_jobs=1,\n",
      "           oob_score=False, random_state=None, verbose=0, warm_start=False))\n",
      "    RMSE = 0.32\n",
      "    RMSE = 0.18\n",
      "    RMSE = 0.10\n"
     ]
    }
   ],
   "source": [
    "# Calculate errors and metrics\n",
    "errors = model.residuals[('CO',)]['test']\n",
    "zeros = np.zeros(errors.shape[0])\n",
    "rmse = np.sqrt(metrics.mean_squared_error(zeros, errors))\n",
    "mae = metrics.mean_absolute_error(zeros, errors)\n",
    "mad = metrics.median_absolute_error(zeros, errors)\n",
    "\n",
    "# Report pipeline and metrics\n",
    "for step in model.models[('CO',)].steps:\n",
    "    print(step)\n",
    "print('    RMSE = %.2f' % rmse)\n",
    "print('    RMSE = %.2f' % mae)\n",
    "print('    RMSE = %.2f' % mad)"
   ]
  },
  {
   "cell_type": "markdown",
   "metadata": {},
   "source": [
    "## Extended\n",
    "Let's run a single TPOT on all of our data and let it go for awhile. We'll use the final pipeline setup as the skeleton for SigOpt to start with. Note that since this takes awhile, we actualy ran this via Python/Shell/SLURM, not Jupyter. The CV score that TPOT reported for this one was 0.109350437412, which does not seem much better than the 0.116494047003 we got with only 1 generation and population of 16"
   ]
  },
  {
   "cell_type": "code",
   "execution_count": null,
   "metadata": {},
   "outputs": [],
   "source": [
    "train_size = 1.\n",
    "tpot_generations = 25\n",
    "tpot_population = 64\n",
    "tpot_offspring = 64\n",
    "\n",
    "# Fit\n",
    "tpot = TPOTRegressor(generations=tpot_generations,\n",
    "                     population_size=tpot_population,\n",
    "                     offspring_size=tpot_offspring,\n",
    "                     verbosity=tpot_verbosity,\n",
    "                     random_state=random_state,\n",
    "                     n_jobs=n_jobs)\n",
    "model = GASpyRegressor(features=features, responses=responses,\n",
    "                       blocks=blocks, vasp_settings=VASP_SETTINGS,\n",
    "                       train_size=train_size, dev_size=dev_size,\n",
    "                       dim_red=dim_red)\n",
    "model.fit_tpot(tpot, model_name=model_name, blocks=fit_blocks)\n",
    "\n",
    "# Save\n",
    "with open('model.pkl', 'w') as file_handle:\n",
    "    pickle.dump(model, file_handle)"
   ]
  },
  {
   "cell_type": "code",
   "execution_count": null,
   "metadata": {},
   "outputs": [],
   "source": [
    "# Load\n",
    "with open('model.pkl', 'r') as file_handle:\n",
    "    model = pickle.load(file_handle)"
   ]
  },
  {
   "cell_type": "code",
   "execution_count": null,
   "metadata": {},
   "outputs": [],
   "source": [
    "# Report pipeline\n",
    "for step in model.models[('CO',)].steps:\n",
    "    print(step)"
   ]
  },
  {
   "cell_type": "markdown",
   "metadata": {},
   "source": [
    "# SigOpt"
   ]
  },
  {
   "cell_type": "code",
   "execution_count": 2,
   "metadata": {},
   "outputs": [],
   "source": [
    "from sigopt_sklearn.search import SigOptSearchCV\n",
    "from sklearn.pipeline import make_pipeline, FeatureUnion\n",
    "from sklearn.preprocessing import FunctionTransformer\n",
    "from sklearn.decomposition import FastICA\n",
    "from tpot.builtins.stacking_estimator import StackingEstimator\n",
    "from sklearn.linear_model import ElasticNetCV\n",
    "from sklearn.ensemble import ExtraTreesRegressor, GradientBoostingRegressor, RandomForestRegressor"
   ]
  },
  {
   "cell_type": "markdown",
   "metadata": {},
   "source": [
    "## Pre-work"
   ]
  },
  {
   "cell_type": "code",
   "execution_count": 3,
   "metadata": {},
   "outputs": [],
   "source": [
    "import tqdm\n",
    "from gaspy import defaults, gasdb, utils\n",
    "from gaspy_regress.preprocessor import GASpyPreprocessor\n",
    "from pymatgen.matproj.rest import MPRester\n",
    "from sklearn.model_selection import train_test_split"
   ]
  },
  {
   "cell_type": "markdown",
   "metadata": {},
   "source": [
    "### Pull data"
   ]
  },
  {
   "cell_type": "code",
   "execution_count": 4,
   "metadata": {},
   "outputs": [
    {
     "name": "stdout",
     "output_type": "stream",
     "text": [
      "Starting to pull documents...\n"
     ]
    },
    {
     "name": "stderr",
     "output_type": "stream",
     "text": [
      "52328it [00:01, 35199.95it/s]\n",
      "/project/projectdirs/m2755/GASpy_conda/lib/python2.7/site-packages/pymatgen-2017.7.4-py2.7-linux-x86_64.egg/pymatgen/ext/matproj.py:106: UserWarning:\n",
      "\n",
      "If you query for structure data encoded using MP's Structure Notation Language (SNL) format and you use `mp_decode=True` (the default) for MPRester queries, you should install dependencies via `pip install pymatgen[matproj.snl]`.\n",
      "\n",
      "100%|██████████| 1312/1312 [03:03<00:00,  7.27it/s]\n"
     ]
    }
   ],
   "source": [
    "# Pull all of the documents and sort them by date\n",
    "fingerprints = defaults.fingerprints(simulated=True)\n",
    "fingerprints['symbols'] = '$atoms.chemical_symbols'  # needed for preprocessor\n",
    "docs = gasdb.get_docs(fingerprints=fingerprints, **defaults.doc_filters())\n",
    "docs = sorted(docs, key=lambda doc: doc['adslab_calculation_date'])\n",
    "\n",
    "# Let's just look at CO for this run\n",
    "docs = [doc for doc in docs if 'CO' in doc['adsorbates']]\n",
    "\n",
    "# Initialize a dictionary whose keys are the mpids we've studied\n",
    "# and whose values are their compositions. This can be used to filter\n",
    "# the documents\n",
    "mpids = set(doc['mpid'] for doc in docs)\n",
    "compositions_by_mpid = dict.fromkeys(mpids)\n",
    "# Open up MP connection\n",
    "mp_key = utils.read_rc('matproj_api_key')\n",
    "with MPRester(mp_key) as mp_db:\n",
    "    # Populate that dictionary, `compositions_by_mpid`\n",
    "    for mpid in tqdm.tqdm(mpids):\n",
    "        entry = mp_db.get_entry_by_material_id({'task_ids': mpid})\n",
    "        comp = set(entry.as_dict()['composition'].keys())\n",
    "        compositions_by_mpid[mpid] = set(comp)\n",
    "\n",
    "# Define the elements to exclude from our study\n",
    "excluded_elements = set(['Ca', 'Na', 'Nb', 'S', 'Se'])\n",
    "# Use the `compositions_by_mpid` dictionary to identify the mpid numbers to exclude.\n",
    "mpids_to_exclude = []\n",
    "for mpid, comp in compositions_by_mpid.iteritems():\n",
    "    if excluded_elements.intersection(comp):\n",
    "        mpids_to_exclude.append(mpid)\n",
    "mpids_to_exclude = set(mpids_to_exclude)\n",
    "\n",
    "# Finally, reconstruct docs to exclude the elements\n",
    "docs = [doc for doc in docs if doc['mpid'] not in mpids_to_exclude]\n",
    "# Add a key to the docs that we're probably going to need\n",
    "for i, doc in enumerate(docs):\n",
    "    ads = doc['adsorbates'][0]\n",
    "    docs[i]['adsorbate'] = ads"
   ]
  },
  {
   "cell_type": "markdown",
   "metadata": {},
   "source": [
    "### Fit the preprocessor"
   ]
  },
  {
   "cell_type": "code",
   "execution_count": 6,
   "metadata": {},
   "outputs": [
    {
     "name": "stderr",
     "output_type": "stream",
     "text": [
      "/project/projectdirs/m2755/GASpy_conda/lib/python2.7/site-packages/sklearn/model_selection/_split.py:2026: FutureWarning:\n",
      "\n",
      "From version 0.21, test_size will always complement train_size unless both are specified.\n",
      "\n"
     ]
    }
   ],
   "source": [
    "# Settings\n",
    "train_size = 0.9\n",
    "features = ['coordatoms_chemfp0', 'neighbors_chemfp0']\n",
    "dim_red = 'pca'\n",
    "\n",
    "# Split into train/test\n",
    "docs_train, docs_test = train_test_split(docs, train_size=train_size)\n",
    "y = np.array([doc['energy'] for doc in docs])\n",
    "y_train = np.array([doc['energy'] for doc in docs_train])\n",
    "y_test = np.array([doc['energy'] for doc in docs_test])\n",
    "\n",
    "# Make the preprocessor and then use it to get the x train/test data\n",
    "pp = GASpyPreprocessor(docs=docs_train, features=features, dim_red=dim_red)\n",
    "x = pp.transform(docs)\n",
    "x_train = pp.transform(docs_train)\n",
    "x_test = pp.transform(docs_test)"
   ]
  },
  {
   "cell_type": "markdown",
   "metadata": {},
   "source": [
    "## The \"simple\" pipeline"
   ]
  },
  {
   "cell_type": "code",
   "execution_count": null,
   "metadata": {},
   "outputs": [],
   "source": [
    "#gbr = GradientBoostingRegressor(alpha=0.9, criterion='friedman_mse', init=None,\n",
    "#                                learning_rate=0.1, loss='ls', max_depth=8,\n",
    "#                                max_features=1.0, max_leaf_nodes=None,\n",
    "#                                min_impurity_decrease=0.0, min_impurity_split=None,\n",
    "#                                min_samples_leaf=16, min_samples_split=4,\n",
    "#                                min_weight_fraction_leaf=0.0, n_estimators=100,\n",
    "#                                presort='auto', random_state=None, subsample=0.65,\n",
    "#                                verbose=0, warm_start=False)\n",
    "#stacking_est = StackingEstimator(estimator=gbr)\n",
    "## Step 2\n",
    "#rfr = RandomForestRegressor(bootstrap=False, criterion='mse', max_depth=None,\n",
    "#                            max_features=0.3, max_leaf_nodes=None,\n",
    "#                            min_impurity_decrease=0.0, min_impurity_split=None,\n",
    "#                            min_samples_leaf=7, min_samples_split=7,\n",
    "#                            min_weight_fraction_leaf=0.0, n_estimators=100, n_jobs=1,\n",
    "#                            oob_score=False, random_state=None, verbose=0, warm_start=False)\n",
    "## Create pipeline\n",
    "#pipeline = make_pipeline(stacking_est, rfr)"
   ]
  },
  {
   "cell_type": "markdown",
   "metadata": {},
   "source": [
    "## The \"complicated\" pipeline"
   ]
  },
  {
   "cell_type": "code",
   "execution_count": null,
   "metadata": {},
   "outputs": [],
   "source": [
    "## Parameters. The ranges were taken from tpot.config.regressor\n",
    "#sigopt_params = {'ica_tol': (0.0, 1.01),\n",
    "#                 'elastic_net_l1': (0.0, 1.01),\n",
    "#                 'elastic_net_tol': (1e-5, 1e-1),\n",
    "#                 'extra_trees_max_features': (0.05, 1.01),\n",
    "#                 'extra_trees_min_samples_split': (2, 21),\n",
    "#                 'extra_trees_min_samples_leaf': (1, 21),\n",
    "#                 'extra_trees_bootstrap': [True, False] }\n",
    "#\n",
    "## First step in the pipeline\n",
    "## The big pipeline uses some function that I don't really know about.\n",
    "## Let's simply pull the function out and use it, eh?\n",
    "#func = model.models[('CO',)].steps[0][1].get_params()['functiontransformer'].func\n",
    "#func_trans = FunctionTransformer(accept_sparse=False, func=func,\n",
    "#                                 inv_kw_args=None, inverse_func=None,\n",
    "#                                 kw_args=None, pass_y='deprecated',\n",
    "#                                 validate=True)\n",
    "#fast_ica = FastICA(algorithm='parallel', fun='logcosh', fun_args=None,\n",
    "#                   max_iter=200, n_components=None, random_state=None,\n",
    "#                   tol=0.05, w_init=None, whiten=True)\n",
    "#feat_union = FeatureUnion(n_jobs=1,\n",
    "#                          transformer_list=[('functiontransformer', func_trans),\n",
    "#                                            ('fastica', fast_ica)],\n",
    "#                          transformer_weights=None)\n",
    "#\n",
    "## Second step\n",
    "#elastic_net = ElasticNetCV(alphas=None, copy_X=True, cv=None, eps=0.001,\n",
    "#                           fit_intercept=True, l1_ratio=0.4, max_iter=1000,\n",
    "#                           n_alphas=100, n_jobs=1, normalize=False,\n",
    "#                           positive=False, precompute='auto', random_state=None,\n",
    "#                           selection='cyclic', tol=0.001, verbose=0)\n",
    "#stacking_est = StackingEstimator(estimator=elastic_net)\n",
    "#\n",
    "## Third step\n",
    "#extra_trees = ExtraTreesRegressor(bootstrap=False, criterion='mse', max_depth=None,\n",
    "#                                  max_features=1.0, max_leaf_nodes=None,\n",
    "#                                  min_impurity_decrease=0.0, min_impurity_split=None,\n",
    "#                                  min_samples_leaf=1, min_samples_split=12,\n",
    "#                                  min_weight_fraction_leaf=0.0, n_estimators=100,\n",
    "#                                  n_jobs=1, oob_score=False, random_state=None,\n",
    "#                                  verbose=0, warm_start=False)\n",
    "#\n",
    "## Make the pipeline\n",
    "#pipeline = make_pipeline(feat_union, stacking_est, extra_trees)"
   ]
  },
  {
   "cell_type": "markdown",
   "metadata": {},
   "source": [
    "## Just a random forest\n",
    "It turns out the SigOpt API isn't really configured to optimize pipelines quite yet... woops. Let's just use a single layer RandomForest, which showed up once in awhile in the convergence testing."
   ]
  },
  {
   "cell_type": "code",
   "execution_count": 17,
   "metadata": {},
   "outputs": [
    {
     "name": "stdout",
     "output_type": "stream",
     "text": [
      "Creating SigOpt experiment:  RandomForestRegressor (sklearn)\n",
      "Experiment progress available at : https://sigopt.com/experiment/47114\n",
      "Evaluating params :  [{'max_features': 0.32708070807579925, 'min_samples_split': 14, 'min_samples_leaf': 3}, {'max_features': 0.32708070807579925, 'min_samples_split': 14, 'min_samples_leaf': 3}, {'max_features': 0.32708070807579925, 'min_samples_split': 14, 'min_samples_leaf': 3}, {'max_features': 0.32708070807579925, 'min_samples_split': 14, 'min_samples_leaf': 3}, {'max_features': 0.32708070807579925, 'min_samples_split': 14, 'min_samples_leaf': 3}, {'max_features': 0.8060371502412993, 'min_samples_split': 11, 'min_samples_leaf': 18}, {'max_features': 0.8060371502412993, 'min_samples_split': 11, 'min_samples_leaf': 18}, {'max_features': 0.8060371502412993, 'min_samples_split': 11, 'min_samples_leaf': 18}, {'max_features': 0.8060371502412993, 'min_samples_split': 11, 'min_samples_leaf': 18}, {'max_features': 0.8060371502412993, 'min_samples_split': 11, 'min_samples_leaf': 18}]\n",
      "[CV] max_features=0.327080708076, min_samples_split=14, min_samples_leaf=3 \n",
      "[CV] max_features=0.327080708076, min_samples_split=14, min_samples_leaf=3 \n",
      "[CV] max_features=0.327080708076, min_samples_split=14, min_samples_leaf=3 \n",
      "[CV] max_features=0.327080708076, min_samples_split=14, min_samples_leaf=3 \n",
      "[CV] max_features=0.327080708076, min_samples_split=14, min_samples_leaf=3 \n",
      "[CV] max_features=0.806037150241, min_samples_split=11, min_samples_leaf=18 \n",
      "[CV] max_features=0.806037150241, min_samples_split=11, min_samples_leaf=18 \n",
      "[CV] max_features=0.806037150241, min_samples_split=11, min_samples_leaf=18 \n",
      "[CV] max_features=0.806037150241, min_samples_split=11, min_samples_leaf=18 \n",
      "[CV] max_features=0.806037150241, min_samples_split=11, min_samples_leaf=18 \n",
      "[CV]  max_features=0.327080708076, min_samples_split=14, min_samples_leaf=3, total=   0.7s\n",
      "[CV]  max_features=0.327080708076, min_samples_split=14, min_samples_leaf=3, total=   0.7s\n",
      "[CV]  max_features=0.327080708076, min_samples_split=14, min_samples_leaf=3, total=   0.7s\n",
      "[CV]  max_features=0.327080708076, min_samples_split=14, min_samples_leaf=3, total=   0.7s\n",
      "[CV]  max_features=0.327080708076, min_samples_split=14, min_samples_leaf=3, total=   0.7s\n"
     ]
    },
    {
     "name": "stderr",
     "output_type": "stream",
     "text": [
      "[Parallel(n_jobs=16)]: Done   3 out of  10 | elapsed:    0.8s remaining:    1.8s\n"
     ]
    },
    {
     "name": "stdout",
     "output_type": "stream",
     "text": [
      "[CV]  max_features=0.806037150241, min_samples_split=11, min_samples_leaf=18, total=   1.2s\n",
      "[CV]  max_features=0.806037150241, min_samples_split=11, min_samples_leaf=18, total=   1.2s\n",
      "[CV]  max_features=0.806037150241, min_samples_split=11, min_samples_leaf=18, total=   1.2s\n",
      "[CV]  max_features=0.806037150241, min_samples_split=11, min_samples_leaf=18, total=   1.2s\n",
      "[CV]  max_features=0.806037150241, min_samples_split=11, min_samples_leaf=18, total=   1.2s\n"
     ]
    },
    {
     "name": "stderr",
     "output_type": "stream",
     "text": [
      "[Parallel(n_jobs=16)]: Done  10 out of  10 | elapsed:    1.3s finished\n"
     ]
    },
    {
     "name": "stdout",
     "output_type": "stream",
     "text": [
      "Evaluating params :  [{'max_features': 0.07440383037050452, 'min_samples_split': 18, 'min_samples_leaf': 14}, {'max_features': 0.07440383037050452, 'min_samples_split': 18, 'min_samples_leaf': 14}, {'max_features': 0.07440383037050452, 'min_samples_split': 18, 'min_samples_leaf': 14}, {'max_features': 0.07440383037050452, 'min_samples_split': 18, 'min_samples_leaf': 14}, {'max_features': 0.07440383037050452, 'min_samples_split': 18, 'min_samples_leaf': 14}, {'max_features': 0.6998616721279795, 'min_samples_split': 5, 'min_samples_leaf': 8}, {'max_features': 0.6998616721279795, 'min_samples_split': 5, 'min_samples_leaf': 8}, {'max_features': 0.6998616721279795, 'min_samples_split': 5, 'min_samples_leaf': 8}, {'max_features': 0.6998616721279795, 'min_samples_split': 5, 'min_samples_leaf': 8}, {'max_features': 0.6998616721279795, 'min_samples_split': 5, 'min_samples_leaf': 8}]\n",
      "[CV] max_features=0.0744038303705, min_samples_split=18, min_samples_leaf=14 \n",
      "[CV] max_features=0.0744038303705, min_samples_split=18, min_samples_leaf=14 \n",
      "[CV] max_features=0.0744038303705, min_samples_split=18, min_samples_leaf=14 \n",
      "[CV] max_features=0.0744038303705, min_samples_split=18, min_samples_leaf=14 \n",
      "[CV] max_features=0.0744038303705, min_samples_split=18, min_samples_leaf=14 \n",
      "[CV] max_features=0.699861672128, min_samples_split=5, min_samples_leaf=8 \n",
      "[CV] max_features=0.699861672128, min_samples_split=5, min_samples_leaf=8 \n",
      "[CV] max_features=0.699861672128, min_samples_split=5, min_samples_leaf=8 \n",
      "[CV] max_features=0.699861672128, min_samples_split=5, min_samples_leaf=8 \n",
      "[CV] max_features=0.699861672128, min_samples_split=5, min_samples_leaf=8 \n",
      "[CV]  max_features=0.0744038303705, min_samples_split=18, min_samples_leaf=14, total=   0.2s\n",
      "[CV]  max_features=0.0744038303705, min_samples_split=18, min_samples_leaf=14, total=   0.2s\n",
      "[CV]  max_features=0.0744038303705, min_samples_split=18, min_samples_leaf=14, total=   0.2s\n",
      "[CV]  max_features=0.0744038303705, min_samples_split=18, min_samples_leaf=14, total=   0.2s\n",
      "[CV]  max_features=0.0744038303705, min_samples_split=18, min_samples_leaf=14, total=   0.2s\n"
     ]
    },
    {
     "name": "stderr",
     "output_type": "stream",
     "text": [
      "[Parallel(n_jobs=16)]: Done   3 out of  10 | elapsed:    0.2s remaining:    0.5s\n"
     ]
    },
    {
     "name": "stdout",
     "output_type": "stream",
     "text": [
      "[CV]  max_features=0.699861672128, min_samples_split=5, min_samples_leaf=8, total=   1.2s\n",
      "[CV]  max_features=0.699861672128, min_samples_split=5, min_samples_leaf=8, total=   1.2s\n",
      "[CV]  max_features=0.699861672128, min_samples_split=5, min_samples_leaf=8, total=   1.2s\n",
      "[CV]  max_features=0.699861672128, min_samples_split=5, min_samples_leaf=8, total=   1.2s\n",
      "[CV]  max_features=0.699861672128, min_samples_split=5, min_samples_leaf=8, total=   1.2s\n"
     ]
    },
    {
     "name": "stderr",
     "output_type": "stream",
     "text": [
      "[Parallel(n_jobs=16)]: Done  10 out of  10 | elapsed:    1.3s finished\n"
     ]
    },
    {
     "name": "stdout",
     "output_type": "stream",
     "text": [
      "Evaluating params :  [{'max_features': 0.8217681407510725, 'min_samples_split': 8, 'min_samples_leaf': 8}, {'max_features': 0.8217681407510725, 'min_samples_split': 8, 'min_samples_leaf': 8}, {'max_features': 0.8217681407510725, 'min_samples_split': 8, 'min_samples_leaf': 8}, {'max_features': 0.8217681407510725, 'min_samples_split': 8, 'min_samples_leaf': 8}, {'max_features': 0.8217681407510725, 'min_samples_split': 8, 'min_samples_leaf': 8}, {'max_features': 0.7067276641944258, 'min_samples_split': 7, 'min_samples_leaf': 11}, {'max_features': 0.7067276641944258, 'min_samples_split': 7, 'min_samples_leaf': 11}, {'max_features': 0.7067276641944258, 'min_samples_split': 7, 'min_samples_leaf': 11}, {'max_features': 0.7067276641944258, 'min_samples_split': 7, 'min_samples_leaf': 11}, {'max_features': 0.7067276641944258, 'min_samples_split': 7, 'min_samples_leaf': 11}]\n",
      "[CV] max_features=0.821768140751, min_samples_split=8, min_samples_leaf=8 \n",
      "[CV] max_features=0.821768140751, min_samples_split=8, min_samples_leaf=8 \n",
      "[CV] max_features=0.821768140751, min_samples_split=8, min_samples_leaf=8 \n",
      "[CV] max_features=0.821768140751, min_samples_split=8, min_samples_leaf=8 \n",
      "[CV] max_features=0.821768140751, min_samples_split=8, min_samples_leaf=8 \n",
      "[CV] max_features=0.706727664194, min_samples_split=7, min_samples_leaf=11 \n",
      "[CV] max_features=0.706727664194, min_samples_split=7, min_samples_leaf=11 \n",
      "[CV] max_features=0.706727664194, min_samples_split=7, min_samples_leaf=11 \n",
      "[CV] max_features=0.706727664194, min_samples_split=7, min_samples_leaf=11 \n",
      "[CV] max_features=0.706727664194, min_samples_split=7, min_samples_leaf=11 \n",
      "[CV]  max_features=0.706727664194, min_samples_split=7, min_samples_leaf=11, total=   1.1s\n",
      "[CV]  max_features=0.706727664194, min_samples_split=7, min_samples_leaf=11, total=   1.1s\n",
      "[CV]  max_features=0.706727664194, min_samples_split=7, min_samples_leaf=11, total=   1.2s\n",
      "[CV]  max_features=0.706727664194, min_samples_split=7, min_samples_leaf=11, total=   1.1s\n",
      "[CV]  max_features=0.706727664194, min_samples_split=7, min_samples_leaf=11, total=   1.2s\n",
      "[CV]  max_features=0.821768140751, min_samples_split=8, min_samples_leaf=8, total=   1.3s\n",
      "[CV]  max_features=0.821768140751, min_samples_split=8, min_samples_leaf=8, total=   1.3s\n",
      "[CV]  max_features=0.821768140751, min_samples_split=8, min_samples_leaf=8, total=   1.4s\n"
     ]
    },
    {
     "name": "stderr",
     "output_type": "stream",
     "text": [
      "[Parallel(n_jobs=16)]: Done   3 out of  10 | elapsed:    1.2s remaining:    2.9s\n"
     ]
    },
    {
     "name": "stdout",
     "output_type": "stream",
     "text": [
      "[CV]  max_features=0.821768140751, min_samples_split=8, min_samples_leaf=8, total=   1.4s\n",
      "[CV]  max_features=0.821768140751, min_samples_split=8, min_samples_leaf=8, total=   1.4s\n"
     ]
    },
    {
     "name": "stderr",
     "output_type": "stream",
     "text": [
      "[Parallel(n_jobs=16)]: Done  10 out of  10 | elapsed:    1.5s finished\n"
     ]
    },
    {
     "name": "stdout",
     "output_type": "stream",
     "text": [
      "Evaluating params :  [{'max_features': 0.8931664706361363, 'min_samples_split': 19, 'min_samples_leaf': 5}, {'max_features': 0.8931664706361363, 'min_samples_split': 19, 'min_samples_leaf': 5}, {'max_features': 0.8931664706361363, 'min_samples_split': 19, 'min_samples_leaf': 5}, {'max_features': 0.8931664706361363, 'min_samples_split': 19, 'min_samples_leaf': 5}, {'max_features': 0.8931664706361363, 'min_samples_split': 19, 'min_samples_leaf': 5}, {'max_features': 0.7176371634407586, 'min_samples_split': 8, 'min_samples_leaf': 18}, {'max_features': 0.7176371634407586, 'min_samples_split': 8, 'min_samples_leaf': 18}, {'max_features': 0.7176371634407586, 'min_samples_split': 8, 'min_samples_leaf': 18}, {'max_features': 0.7176371634407586, 'min_samples_split': 8, 'min_samples_leaf': 18}, {'max_features': 0.7176371634407586, 'min_samples_split': 8, 'min_samples_leaf': 18}]\n",
      "[CV] max_features=0.893166470636, min_samples_split=19, min_samples_leaf=5 \n",
      "[CV] max_features=0.893166470636, min_samples_split=19, min_samples_leaf=5 \n",
      "[CV] max_features=0.893166470636, min_samples_split=19, min_samples_leaf=5 \n",
      "[CV] max_features=0.893166470636, min_samples_split=19, min_samples_leaf=5 \n",
      "[CV] max_features=0.893166470636, min_samples_split=19, min_samples_leaf=5 \n",
      "[CV] max_features=0.717637163441, min_samples_split=8, min_samples_leaf=18 \n",
      "[CV] max_features=0.717637163441, min_samples_split=8, min_samples_leaf=18 \n",
      "[CV] max_features=0.717637163441, min_samples_split=8, min_samples_leaf=18 \n",
      "[CV] max_features=0.717637163441, min_samples_split=8, min_samples_leaf=18 \n",
      "[CV] max_features=0.717637163441, min_samples_split=8, min_samples_leaf=18 \n",
      "[CV]  max_features=0.717637163441, min_samples_split=8, min_samples_leaf=18, total=   1.0s\n",
      "[CV]  max_features=0.717637163441, min_samples_split=8, min_samples_leaf=18, total=   1.0s\n",
      "[CV]  max_features=0.717637163441, min_samples_split=8, min_samples_leaf=18, total=   1.0s\n",
      "[CV]  max_features=0.717637163441, min_samples_split=8, min_samples_leaf=18, total=   1.0s\n",
      "[CV]  max_features=0.717637163441, min_samples_split=8, min_samples_leaf=18, total=   1.1s\n"
     ]
    },
    {
     "name": "stderr",
     "output_type": "stream",
     "text": [
      "[Parallel(n_jobs=16)]: Done   3 out of  10 | elapsed:    1.1s remaining:    2.6s\n"
     ]
    },
    {
     "name": "stdout",
     "output_type": "stream",
     "text": [
      "[CV]  max_features=0.893166470636, min_samples_split=19, min_samples_leaf=5, total=   1.5s\n",
      "[CV]  max_features=0.893166470636, min_samples_split=19, min_samples_leaf=5, total=   1.5s\n",
      "[CV]  max_features=0.893166470636, min_samples_split=19, min_samples_leaf=5, total=   1.6s\n",
      "[CV]  max_features=0.893166470636, min_samples_split=19, min_samples_leaf=5, total=   1.6s\n",
      "[CV]  max_features=0.893166470636, min_samples_split=19, min_samples_leaf=5, total=   1.6s\n"
     ]
    },
    {
     "name": "stderr",
     "output_type": "stream",
     "text": [
      "[Parallel(n_jobs=16)]: Done  10 out of  10 | elapsed:    1.6s finished\n"
     ]
    },
    {
     "name": "stdout",
     "output_type": "stream",
     "text": [
      "Evaluating params :  [{'max_features': 0.5954634881935978, 'min_samples_split': 19, 'min_samples_leaf': 12}, {'max_features': 0.5954634881935978, 'min_samples_split': 19, 'min_samples_leaf': 12}, {'max_features': 0.5954634881935978, 'min_samples_split': 19, 'min_samples_leaf': 12}, {'max_features': 0.5954634881935978, 'min_samples_split': 19, 'min_samples_leaf': 12}, {'max_features': 0.5954634881935978, 'min_samples_split': 19, 'min_samples_leaf': 12}, {'max_features': 0.4489812778779066, 'min_samples_split': 16, 'min_samples_leaf': 2}, {'max_features': 0.4489812778779066, 'min_samples_split': 16, 'min_samples_leaf': 2}, {'max_features': 0.4489812778779066, 'min_samples_split': 16, 'min_samples_leaf': 2}, {'max_features': 0.4489812778779066, 'min_samples_split': 16, 'min_samples_leaf': 2}, {'max_features': 0.4489812778779066, 'min_samples_split': 16, 'min_samples_leaf': 2}]\n",
      "[CV] max_features=0.595463488194, min_samples_split=19, min_samples_leaf=12 \n",
      "[CV] max_features=0.595463488194, min_samples_split=19, min_samples_leaf=12 \n",
      "[CV] max_features=0.595463488194, min_samples_split=19, min_samples_leaf=12 \n",
      "[CV] max_features=0.595463488194, min_samples_split=19, min_samples_leaf=12 \n",
      "[CV] max_features=0.595463488194, min_samples_split=19, min_samples_leaf=12 \n",
      "[CV] max_features=0.448981277878, min_samples_split=16, min_samples_leaf=2 \n",
      "[CV] max_features=0.448981277878, min_samples_split=16, min_samples_leaf=2 \n",
      "[CV] max_features=0.448981277878, min_samples_split=16, min_samples_leaf=2 \n",
      "[CV] max_features=0.448981277878, min_samples_split=16, min_samples_leaf=2 \n",
      "[CV] max_features=0.448981277878, min_samples_split=16, min_samples_leaf=2 \n",
      "[CV]  max_features=0.595463488194, min_samples_split=19, min_samples_leaf=12, total=   1.0s\n",
      "[CV]  max_features=0.448981277878, min_samples_split=16, min_samples_leaf=2, total=   1.0s\n",
      "[CV]  max_features=0.448981277878, min_samples_split=16, min_samples_leaf=2, total=   1.0s\n",
      "[CV]  max_features=0.448981277878, min_samples_split=16, min_samples_leaf=2, total=   1.0s\n",
      "[CV]  max_features=0.448981277878, min_samples_split=16, min_samples_leaf=2, total=   1.0s\n",
      "[CV]  max_features=0.448981277878, min_samples_split=16, min_samples_leaf=2, total=   1.0s\n",
      "[CV]  max_features=0.595463488194, min_samples_split=19, min_samples_leaf=12, total=   1.1s\n",
      "[CV]  max_features=0.595463488194, min_samples_split=19, min_samples_leaf=12, total=   1.1s\n",
      "[CV]  max_features=0.595463488194, min_samples_split=19, min_samples_leaf=12, total=   1.2s\n",
      "[CV]  max_features=0.595463488194, min_samples_split=19, min_samples_leaf=12, total=   1.2s\n"
     ]
    },
    {
     "name": "stderr",
     "output_type": "stream",
     "text": [
      "[Parallel(n_jobs=16)]: Done   3 out of  10 | elapsed:    1.1s remaining:    2.6s\n",
      "[Parallel(n_jobs=16)]: Done  10 out of  10 | elapsed:    1.3s finished\n"
     ]
    },
    {
     "name": "stdout",
     "output_type": "stream",
     "text": [
      "Evaluating params :  [{'max_features': 0.7488755292477665, 'min_samples_split': 9, 'min_samples_leaf': 6}, {'max_features': 0.7488755292477665, 'min_samples_split': 9, 'min_samples_leaf': 6}, {'max_features': 0.7488755292477665, 'min_samples_split': 9, 'min_samples_leaf': 6}, {'max_features': 0.7488755292477665, 'min_samples_split': 9, 'min_samples_leaf': 6}, {'max_features': 0.7488755292477665, 'min_samples_split': 9, 'min_samples_leaf': 6}, {'max_features': 0.1702265796227867, 'min_samples_split': 7, 'min_samples_leaf': 11}, {'max_features': 0.1702265796227867, 'min_samples_split': 7, 'min_samples_leaf': 11}, {'max_features': 0.1702265796227867, 'min_samples_split': 7, 'min_samples_leaf': 11}, {'max_features': 0.1702265796227867, 'min_samples_split': 7, 'min_samples_leaf': 11}, {'max_features': 0.1702265796227867, 'min_samples_split': 7, 'min_samples_leaf': 11}]\n",
      "[CV] max_features=0.748875529248, min_samples_split=9, min_samples_leaf=6 \n",
      "[CV] max_features=0.748875529248, min_samples_split=9, min_samples_leaf=6 \n",
      "[CV] max_features=0.748875529248, min_samples_split=9, min_samples_leaf=6 \n",
      "[CV] max_features=0.748875529248, min_samples_split=9, min_samples_leaf=6 \n",
      "[CV] max_features=0.748875529248, min_samples_split=9, min_samples_leaf=6 \n",
      "[CV] max_features=0.170226579623, min_samples_split=7, min_samples_leaf=11 \n",
      "[CV] max_features=0.170226579623, min_samples_split=7, min_samples_leaf=11 \n",
      "[CV] max_features=0.170226579623, min_samples_split=7, min_samples_leaf=11 \n",
      "[CV] max_features=0.170226579623, min_samples_split=7, min_samples_leaf=11 \n",
      "[CV] max_features=0.170226579623, min_samples_split=7, min_samples_leaf=11 \n",
      "[CV]  max_features=0.170226579623, min_samples_split=7, min_samples_leaf=11, total=   0.3s\n",
      "[CV]  max_features=0.170226579623, min_samples_split=7, min_samples_leaf=11, total=   0.4s\n",
      "[CV]  max_features=0.170226579623, min_samples_split=7, min_samples_leaf=11, total=   0.4s\n",
      "[CV]  max_features=0.170226579623, min_samples_split=7, min_samples_leaf=11, total=   0.3s\n",
      "[CV]  max_features=0.170226579623, min_samples_split=7, min_samples_leaf=11, total=   0.4s\n"
     ]
    },
    {
     "name": "stderr",
     "output_type": "stream",
     "text": [
      "[Parallel(n_jobs=16)]: Done   3 out of  10 | elapsed:    0.4s remaining:    1.0s\n"
     ]
    },
    {
     "name": "stdout",
     "output_type": "stream",
     "text": [
      "[CV]  max_features=0.748875529248, min_samples_split=9, min_samples_leaf=6, total=   1.3s\n",
      "[CV]  max_features=0.748875529248, min_samples_split=9, min_samples_leaf=6, total=   1.3s\n",
      "[CV]  max_features=0.748875529248, min_samples_split=9, min_samples_leaf=6, total=   1.3s\n",
      "[CV]  max_features=0.748875529248, min_samples_split=9, min_samples_leaf=6, total=   1.3s\n",
      "[CV]  max_features=0.748875529248, min_samples_split=9, min_samples_leaf=6, total=   1.3s\n"
     ]
    },
    {
     "name": "stderr",
     "output_type": "stream",
     "text": [
      "[Parallel(n_jobs=16)]: Done  10 out of  10 | elapsed:    1.4s finished\n"
     ]
    },
    {
     "name": "stdout",
     "output_type": "stream",
     "text": [
      "Evaluating params :  [{'max_features': 0.27049965650592506, 'min_samples_split': 14, 'min_samples_leaf': 18}, {'max_features': 0.27049965650592506, 'min_samples_split': 14, 'min_samples_leaf': 18}, {'max_features': 0.27049965650592506, 'min_samples_split': 14, 'min_samples_leaf': 18}, {'max_features': 0.27049965650592506, 'min_samples_split': 14, 'min_samples_leaf': 18}, {'max_features': 0.27049965650592506, 'min_samples_split': 14, 'min_samples_leaf': 18}, {'max_features': 0.530625183203959, 'min_samples_split': 12, 'min_samples_leaf': 19}, {'max_features': 0.530625183203959, 'min_samples_split': 12, 'min_samples_leaf': 19}, {'max_features': 0.530625183203959, 'min_samples_split': 12, 'min_samples_leaf': 19}, {'max_features': 0.530625183203959, 'min_samples_split': 12, 'min_samples_leaf': 19}, {'max_features': 0.530625183203959, 'min_samples_split': 12, 'min_samples_leaf': 19}]\n",
      "[CV] max_features=0.270499656506, min_samples_split=14, min_samples_leaf=18 \n",
      "[CV] max_features=0.270499656506, min_samples_split=14, min_samples_leaf=18 \n",
      "[CV] max_features=0.270499656506, min_samples_split=14, min_samples_leaf=18 \n",
      "[CV] max_features=0.270499656506, min_samples_split=14, min_samples_leaf=18 \n",
      "[CV] max_features=0.270499656506, min_samples_split=14, min_samples_leaf=18 \n",
      "[CV] max_features=0.530625183204, min_samples_split=12, min_samples_leaf=19 \n",
      "[CV] max_features=0.530625183204, min_samples_split=12, min_samples_leaf=19 \n",
      "[CV] max_features=0.530625183204, min_samples_split=12, min_samples_leaf=19 \n",
      "[CV] max_features=0.530625183204, min_samples_split=12, min_samples_leaf=19 \n",
      "[CV] max_features=0.530625183204, min_samples_split=12, min_samples_leaf=19 \n",
      "[CV]  max_features=0.270499656506, min_samples_split=14, min_samples_leaf=18, total=   0.5s\n",
      "[CV]  max_features=0.270499656506, min_samples_split=14, min_samples_leaf=18, total=   0.5s\n",
      "[CV]  max_features=0.270499656506, min_samples_split=14, min_samples_leaf=18, total=   0.5s\n",
      "[CV]  max_features=0.270499656506, min_samples_split=14, min_samples_leaf=18, total=   0.5s\n",
      "[CV]  max_features=0.270499656506, min_samples_split=14, min_samples_leaf=18, total=   0.5s\n"
     ]
    },
    {
     "name": "stderr",
     "output_type": "stream",
     "text": [
      "[Parallel(n_jobs=16)]: Done   3 out of  10 | elapsed:    0.5s remaining:    1.2s\n"
     ]
    },
    {
     "name": "stdout",
     "output_type": "stream",
     "text": [
      "[CV]  max_features=0.530625183204, min_samples_split=12, min_samples_leaf=19, total=   0.8s\n",
      "[CV]  max_features=0.530625183204, min_samples_split=12, min_samples_leaf=19, total=   0.8s\n",
      "[CV]  max_features=0.530625183204, min_samples_split=12, min_samples_leaf=19, total=   0.8s\n",
      "[CV]  max_features=0.530625183204, min_samples_split=12, min_samples_leaf=19, total=   0.8s\n",
      "[CV]  max_features=0.530625183204, min_samples_split=12, min_samples_leaf=19, total=   0.8s\n"
     ]
    },
    {
     "name": "stderr",
     "output_type": "stream",
     "text": [
      "[Parallel(n_jobs=16)]: Done  10 out of  10 | elapsed:    0.9s finished\n"
     ]
    },
    {
     "name": "stdout",
     "output_type": "stream",
     "text": [
      "Evaluating params :  [{'max_features': 0.1036949078048539, 'min_samples_split': 14, 'min_samples_leaf': 16}, {'max_features': 0.1036949078048539, 'min_samples_split': 14, 'min_samples_leaf': 16}, {'max_features': 0.1036949078048539, 'min_samples_split': 14, 'min_samples_leaf': 16}, {'max_features': 0.1036949078048539, 'min_samples_split': 14, 'min_samples_leaf': 16}, {'max_features': 0.1036949078048539, 'min_samples_split': 14, 'min_samples_leaf': 16}, {'max_features': 0.8877287161937311, 'min_samples_split': 12, 'min_samples_leaf': 9}, {'max_features': 0.8877287161937311, 'min_samples_split': 12, 'min_samples_leaf': 9}, {'max_features': 0.8877287161937311, 'min_samples_split': 12, 'min_samples_leaf': 9}, {'max_features': 0.8877287161937311, 'min_samples_split': 12, 'min_samples_leaf': 9}, {'max_features': 0.8877287161937311, 'min_samples_split': 12, 'min_samples_leaf': 9}]\n",
      "[CV] max_features=0.103694907805, min_samples_split=14, min_samples_leaf=16 \n",
      "[CV] max_features=0.103694907805, min_samples_split=14, min_samples_leaf=16 \n",
      "[CV] max_features=0.103694907805, min_samples_split=14, min_samples_leaf=16 \n",
      "[CV] max_features=0.103694907805, min_samples_split=14, min_samples_leaf=16 \n",
      "[CV] max_features=0.103694907805, min_samples_split=14, min_samples_leaf=16 \n",
      "[CV] max_features=0.887728716194, min_samples_split=12, min_samples_leaf=9 \n",
      "[CV] max_features=0.887728716194, min_samples_split=12, min_samples_leaf=9 \n",
      "[CV] max_features=0.887728716194, min_samples_split=12, min_samples_leaf=9 \n",
      "[CV] max_features=0.887728716194, min_samples_split=12, min_samples_leaf=9 \n",
      "[CV] max_features=0.887728716194, min_samples_split=12, min_samples_leaf=9 \n",
      "[CV]  max_features=0.103694907805, min_samples_split=14, min_samples_leaf=16, total=   0.2s\n",
      "[CV]  max_features=0.103694907805, min_samples_split=14, min_samples_leaf=16, total=   0.2s\n",
      "[CV]  max_features=0.103694907805, min_samples_split=14, min_samples_leaf=16, total=   0.2s\n",
      "[CV]  max_features=0.103694907805, min_samples_split=14, min_samples_leaf=16, total=   0.2s\n",
      "[CV]  max_features=0.103694907805, min_samples_split=14, min_samples_leaf=16, total=   0.2s\n"
     ]
    },
    {
     "name": "stderr",
     "output_type": "stream",
     "text": [
      "[Parallel(n_jobs=16)]: Done   3 out of  10 | elapsed:    0.3s remaining:    0.7s\n"
     ]
    },
    {
     "name": "stdout",
     "output_type": "stream",
     "text": [
      "[CV]  max_features=0.887728716194, min_samples_split=12, min_samples_leaf=9, total=   1.4s\n",
      "[CV]  max_features=0.887728716194, min_samples_split=12, min_samples_leaf=9, total=   1.4s\n",
      "[CV]  max_features=0.887728716194, min_samples_split=12, min_samples_leaf=9, total=   1.4s\n",
      "[CV]  max_features=0.887728716194, min_samples_split=12, min_samples_leaf=9, total=   1.4s\n",
      "[CV]  max_features=0.887728716194, min_samples_split=12, min_samples_leaf=9, total=   1.4s\n"
     ]
    },
    {
     "name": "stderr",
     "output_type": "stream",
     "text": [
      "[Parallel(n_jobs=16)]: Done  10 out of  10 | elapsed:    1.5s finished\n"
     ]
    },
    {
     "name": "stdout",
     "output_type": "stream",
     "text": [
      "Evaluating params :  [{'max_features': 0.4197133755895436, 'min_samples_split': 8, 'min_samples_leaf': 2}, {'max_features': 0.4197133755895436, 'min_samples_split': 8, 'min_samples_leaf': 2}, {'max_features': 0.4197133755895436, 'min_samples_split': 8, 'min_samples_leaf': 2}, {'max_features': 0.4197133755895436, 'min_samples_split': 8, 'min_samples_leaf': 2}, {'max_features': 0.4197133755895436, 'min_samples_split': 8, 'min_samples_leaf': 2}, {'max_features': 0.12671670389745313, 'min_samples_split': 10, 'min_samples_leaf': 17}, {'max_features': 0.12671670389745313, 'min_samples_split': 10, 'min_samples_leaf': 17}, {'max_features': 0.12671670389745313, 'min_samples_split': 10, 'min_samples_leaf': 17}, {'max_features': 0.12671670389745313, 'min_samples_split': 10, 'min_samples_leaf': 17}, {'max_features': 0.12671670389745313, 'min_samples_split': 10, 'min_samples_leaf': 17}]\n",
      "[CV] max_features=0.41971337559, min_samples_split=8, min_samples_leaf=2 \n",
      "[CV] max_features=0.41971337559, min_samples_split=8, min_samples_leaf=2 \n",
      "[CV] max_features=0.41971337559, min_samples_split=8, min_samples_leaf=2 \n",
      "[CV] max_features=0.41971337559, min_samples_split=8, min_samples_leaf=2 \n",
      "[CV] max_features=0.41971337559, min_samples_split=8, min_samples_leaf=2 \n",
      "[CV] max_features=0.126716703897, min_samples_split=10, min_samples_leaf=17 \n",
      "[CV] max_features=0.126716703897, min_samples_split=10, min_samples_leaf=17 \n",
      "[CV] max_features=0.126716703897, min_samples_split=10, min_samples_leaf=17 \n",
      "[CV] max_features=0.126716703897, min_samples_split=10, min_samples_leaf=17 \n",
      "[CV] max_features=0.126716703897, min_samples_split=10, min_samples_leaf=17 \n",
      "[CV]  max_features=0.126716703897, min_samples_split=10, min_samples_leaf=17, total=   0.3s\n",
      "[CV]  max_features=0.126716703897, min_samples_split=10, min_samples_leaf=17, total=   0.3s\n",
      "[CV]  max_features=0.126716703897, min_samples_split=10, min_samples_leaf=17, total=   0.3s\n",
      "[CV]  max_features=0.126716703897, min_samples_split=10, min_samples_leaf=17, total=   0.3s\n",
      "[CV]  max_features=0.126716703897, min_samples_split=10, min_samples_leaf=17, total=   0.3s\n"
     ]
    },
    {
     "name": "stderr",
     "output_type": "stream",
     "text": [
      "[Parallel(n_jobs=16)]: Done   3 out of  10 | elapsed:    0.4s remaining:    0.8s\n"
     ]
    },
    {
     "name": "stdout",
     "output_type": "stream",
     "text": [
      "[CV]  max_features=0.41971337559, min_samples_split=8, min_samples_leaf=2, total=   0.8s\n",
      "[CV]  max_features=0.41971337559, min_samples_split=8, min_samples_leaf=2, total=   0.8s\n",
      "[CV]  max_features=0.41971337559, min_samples_split=8, min_samples_leaf=2, total=   0.8s\n",
      "[CV]  max_features=0.41971337559, min_samples_split=8, min_samples_leaf=2, total=   0.8s\n",
      "[CV]  max_features=0.41971337559, min_samples_split=8, min_samples_leaf=2, total=   0.8s\n"
     ]
    },
    {
     "name": "stderr",
     "output_type": "stream",
     "text": [
      "[Parallel(n_jobs=16)]: Done  10 out of  10 | elapsed:    0.9s finished\n"
     ]
    },
    {
     "name": "stdout",
     "output_type": "stream",
     "text": [
      "Evaluating params :  [{'max_features': 0.111345126280447, 'min_samples_split': 19, 'min_samples_leaf': 15}, {'max_features': 0.111345126280447, 'min_samples_split': 19, 'min_samples_leaf': 15}, {'max_features': 0.111345126280447, 'min_samples_split': 19, 'min_samples_leaf': 15}, {'max_features': 0.111345126280447, 'min_samples_split': 19, 'min_samples_leaf': 15}, {'max_features': 0.111345126280447, 'min_samples_split': 19, 'min_samples_leaf': 15}, {'max_features': 0.524298425105282, 'min_samples_split': 6, 'min_samples_leaf': 13}, {'max_features': 0.524298425105282, 'min_samples_split': 6, 'min_samples_leaf': 13}, {'max_features': 0.524298425105282, 'min_samples_split': 6, 'min_samples_leaf': 13}, {'max_features': 0.524298425105282, 'min_samples_split': 6, 'min_samples_leaf': 13}, {'max_features': 0.524298425105282, 'min_samples_split': 6, 'min_samples_leaf': 13}]\n",
      "[CV] max_features=0.11134512628, min_samples_split=19, min_samples_leaf=15 \n",
      "[CV] max_features=0.11134512628, min_samples_split=19, min_samples_leaf=15 \n",
      "[CV] max_features=0.11134512628, min_samples_split=19, min_samples_leaf=15 \n",
      "[CV] max_features=0.11134512628, min_samples_split=19, min_samples_leaf=15 \n",
      "[CV] max_features=0.11134512628, min_samples_split=19, min_samples_leaf=15 \n",
      "[CV] max_features=0.524298425105, min_samples_split=6, min_samples_leaf=13 \n",
      "[CV] max_features=0.524298425105, min_samples_split=6, min_samples_leaf=13 \n",
      "[CV] max_features=0.524298425105, min_samples_split=6, min_samples_leaf=13 \n",
      "[CV] max_features=0.524298425105, min_samples_split=6, min_samples_leaf=13 \n",
      "[CV] max_features=0.524298425105, min_samples_split=6, min_samples_leaf=13 \n",
      "[CV]  max_features=0.11134512628, min_samples_split=19, min_samples_leaf=15, total=   0.2s\n",
      "[CV]  max_features=0.11134512628, min_samples_split=19, min_samples_leaf=15, total=   0.2s\n",
      "[CV]  max_features=0.11134512628, min_samples_split=19, min_samples_leaf=15, total=   0.2s\n",
      "[CV]  max_features=0.11134512628, min_samples_split=19, min_samples_leaf=15, total=   0.2s\n",
      "[CV]  max_features=0.11134512628, min_samples_split=19, min_samples_leaf=15, total=   0.2s\n"
     ]
    },
    {
     "name": "stderr",
     "output_type": "stream",
     "text": [
      "[Parallel(n_jobs=16)]: Done   3 out of  10 | elapsed:    0.3s remaining:    0.7s\n"
     ]
    },
    {
     "name": "stdout",
     "output_type": "stream",
     "text": [
      "[CV]  max_features=0.524298425105, min_samples_split=6, min_samples_leaf=13, total=   0.8s\n",
      "[CV]  max_features=0.524298425105, min_samples_split=6, min_samples_leaf=13, total=   0.8s\n",
      "[CV]  max_features=0.524298425105, min_samples_split=6, min_samples_leaf=13, total=   0.8s\n",
      "[CV]  max_features=0.524298425105, min_samples_split=6, min_samples_leaf=13, total=   0.8s\n",
      "[CV]  max_features=0.524298425105, min_samples_split=6, min_samples_leaf=13, total=   0.8s\n"
     ]
    },
    {
     "name": "stderr",
     "output_type": "stream",
     "text": [
      "[Parallel(n_jobs=16)]: Done  10 out of  10 | elapsed:    0.9s finished\n"
     ]
    },
    {
     "name": "stdout",
     "output_type": "stream",
     "text": [
      "Evaluating params :  [{'max_features': 0.5926916162720759, 'min_samples_split': 20, 'min_samples_leaf': 14}, {'max_features': 0.5926916162720759, 'min_samples_split': 20, 'min_samples_leaf': 14}, {'max_features': 0.5926916162720759, 'min_samples_split': 20, 'min_samples_leaf': 14}, {'max_features': 0.5926916162720759, 'min_samples_split': 20, 'min_samples_leaf': 14}, {'max_features': 0.5926916162720759, 'min_samples_split': 20, 'min_samples_leaf': 14}, {'max_features': 0.4166959107458812, 'min_samples_split': 19, 'min_samples_leaf': 18}, {'max_features': 0.4166959107458812, 'min_samples_split': 19, 'min_samples_leaf': 18}, {'max_features': 0.4166959107458812, 'min_samples_split': 19, 'min_samples_leaf': 18}, {'max_features': 0.4166959107458812, 'min_samples_split': 19, 'min_samples_leaf': 18}, {'max_features': 0.4166959107458812, 'min_samples_split': 19, 'min_samples_leaf': 18}]\n",
      "[CV] max_features=0.592691616272, min_samples_split=20, min_samples_leaf=14 \n",
      "[CV] max_features=0.592691616272, min_samples_split=20, min_samples_leaf=14 \n",
      "[CV] max_features=0.592691616272, min_samples_split=20, min_samples_leaf=14 \n",
      "[CV] max_features=0.592691616272, min_samples_split=20, min_samples_leaf=14 \n",
      "[CV] max_features=0.592691616272, min_samples_split=20, min_samples_leaf=14 \n",
      "[CV] max_features=0.416695910746, min_samples_split=19, min_samples_leaf=18 \n",
      "[CV] max_features=0.416695910746, min_samples_split=19, min_samples_leaf=18 \n",
      "[CV] max_features=0.416695910746, min_samples_split=19, min_samples_leaf=18 \n",
      "[CV] max_features=0.416695910746, min_samples_split=19, min_samples_leaf=18 \n",
      "[CV] max_features=0.416695910746, min_samples_split=19, min_samples_leaf=18 \n",
      "[CV]  max_features=0.416695910746, min_samples_split=19, min_samples_leaf=18, total=   0.7s\n",
      "[CV]  max_features=0.416695910746, min_samples_split=19, min_samples_leaf=18, total=   0.7s\n",
      "[CV]  max_features=0.416695910746, min_samples_split=19, min_samples_leaf=18, total=   0.7s\n",
      "[CV]  max_features=0.416695910746, min_samples_split=19, min_samples_leaf=18, total=   0.7s\n",
      "[CV]  max_features=0.416695910746, min_samples_split=19, min_samples_leaf=18, total=   0.7s\n",
      "[CV]  max_features=0.592691616272, min_samples_split=20, min_samples_leaf=14, total=   0.9s\n",
      "[CV]  max_features=0.592691616272, min_samples_split=20, min_samples_leaf=14, total=   0.9s\n",
      "[CV]  max_features=0.592691616272, min_samples_split=20, min_samples_leaf=14, total=   0.9s\n"
     ]
    },
    {
     "name": "stderr",
     "output_type": "stream",
     "text": [
      "[Parallel(n_jobs=16)]: Done   3 out of  10 | elapsed:    0.8s remaining:    1.8s\n"
     ]
    },
    {
     "name": "stdout",
     "output_type": "stream",
     "text": [
      "[CV]  max_features=0.592691616272, min_samples_split=20, min_samples_leaf=14, total=   0.9s\n",
      "[CV]  max_features=0.592691616272, min_samples_split=20, min_samples_leaf=14, total=   0.9s\n"
     ]
    },
    {
     "name": "stderr",
     "output_type": "stream",
     "text": [
      "[Parallel(n_jobs=16)]: Done  10 out of  10 | elapsed:    1.0s finished\n"
     ]
    },
    {
     "name": "stdout",
     "output_type": "stream",
     "text": [
      "Evaluating params :  [{'max_features': 0.6328441396000941, 'min_samples_split': 17, 'min_samples_leaf': 19}, {'max_features': 0.6328441396000941, 'min_samples_split': 17, 'min_samples_leaf': 19}, {'max_features': 0.6328441396000941, 'min_samples_split': 17, 'min_samples_leaf': 19}, {'max_features': 0.6328441396000941, 'min_samples_split': 17, 'min_samples_leaf': 19}, {'max_features': 0.6328441396000941, 'min_samples_split': 17, 'min_samples_leaf': 19}, {'max_features': 0.5282922418089089, 'min_samples_split': 16, 'min_samples_leaf': 1}, {'max_features': 0.5282922418089089, 'min_samples_split': 16, 'min_samples_leaf': 1}, {'max_features': 0.5282922418089089, 'min_samples_split': 16, 'min_samples_leaf': 1}, {'max_features': 0.5282922418089089, 'min_samples_split': 16, 'min_samples_leaf': 1}, {'max_features': 0.5282922418089089, 'min_samples_split': 16, 'min_samples_leaf': 1}]\n",
      "[CV] max_features=0.6328441396, min_samples_split=17, min_samples_leaf=19 \n",
      "[CV] max_features=0.6328441396, min_samples_split=17, min_samples_leaf=19 \n",
      "[CV] max_features=0.6328441396, min_samples_split=17, min_samples_leaf=19 \n",
      "[CV] max_features=0.6328441396, min_samples_split=17, min_samples_leaf=19 \n",
      "[CV] max_features=0.6328441396, min_samples_split=17, min_samples_leaf=19 \n",
      "[CV] max_features=0.528292241809, min_samples_split=16, min_samples_leaf=1 \n",
      "[CV] max_features=0.528292241809, min_samples_split=16, min_samples_leaf=1 \n",
      "[CV] max_features=0.528292241809, min_samples_split=16, min_samples_leaf=1 \n",
      "[CV] max_features=0.528292241809, min_samples_split=16, min_samples_leaf=1 \n",
      "[CV] max_features=0.528292241809, min_samples_split=16, min_samples_leaf=1 \n",
      "[CV]  max_features=0.6328441396, min_samples_split=17, min_samples_leaf=19, total=   1.0s\n",
      "[CV]  max_features=0.6328441396, min_samples_split=17, min_samples_leaf=19, total=   1.0s\n",
      "[CV]  max_features=0.6328441396, min_samples_split=17, min_samples_leaf=19, total=   1.0s\n",
      "[CV]  max_features=0.6328441396, min_samples_split=17, min_samples_leaf=19, total=   1.0s\n",
      "[CV]  max_features=0.6328441396, min_samples_split=17, min_samples_leaf=19, total=   1.0s\n",
      "[CV]  max_features=0.528292241809, min_samples_split=16, min_samples_leaf=1, total=   1.0s\n",
      "[CV]  max_features=0.528292241809, min_samples_split=16, min_samples_leaf=1, total=   1.0s\n",
      "[CV]  max_features=0.528292241809, min_samples_split=16, min_samples_leaf=1, total=   1.0s\n",
      "[CV]  max_features=0.528292241809, min_samples_split=16, min_samples_leaf=1, total=   1.0s\n",
      "[CV]  max_features=0.528292241809, min_samples_split=16, min_samples_leaf=1, total=   1.0s\n"
     ]
    },
    {
     "name": "stderr",
     "output_type": "stream",
     "text": [
      "[Parallel(n_jobs=16)]: Done   3 out of  10 | elapsed:    1.0s remaining:    2.4s\n",
      "[Parallel(n_jobs=16)]: Done  10 out of  10 | elapsed:    1.2s finished\n"
     ]
    },
    {
     "name": "stdout",
     "output_type": "stream",
     "text": [
      "Evaluating params :  [{'max_features': 0.34941561027550083, 'min_samples_split': 16, 'min_samples_leaf': 7}, {'max_features': 0.34941561027550083, 'min_samples_split': 16, 'min_samples_leaf': 7}, {'max_features': 0.34941561027550083, 'min_samples_split': 16, 'min_samples_leaf': 7}, {'max_features': 0.34941561027550083, 'min_samples_split': 16, 'min_samples_leaf': 7}, {'max_features': 0.34941561027550083, 'min_samples_split': 16, 'min_samples_leaf': 7}, {'max_features': 0.36449908529367037, 'min_samples_split': 6, 'min_samples_leaf': 17}, {'max_features': 0.36449908529367037, 'min_samples_split': 6, 'min_samples_leaf': 17}, {'max_features': 0.36449908529367037, 'min_samples_split': 6, 'min_samples_leaf': 17}, {'max_features': 0.36449908529367037, 'min_samples_split': 6, 'min_samples_leaf': 17}, {'max_features': 0.36449908529367037, 'min_samples_split': 6, 'min_samples_leaf': 17}]\n",
      "[CV] max_features=0.349415610276, min_samples_split=16, min_samples_leaf=7 \n",
      "[CV] max_features=0.349415610276, min_samples_split=16, min_samples_leaf=7 \n",
      "[CV] max_features=0.349415610276, min_samples_split=16, min_samples_leaf=7 \n",
      "[CV] max_features=0.349415610276, min_samples_split=16, min_samples_leaf=7 \n",
      "[CV] max_features=0.349415610276, min_samples_split=16, min_samples_leaf=7 \n",
      "[CV] max_features=0.364499085294, min_samples_split=6, min_samples_leaf=17 \n",
      "[CV] max_features=0.364499085294, min_samples_split=6, min_samples_leaf=17 \n",
      "[CV] max_features=0.364499085294, min_samples_split=6, min_samples_leaf=17 \n",
      "[CV] max_features=0.364499085294, min_samples_split=6, min_samples_leaf=17 \n",
      "[CV] max_features=0.364499085294, min_samples_split=6, min_samples_leaf=17 \n",
      "[CV]  max_features=0.364499085294, min_samples_split=6, min_samples_leaf=17, total=   0.6s\n",
      "[CV]  max_features=0.364499085294, min_samples_split=6, min_samples_leaf=17, total=   0.6s\n",
      "[CV]  max_features=0.349415610276, min_samples_split=16, min_samples_leaf=7, total=   0.7s\n",
      "[CV]  max_features=0.349415610276, min_samples_split=16, min_samples_leaf=7, total=   0.6s\n",
      "[CV]  max_features=0.364499085294, min_samples_split=6, min_samples_leaf=17, total=   0.6s\n",
      "[CV]  max_features=0.349415610276, min_samples_split=16, min_samples_leaf=7, total=   0.6s\n",
      "[CV]  max_features=0.349415610276, min_samples_split=16, min_samples_leaf=7, total=   0.7s\n",
      "[CV]  max_features=0.364499085294, min_samples_split=6, min_samples_leaf=17, total=   0.6s\n",
      "[CV]  max_features=0.364499085294, min_samples_split=6, min_samples_leaf=17, total=   0.6s\n",
      "[CV]  max_features=0.349415610276, min_samples_split=16, min_samples_leaf=7, total=   0.7s\n"
     ]
    },
    {
     "name": "stderr",
     "output_type": "stream",
     "text": [
      "[Parallel(n_jobs=16)]: Done   3 out of  10 | elapsed:    0.7s remaining:    1.6s\n",
      "[Parallel(n_jobs=16)]: Done  10 out of  10 | elapsed:    0.8s finished\n"
     ]
    },
    {
     "name": "stdout",
     "output_type": "stream",
     "text": [
      "Evaluating params :  [{'max_features': 0.14075411659173465, 'min_samples_split': 17, 'min_samples_leaf': 14}, {'max_features': 0.14075411659173465, 'min_samples_split': 17, 'min_samples_leaf': 14}, {'max_features': 0.14075411659173465, 'min_samples_split': 17, 'min_samples_leaf': 14}, {'max_features': 0.14075411659173465, 'min_samples_split': 17, 'min_samples_leaf': 14}, {'max_features': 0.14075411659173465, 'min_samples_split': 17, 'min_samples_leaf': 14}, {'max_features': 0.9526331781857856, 'min_samples_split': 17, 'min_samples_leaf': 12}, {'max_features': 0.9526331781857856, 'min_samples_split': 17, 'min_samples_leaf': 12}, {'max_features': 0.9526331781857856, 'min_samples_split': 17, 'min_samples_leaf': 12}, {'max_features': 0.9526331781857856, 'min_samples_split': 17, 'min_samples_leaf': 12}, {'max_features': 0.9526331781857856, 'min_samples_split': 17, 'min_samples_leaf': 12}]\n",
      "[CV] max_features=0.140754116592, min_samples_split=17, min_samples_leaf=14 \n",
      "[CV] max_features=0.140754116592, min_samples_split=17, min_samples_leaf=14 \n",
      "[CV] max_features=0.140754116592, min_samples_split=17, min_samples_leaf=14 \n",
      "[CV] max_features=0.140754116592, min_samples_split=17, min_samples_leaf=14 \n",
      "[CV] max_features=0.140754116592, min_samples_split=17, min_samples_leaf=14 \n",
      "[CV] max_features=0.952633178186, min_samples_split=17, min_samples_leaf=12 \n",
      "[CV] max_features=0.952633178186, min_samples_split=17, min_samples_leaf=12 \n",
      "[CV] max_features=0.952633178186, min_samples_split=17, min_samples_leaf=12 \n",
      "[CV] max_features=0.952633178186, min_samples_split=17, min_samples_leaf=12 \n",
      "[CV] max_features=0.952633178186, min_samples_split=17, min_samples_leaf=12 \n",
      "[CV]  max_features=0.140754116592, min_samples_split=17, min_samples_leaf=14, total=   0.3s\n",
      "[CV]  max_features=0.140754116592, min_samples_split=17, min_samples_leaf=14, total=   0.2s\n",
      "[CV]  max_features=0.140754116592, min_samples_split=17, min_samples_leaf=14, total=   0.3s\n",
      "[CV]  max_features=0.140754116592, min_samples_split=17, min_samples_leaf=14, total=   0.2s\n",
      "[CV]  max_features=0.140754116592, min_samples_split=17, min_samples_leaf=14, total=   0.3s\n"
     ]
    },
    {
     "name": "stderr",
     "output_type": "stream",
     "text": [
      "[Parallel(n_jobs=16)]: Done   3 out of  10 | elapsed:    0.3s remaining:    0.7s\n"
     ]
    },
    {
     "name": "stdout",
     "output_type": "stream",
     "text": [
      "[CV]  max_features=0.952633178186, min_samples_split=17, min_samples_leaf=12, total=   1.4s\n",
      "[CV]  max_features=0.952633178186, min_samples_split=17, min_samples_leaf=12, total=   1.5s\n",
      "[CV]  max_features=0.952633178186, min_samples_split=17, min_samples_leaf=12, total=   1.5s\n",
      "[CV]  max_features=0.952633178186, min_samples_split=17, min_samples_leaf=12, total=   1.5s\n",
      "[CV]  max_features=0.952633178186, min_samples_split=17, min_samples_leaf=12, total=   1.5s\n"
     ]
    },
    {
     "name": "stderr",
     "output_type": "stream",
     "text": [
      "[Parallel(n_jobs=16)]: Done  10 out of  10 | elapsed:    1.7s finished\n"
     ]
    },
    {
     "name": "stdout",
     "output_type": "stream",
     "text": [
      "Evaluating params :  [{'max_features': 0.2828142040635882, 'min_samples_split': 6, 'min_samples_leaf': 6}, {'max_features': 0.2828142040635882, 'min_samples_split': 6, 'min_samples_leaf': 6}, {'max_features': 0.2828142040635882, 'min_samples_split': 6, 'min_samples_leaf': 6}, {'max_features': 0.2828142040635882, 'min_samples_split': 6, 'min_samples_leaf': 6}, {'max_features': 0.2828142040635882, 'min_samples_split': 6, 'min_samples_leaf': 6}, {'max_features': 0.88477617830907, 'min_samples_split': 16, 'min_samples_leaf': 13}, {'max_features': 0.88477617830907, 'min_samples_split': 16, 'min_samples_leaf': 13}, {'max_features': 0.88477617830907, 'min_samples_split': 16, 'min_samples_leaf': 13}, {'max_features': 0.88477617830907, 'min_samples_split': 16, 'min_samples_leaf': 13}, {'max_features': 0.88477617830907, 'min_samples_split': 16, 'min_samples_leaf': 13}]\n",
      "[CV] max_features=0.282814204064, min_samples_split=6, min_samples_leaf=6 \n",
      "[CV] max_features=0.282814204064, min_samples_split=6, min_samples_leaf=6 \n",
      "[CV] max_features=0.282814204064, min_samples_split=6, min_samples_leaf=6 \n",
      "[CV] max_features=0.282814204064, min_samples_split=6, min_samples_leaf=6 \n",
      "[CV] max_features=0.282814204064, min_samples_split=6, min_samples_leaf=6 \n",
      "[CV] max_features=0.884776178309, min_samples_split=16, min_samples_leaf=13 \n",
      "[CV] max_features=0.884776178309, min_samples_split=16, min_samples_leaf=13 \n",
      "[CV] max_features=0.884776178309, min_samples_split=16, min_samples_leaf=13 \n",
      "[CV] max_features=0.884776178309, min_samples_split=16, min_samples_leaf=13 \n",
      "[CV] max_features=0.884776178309, min_samples_split=16, min_samples_leaf=13 \n",
      "[CV]  max_features=0.282814204064, min_samples_split=6, min_samples_leaf=6, total=   0.5s\n",
      "[CV]  max_features=0.282814204064, min_samples_split=6, min_samples_leaf=6, total=   0.5s\n",
      "[CV]  max_features=0.282814204064, min_samples_split=6, min_samples_leaf=6, total=   0.6s\n",
      "[CV]  max_features=0.282814204064, min_samples_split=6, min_samples_leaf=6, total=   0.6s\n",
      "[CV]  max_features=0.282814204064, min_samples_split=6, min_samples_leaf=6, total=   0.6s\n"
     ]
    },
    {
     "name": "stderr",
     "output_type": "stream",
     "text": [
      "[Parallel(n_jobs=16)]: Done   3 out of  10 | elapsed:    0.6s remaining:    1.4s\n"
     ]
    },
    {
     "name": "stdout",
     "output_type": "stream",
     "text": [
      "[CV]  max_features=0.884776178309, min_samples_split=16, min_samples_leaf=13, total=   1.4s\n",
      "[CV]  max_features=0.884776178309, min_samples_split=16, min_samples_leaf=13, total=   1.4s\n",
      "[CV]  max_features=0.884776178309, min_samples_split=16, min_samples_leaf=13, total=   1.4s\n",
      "[CV]  max_features=0.884776178309, min_samples_split=16, min_samples_leaf=13, total=   1.4s\n",
      "[CV]  max_features=0.884776178309, min_samples_split=16, min_samples_leaf=13, total=   1.4s\n"
     ]
    },
    {
     "name": "stderr",
     "output_type": "stream",
     "text": [
      "[Parallel(n_jobs=16)]: Done  10 out of  10 | elapsed:    1.5s finished\n"
     ]
    },
    {
     "name": "stdout",
     "output_type": "stream",
     "text": [
      "Evaluating params :  [{'max_features': 0.21676211775440996, 'min_samples_split': 16, 'min_samples_leaf': 14}, {'max_features': 0.21676211775440996, 'min_samples_split': 16, 'min_samples_leaf': 14}, {'max_features': 0.21676211775440996, 'min_samples_split': 16, 'min_samples_leaf': 14}, {'max_features': 0.21676211775440996, 'min_samples_split': 16, 'min_samples_leaf': 14}, {'max_features': 0.21676211775440996, 'min_samples_split': 16, 'min_samples_leaf': 14}, {'max_features': 0.5481777116632465, 'min_samples_split': 3, 'min_samples_leaf': 1}, {'max_features': 0.5481777116632465, 'min_samples_split': 3, 'min_samples_leaf': 1}, {'max_features': 0.5481777116632465, 'min_samples_split': 3, 'min_samples_leaf': 1}, {'max_features': 0.5481777116632465, 'min_samples_split': 3, 'min_samples_leaf': 1}, {'max_features': 0.5481777116632465, 'min_samples_split': 3, 'min_samples_leaf': 1}]\n",
      "[CV] max_features=0.216762117754, min_samples_split=16, min_samples_leaf=14 \n",
      "[CV] max_features=0.216762117754, min_samples_split=16, min_samples_leaf=14 \n",
      "[CV] max_features=0.216762117754, min_samples_split=16, min_samples_leaf=14 \n",
      "[CV] max_features=0.216762117754, min_samples_split=16, min_samples_leaf=14 \n",
      "[CV] max_features=0.216762117754, min_samples_split=16, min_samples_leaf=14 \n",
      "[CV] max_features=0.548177711663, min_samples_split=3, min_samples_leaf=1 \n",
      "[CV] max_features=0.548177711663, min_samples_split=3, min_samples_leaf=1 \n",
      "[CV] max_features=0.548177711663, min_samples_split=3, min_samples_leaf=1 \n",
      "[CV] max_features=0.548177711663, min_samples_split=3, min_samples_leaf=1 \n",
      "[CV] max_features=0.548177711663, min_samples_split=3, min_samples_leaf=1 \n",
      "[CV]  max_features=0.216762117754, min_samples_split=16, min_samples_leaf=14, total=   0.3s\n",
      "[CV]  max_features=0.216762117754, min_samples_split=16, min_samples_leaf=14, total=   0.4s\n",
      "[CV]  max_features=0.216762117754, min_samples_split=16, min_samples_leaf=14, total=   0.4s\n",
      "[CV]  max_features=0.216762117754, min_samples_split=16, min_samples_leaf=14, total=   0.4s\n",
      "[CV]  max_features=0.216762117754, min_samples_split=16, min_samples_leaf=14, total=   0.4s\n"
     ]
    },
    {
     "name": "stderr",
     "output_type": "stream",
     "text": [
      "[Parallel(n_jobs=16)]: Done   3 out of  10 | elapsed:    0.5s remaining:    1.1s\n"
     ]
    },
    {
     "name": "stdout",
     "output_type": "stream",
     "text": [
      "[CV]  max_features=0.548177711663, min_samples_split=3, min_samples_leaf=1, total=   1.2s\n",
      "[CV]  max_features=0.548177711663, min_samples_split=3, min_samples_leaf=1, total=   1.2s\n",
      "[CV]  max_features=0.548177711663, min_samples_split=3, min_samples_leaf=1, total=   1.2s\n",
      "[CV]  max_features=0.548177711663, min_samples_split=3, min_samples_leaf=1, total=   1.2s\n",
      "[CV]  max_features=0.548177711663, min_samples_split=3, min_samples_leaf=1, total=   1.2s\n"
     ]
    },
    {
     "name": "stderr",
     "output_type": "stream",
     "text": [
      "[Parallel(n_jobs=16)]: Done  10 out of  10 | elapsed:    1.3s finished\n"
     ]
    },
    {
     "name": "stdout",
     "output_type": "stream",
     "text": [
      "Evaluating params :  [{'max_features': 0.9094945018547788, 'min_samples_split': 11, 'min_samples_leaf': 20}, {'max_features': 0.9094945018547788, 'min_samples_split': 11, 'min_samples_leaf': 20}, {'max_features': 0.9094945018547788, 'min_samples_split': 11, 'min_samples_leaf': 20}, {'max_features': 0.9094945018547788, 'min_samples_split': 11, 'min_samples_leaf': 20}, {'max_features': 0.9094945018547788, 'min_samples_split': 11, 'min_samples_leaf': 20}, {'max_features': 0.877725313065568, 'min_samples_split': 13, 'min_samples_leaf': 16}, {'max_features': 0.877725313065568, 'min_samples_split': 13, 'min_samples_leaf': 16}, {'max_features': 0.877725313065568, 'min_samples_split': 13, 'min_samples_leaf': 16}, {'max_features': 0.877725313065568, 'min_samples_split': 13, 'min_samples_leaf': 16}, {'max_features': 0.877725313065568, 'min_samples_split': 13, 'min_samples_leaf': 16}]\n",
      "[CV] max_features=0.909494501855, min_samples_split=11, min_samples_leaf=20 \n",
      "[CV] max_features=0.909494501855, min_samples_split=11, min_samples_leaf=20 \n",
      "[CV] max_features=0.909494501855, min_samples_split=11, min_samples_leaf=20 \n",
      "[CV] max_features=0.909494501855, min_samples_split=11, min_samples_leaf=20 \n",
      "[CV] max_features=0.909494501855, min_samples_split=11, min_samples_leaf=20 \n",
      "[CV] max_features=0.877725313066, min_samples_split=13, min_samples_leaf=16 \n",
      "[CV] max_features=0.877725313066, min_samples_split=13, min_samples_leaf=16 \n",
      "[CV] max_features=0.877725313066, min_samples_split=13, min_samples_leaf=16 \n",
      "[CV] max_features=0.877725313066, min_samples_split=13, min_samples_leaf=16 \n",
      "[CV] max_features=0.877725313066, min_samples_split=13, min_samples_leaf=16 \n",
      "[CV]  max_features=0.909494501855, min_samples_split=11, min_samples_leaf=20, total=   1.3s\n",
      "[CV]  max_features=0.909494501855, min_samples_split=11, min_samples_leaf=20, total=   1.3s\n",
      "[CV]  max_features=0.909494501855, min_samples_split=11, min_samples_leaf=20, total=   1.3s\n",
      "[CV]  max_features=0.909494501855, min_samples_split=11, min_samples_leaf=20, total=   1.3s\n",
      "[CV]  max_features=0.909494501855, min_samples_split=11, min_samples_leaf=20, total=   1.3s\n",
      "[CV]  max_features=0.877725313066, min_samples_split=13, min_samples_leaf=16, total=   1.3s\n",
      "[CV]  max_features=0.877725313066, min_samples_split=13, min_samples_leaf=16, total=   1.3s\n",
      "[CV]  max_features=0.877725313066, min_samples_split=13, min_samples_leaf=16, total=   1.3s\n",
      "[CV]  max_features=0.877725313066, min_samples_split=13, min_samples_leaf=16, total=   1.3s\n",
      "[CV]  max_features=0.877725313066, min_samples_split=13, min_samples_leaf=16, total=   1.3s\n"
     ]
    },
    {
     "name": "stderr",
     "output_type": "stream",
     "text": [
      "[Parallel(n_jobs=16)]: Done   3 out of  10 | elapsed:    1.4s remaining:    3.3s\n",
      "[Parallel(n_jobs=16)]: Done  10 out of  10 | elapsed:    1.5s finished\n"
     ]
    },
    {
     "name": "stdout",
     "output_type": "stream",
     "text": [
      "Evaluating params :  [{'max_features': 0.1182463919807812, 'min_samples_split': 4, 'min_samples_leaf': 21}, {'max_features': 0.1182463919807812, 'min_samples_split': 4, 'min_samples_leaf': 21}, {'max_features': 0.1182463919807812, 'min_samples_split': 4, 'min_samples_leaf': 21}, {'max_features': 0.1182463919807812, 'min_samples_split': 4, 'min_samples_leaf': 21}, {'max_features': 0.1182463919807812, 'min_samples_split': 4, 'min_samples_leaf': 21}, {'max_features': 0.6804531447440786, 'min_samples_split': 14, 'min_samples_leaf': 19}, {'max_features': 0.6804531447440786, 'min_samples_split': 14, 'min_samples_leaf': 19}, {'max_features': 0.6804531447440786, 'min_samples_split': 14, 'min_samples_leaf': 19}, {'max_features': 0.6804531447440786, 'min_samples_split': 14, 'min_samples_leaf': 19}, {'max_features': 0.6804531447440786, 'min_samples_split': 14, 'min_samples_leaf': 19}]\n",
      "[CV] max_features=0.118246391981, min_samples_split=4, min_samples_leaf=21 \n",
      "[CV] max_features=0.118246391981, min_samples_split=4, min_samples_leaf=21 \n",
      "[CV] max_features=0.118246391981, min_samples_split=4, min_samples_leaf=21 \n",
      "[CV] max_features=0.118246391981, min_samples_split=4, min_samples_leaf=21 \n",
      "[CV] max_features=0.118246391981, min_samples_split=4, min_samples_leaf=21 \n",
      "[CV] max_features=0.680453144744, min_samples_split=14, min_samples_leaf=19 \n",
      "[CV] max_features=0.680453144744, min_samples_split=14, min_samples_leaf=19 \n",
      "[CV] max_features=0.680453144744, min_samples_split=14, min_samples_leaf=19 \n",
      "[CV] max_features=0.680453144744, min_samples_split=14, min_samples_leaf=19 \n",
      "[CV] max_features=0.680453144744, min_samples_split=14, min_samples_leaf=19 \n",
      "[CV]  max_features=0.118246391981, min_samples_split=4, min_samples_leaf=21, total=   0.2s\n",
      "[CV]  max_features=0.118246391981, min_samples_split=4, min_samples_leaf=21, total=   0.2s\n",
      "[CV]  max_features=0.118246391981, min_samples_split=4, min_samples_leaf=21, total=   0.2s\n",
      "[CV]  max_features=0.118246391981, min_samples_split=4, min_samples_leaf=21, total=   0.2s\n",
      "[CV]  max_features=0.118246391981, min_samples_split=4, min_samples_leaf=21, total=   0.2s\n"
     ]
    },
    {
     "name": "stderr",
     "output_type": "stream",
     "text": [
      "[Parallel(n_jobs=16)]: Done   3 out of  10 | elapsed:    0.3s remaining:    0.7s\n"
     ]
    },
    {
     "name": "stdout",
     "output_type": "stream",
     "text": [
      "[CV]  max_features=0.680453144744, min_samples_split=14, min_samples_leaf=19, total=   1.0s\n",
      "[CV]  max_features=0.680453144744, min_samples_split=14, min_samples_leaf=19, total=   1.0s\n",
      "[CV]  max_features=0.680453144744, min_samples_split=14, min_samples_leaf=19, total=   1.0s\n",
      "[CV]  max_features=0.680453144744, min_samples_split=14, min_samples_leaf=19, total=   1.0s\n",
      "[CV]  max_features=0.680453144744, min_samples_split=14, min_samples_leaf=19, total=   1.0s\n"
     ]
    },
    {
     "name": "stderr",
     "output_type": "stream",
     "text": [
      "[Parallel(n_jobs=16)]: Done  10 out of  10 | elapsed:    1.1s finished\n"
     ]
    },
    {
     "name": "stdout",
     "output_type": "stream",
     "text": [
      "Evaluating params :  [{'max_features': 0.2137871689201145, 'min_samples_split': 9, 'min_samples_leaf': 2}, {'max_features': 0.2137871689201145, 'min_samples_split': 9, 'min_samples_leaf': 2}, {'max_features': 0.2137871689201145, 'min_samples_split': 9, 'min_samples_leaf': 2}, {'max_features': 0.2137871689201145, 'min_samples_split': 9, 'min_samples_leaf': 2}, {'max_features': 0.2137871689201145, 'min_samples_split': 9, 'min_samples_leaf': 2}, {'max_features': 0.6472817496109197, 'min_samples_split': 17, 'min_samples_leaf': 18}, {'max_features': 0.6472817496109197, 'min_samples_split': 17, 'min_samples_leaf': 18}, {'max_features': 0.6472817496109197, 'min_samples_split': 17, 'min_samples_leaf': 18}, {'max_features': 0.6472817496109197, 'min_samples_split': 17, 'min_samples_leaf': 18}, {'max_features': 0.6472817496109197, 'min_samples_split': 17, 'min_samples_leaf': 18}]\n",
      "[CV] max_features=0.21378716892, min_samples_split=9, min_samples_leaf=2 \n",
      "[CV] max_features=0.21378716892, min_samples_split=9, min_samples_leaf=2 \n",
      "[CV] max_features=0.21378716892, min_samples_split=9, min_samples_leaf=2 \n",
      "[CV] max_features=0.21378716892, min_samples_split=9, min_samples_leaf=2 \n",
      "[CV] max_features=0.21378716892, min_samples_split=9, min_samples_leaf=2 \n",
      "[CV] max_features=0.647281749611, min_samples_split=17, min_samples_leaf=18 \n",
      "[CV] max_features=0.647281749611, min_samples_split=17, min_samples_leaf=18 \n",
      "[CV] max_features=0.647281749611, min_samples_split=17, min_samples_leaf=18 \n",
      "[CV] max_features=0.647281749611, min_samples_split=17, min_samples_leaf=18 \n",
      "[CV] max_features=0.647281749611, min_samples_split=17, min_samples_leaf=18 \n",
      "[CV]  max_features=0.21378716892, min_samples_split=9, min_samples_leaf=2, total=   0.5s\n",
      "[CV]  max_features=0.21378716892, min_samples_split=9, min_samples_leaf=2, total=   0.5s\n",
      "[CV]  max_features=0.21378716892, min_samples_split=9, min_samples_leaf=2, total=   0.5s\n",
      "[CV]  max_features=0.21378716892, min_samples_split=9, min_samples_leaf=2, total=   0.5s\n",
      "[CV]  max_features=0.21378716892, min_samples_split=9, min_samples_leaf=2, total=   0.5s\n"
     ]
    },
    {
     "name": "stderr",
     "output_type": "stream",
     "text": [
      "[Parallel(n_jobs=16)]: Done   3 out of  10 | elapsed:    0.5s remaining:    1.2s\n"
     ]
    },
    {
     "name": "stdout",
     "output_type": "stream",
     "text": [
      "[CV]  max_features=0.647281749611, min_samples_split=17, min_samples_leaf=18, total=   1.0s\n",
      "[CV]  max_features=0.647281749611, min_samples_split=17, min_samples_leaf=18, total=   1.0s\n",
      "[CV]  max_features=0.647281749611, min_samples_split=17, min_samples_leaf=18, total=   1.0s\n",
      "[CV]  max_features=0.647281749611, min_samples_split=17, min_samples_leaf=18, total=   1.0s\n",
      "[CV]  max_features=0.647281749611, min_samples_split=17, min_samples_leaf=18, total=   1.0s\n"
     ]
    },
    {
     "name": "stderr",
     "output_type": "stream",
     "text": [
      "[Parallel(n_jobs=16)]: Done  10 out of  10 | elapsed:    1.1s finished\n"
     ]
    },
    {
     "name": "stdout",
     "output_type": "stream",
     "text": [
      "Evaluating params :  [{'max_features': 0.08073339952397299, 'min_samples_split': 2, 'min_samples_leaf': 15}, {'max_features': 0.08073339952397299, 'min_samples_split': 2, 'min_samples_leaf': 15}, {'max_features': 0.08073339952397299, 'min_samples_split': 2, 'min_samples_leaf': 15}, {'max_features': 0.08073339952397299, 'min_samples_split': 2, 'min_samples_leaf': 15}, {'max_features': 0.08073339952397299, 'min_samples_split': 2, 'min_samples_leaf': 15}, {'max_features': 0.16153232976862367, 'min_samples_split': 7, 'min_samples_leaf': 8}, {'max_features': 0.16153232976862367, 'min_samples_split': 7, 'min_samples_leaf': 8}, {'max_features': 0.16153232976862367, 'min_samples_split': 7, 'min_samples_leaf': 8}, {'max_features': 0.16153232976862367, 'min_samples_split': 7, 'min_samples_leaf': 8}, {'max_features': 0.16153232976862367, 'min_samples_split': 7, 'min_samples_leaf': 8}]\n",
      "[CV] max_features=0.080733399524, min_samples_split=2, min_samples_leaf=15 \n",
      "[CV] max_features=0.080733399524, min_samples_split=2, min_samples_leaf=15 \n",
      "[CV] max_features=0.080733399524, min_samples_split=2, min_samples_leaf=15 \n",
      "[CV] max_features=0.080733399524, min_samples_split=2, min_samples_leaf=15 \n",
      "[CV] max_features=0.080733399524, min_samples_split=2, min_samples_leaf=15 \n",
      "[CV] max_features=0.161532329769, min_samples_split=7, min_samples_leaf=8 \n",
      "[CV] max_features=0.161532329769, min_samples_split=7, min_samples_leaf=8 \n",
      "[CV] max_features=0.161532329769, min_samples_split=7, min_samples_leaf=8 \n",
      "[CV] max_features=0.161532329769, min_samples_split=7, min_samples_leaf=8 \n",
      "[CV] max_features=0.161532329769, min_samples_split=7, min_samples_leaf=8 \n",
      "[CV]  max_features=0.080733399524, min_samples_split=2, min_samples_leaf=15, total=   0.2s\n",
      "[CV]  max_features=0.080733399524, min_samples_split=2, min_samples_leaf=15, total=   0.2s\n",
      "[CV]  max_features=0.080733399524, min_samples_split=2, min_samples_leaf=15, total=   0.2s\n",
      "[CV]  max_features=0.080733399524, min_samples_split=2, min_samples_leaf=15, total=   0.2s\n",
      "[CV]  max_features=0.080733399524, min_samples_split=2, min_samples_leaf=15, total=   0.2s\n",
      "[CV]  max_features=0.161532329769, min_samples_split=7, min_samples_leaf=8, total=   0.3s\n",
      "[CV]  max_features=0.161532329769, min_samples_split=7, min_samples_leaf=8, total=   0.3s\n"
     ]
    },
    {
     "name": "stderr",
     "output_type": "stream",
     "text": [
      "[Parallel(n_jobs=16)]: Done   3 out of  10 | elapsed:    0.2s remaining:    0.6s\n"
     ]
    },
    {
     "name": "stdout",
     "output_type": "stream",
     "text": [
      "[CV]  max_features=0.161532329769, min_samples_split=7, min_samples_leaf=8, total=   0.3s\n",
      "[CV]  max_features=0.161532329769, min_samples_split=7, min_samples_leaf=8, total=   0.3s\n",
      "[CV]  max_features=0.161532329769, min_samples_split=7, min_samples_leaf=8, total=   0.4s\n"
     ]
    },
    {
     "name": "stderr",
     "output_type": "stream",
     "text": [
      "[Parallel(n_jobs=16)]: Done  10 out of  10 | elapsed:    0.5s finished\n"
     ]
    },
    {
     "name": "stdout",
     "output_type": "stream",
     "text": [
      "Evaluating params :  [{'max_features': 0.8307750045387107, 'min_samples_split': 2, 'min_samples_leaf': 14}, {'max_features': 0.8307750045387107, 'min_samples_split': 2, 'min_samples_leaf': 14}, {'max_features': 0.8307750045387107, 'min_samples_split': 2, 'min_samples_leaf': 14}, {'max_features': 0.8307750045387107, 'min_samples_split': 2, 'min_samples_leaf': 14}, {'max_features': 0.8307750045387107, 'min_samples_split': 2, 'min_samples_leaf': 14}, {'max_features': 0.4462234014660817, 'min_samples_split': 21, 'min_samples_leaf': 19}, {'max_features': 0.4462234014660817, 'min_samples_split': 21, 'min_samples_leaf': 19}, {'max_features': 0.4462234014660817, 'min_samples_split': 21, 'min_samples_leaf': 19}, {'max_features': 0.4462234014660817, 'min_samples_split': 21, 'min_samples_leaf': 19}, {'max_features': 0.4462234014660817, 'min_samples_split': 21, 'min_samples_leaf': 19}]\n",
      "[CV] max_features=0.830775004539, min_samples_split=2, min_samples_leaf=14 \n",
      "[CV] max_features=0.830775004539, min_samples_split=2, min_samples_leaf=14 \n",
      "[CV] max_features=0.830775004539, min_samples_split=2, min_samples_leaf=14 \n",
      "[CV] max_features=0.830775004539, min_samples_split=2, min_samples_leaf=14 \n",
      "[CV] max_features=0.830775004539, min_samples_split=2, min_samples_leaf=14 \n",
      "[CV] max_features=0.446223401466, min_samples_split=21, min_samples_leaf=19 \n",
      "[CV] max_features=0.446223401466, min_samples_split=21, min_samples_leaf=19 \n",
      "[CV] max_features=0.446223401466, min_samples_split=21, min_samples_leaf=19 \n",
      "[CV] max_features=0.446223401466, min_samples_split=21, min_samples_leaf=19 \n",
      "[CV] max_features=0.446223401466, min_samples_split=21, min_samples_leaf=19 \n",
      "[CV]  max_features=0.446223401466, min_samples_split=21, min_samples_leaf=19, total=   0.7s\n",
      "[CV]  max_features=0.446223401466, min_samples_split=21, min_samples_leaf=19, total=   0.7s\n",
      "[CV]  max_features=0.446223401466, min_samples_split=21, min_samples_leaf=19, total=   0.7s\n",
      "[CV]  max_features=0.446223401466, min_samples_split=21, min_samples_leaf=19, total=   0.7s\n",
      "[CV]  max_features=0.446223401466, min_samples_split=21, min_samples_leaf=19, total=   0.7s\n"
     ]
    },
    {
     "name": "stderr",
     "output_type": "stream",
     "text": [
      "[Parallel(n_jobs=16)]: Done   3 out of  10 | elapsed:    0.8s remaining:    1.9s\n"
     ]
    },
    {
     "name": "stdout",
     "output_type": "stream",
     "text": [
      "[CV]  max_features=0.830775004539, min_samples_split=2, min_samples_leaf=14, total=   1.3s\n",
      "[CV]  max_features=0.830775004539, min_samples_split=2, min_samples_leaf=14, total=   1.3s\n",
      "[CV]  max_features=0.830775004539, min_samples_split=2, min_samples_leaf=14, total=   1.3s\n",
      "[CV]  max_features=0.830775004539, min_samples_split=2, min_samples_leaf=14, total=   1.3s\n",
      "[CV]  max_features=0.830775004539, min_samples_split=2, min_samples_leaf=14, total=   1.3s\n"
     ]
    },
    {
     "name": "stderr",
     "output_type": "stream",
     "text": [
      "[Parallel(n_jobs=16)]: Done  10 out of  10 | elapsed:    1.4s finished\n"
     ]
    },
    {
     "name": "stdout",
     "output_type": "stream",
     "text": [
      "Evaluating params :  [{'max_features': 0.05122087205059749, 'min_samples_split': 11, 'min_samples_leaf': 6}, {'max_features': 0.05122087205059749, 'min_samples_split': 11, 'min_samples_leaf': 6}, {'max_features': 0.05122087205059749, 'min_samples_split': 11, 'min_samples_leaf': 6}, {'max_features': 0.05122087205059749, 'min_samples_split': 11, 'min_samples_leaf': 6}, {'max_features': 0.05122087205059749, 'min_samples_split': 11, 'min_samples_leaf': 6}, {'max_features': 0.2872935562690177, 'min_samples_split': 18, 'min_samples_leaf': 9}, {'max_features': 0.2872935562690177, 'min_samples_split': 18, 'min_samples_leaf': 9}, {'max_features': 0.2872935562690177, 'min_samples_split': 18, 'min_samples_leaf': 9}, {'max_features': 0.2872935562690177, 'min_samples_split': 18, 'min_samples_leaf': 9}, {'max_features': 0.2872935562690177, 'min_samples_split': 18, 'min_samples_leaf': 9}]\n",
      "[CV] max_features=0.0512208720506, min_samples_split=11, min_samples_leaf=6 \n",
      "[CV] max_features=0.0512208720506, min_samples_split=11, min_samples_leaf=6 \n",
      "[CV] max_features=0.0512208720506, min_samples_split=11, min_samples_leaf=6 \n",
      "[CV] max_features=0.0512208720506, min_samples_split=11, min_samples_leaf=6 \n",
      "[CV] max_features=0.0512208720506, min_samples_split=11, min_samples_leaf=6 \n",
      "[CV] max_features=0.287293556269, min_samples_split=18, min_samples_leaf=9 \n",
      "[CV] max_features=0.287293556269, min_samples_split=18, min_samples_leaf=9 \n",
      "[CV] max_features=0.287293556269, min_samples_split=18, min_samples_leaf=9 \n",
      "[CV] max_features=0.287293556269, min_samples_split=18, min_samples_leaf=9 \n",
      "[CV] max_features=0.287293556269, min_samples_split=18, min_samples_leaf=9 \n",
      "[CV]  max_features=0.0512208720506, min_samples_split=11, min_samples_leaf=6, total=   0.1s\n",
      "[CV]  max_features=0.0512208720506, min_samples_split=11, min_samples_leaf=6, total=   0.1s\n",
      "[CV]  max_features=0.0512208720506, min_samples_split=11, min_samples_leaf=6, total=   0.1s\n",
      "[CV]  max_features=0.0512208720506, min_samples_split=11, min_samples_leaf=6, total=   0.1s\n",
      "[CV]  max_features=0.0512208720506, min_samples_split=11, min_samples_leaf=6, total=   0.2s\n"
     ]
    },
    {
     "name": "stderr",
     "output_type": "stream",
     "text": [
      "[Parallel(n_jobs=16)]: Done   3 out of  10 | elapsed:    0.2s remaining:    0.5s\n"
     ]
    },
    {
     "name": "stdout",
     "output_type": "stream",
     "text": [
      "[CV]  max_features=0.287293556269, min_samples_split=18, min_samples_leaf=9, total=   0.5s\n",
      "[CV]  max_features=0.287293556269, min_samples_split=18, min_samples_leaf=9, total=   0.5s\n",
      "[CV]  max_features=0.287293556269, min_samples_split=18, min_samples_leaf=9, total=   0.5s\n",
      "[CV]  max_features=0.287293556269, min_samples_split=18, min_samples_leaf=9, total=   0.6s\n",
      "[CV]  max_features=0.287293556269, min_samples_split=18, min_samples_leaf=9, total=   0.5s\n"
     ]
    },
    {
     "name": "stderr",
     "output_type": "stream",
     "text": [
      "[Parallel(n_jobs=16)]: Done  10 out of  10 | elapsed:    0.6s finished\n"
     ]
    },
    {
     "name": "stdout",
     "output_type": "stream",
     "text": [
      "Evaluating params :  [{'max_features': 0.3836743391520055, 'min_samples_split': 20, 'min_samples_leaf': 12}, {'max_features': 0.3836743391520055, 'min_samples_split': 20, 'min_samples_leaf': 12}, {'max_features': 0.3836743391520055, 'min_samples_split': 20, 'min_samples_leaf': 12}, {'max_features': 0.3836743391520055, 'min_samples_split': 20, 'min_samples_leaf': 12}, {'max_features': 0.3836743391520055, 'min_samples_split': 20, 'min_samples_leaf': 12}, {'max_features': 0.5125777433606239, 'min_samples_split': 10, 'min_samples_leaf': 13}, {'max_features': 0.5125777433606239, 'min_samples_split': 10, 'min_samples_leaf': 13}, {'max_features': 0.5125777433606239, 'min_samples_split': 10, 'min_samples_leaf': 13}, {'max_features': 0.5125777433606239, 'min_samples_split': 10, 'min_samples_leaf': 13}, {'max_features': 0.5125777433606239, 'min_samples_split': 10, 'min_samples_leaf': 13}]\n",
      "[CV] max_features=0.383674339152, min_samples_split=20, min_samples_leaf=12 \n",
      "[CV] max_features=0.383674339152, min_samples_split=20, min_samples_leaf=12 \n",
      "[CV] max_features=0.383674339152, min_samples_split=20, min_samples_leaf=12 \n",
      "[CV] max_features=0.383674339152, min_samples_split=20, min_samples_leaf=12 \n",
      "[CV] max_features=0.383674339152, min_samples_split=20, min_samples_leaf=12 \n",
      "[CV] max_features=0.512577743361, min_samples_split=10, min_samples_leaf=13 \n",
      "[CV] max_features=0.512577743361, min_samples_split=10, min_samples_leaf=13 \n",
      "[CV] max_features=0.512577743361, min_samples_split=10, min_samples_leaf=13 \n",
      "[CV] max_features=0.512577743361, min_samples_split=10, min_samples_leaf=13 \n",
      "[CV] max_features=0.512577743361, min_samples_split=10, min_samples_leaf=13 \n",
      "[CV]  max_features=0.383674339152, min_samples_split=20, min_samples_leaf=12, total=   0.7s\n",
      "[CV]  max_features=0.383674339152, min_samples_split=20, min_samples_leaf=12, total=   0.7s\n",
      "[CV]  max_features=0.383674339152, min_samples_split=20, min_samples_leaf=12, total=   0.7s\n",
      "[CV]  max_features=0.383674339152, min_samples_split=20, min_samples_leaf=12, total=   0.7s\n",
      "[CV]  max_features=0.383674339152, min_samples_split=20, min_samples_leaf=12, total=   0.7s\n",
      "[CV]  max_features=0.512577743361, min_samples_split=10, min_samples_leaf=13, total=   0.8s\n"
     ]
    },
    {
     "name": "stderr",
     "output_type": "stream",
     "text": [
      "[Parallel(n_jobs=16)]: Done   3 out of  10 | elapsed:    0.7s remaining:    1.7s\n"
     ]
    },
    {
     "name": "stdout",
     "output_type": "stream",
     "text": [
      "[CV]  max_features=0.512577743361, min_samples_split=10, min_samples_leaf=13, total=   0.8s\n",
      "[CV]  max_features=0.512577743361, min_samples_split=10, min_samples_leaf=13, total=   0.8s\n",
      "[CV]  max_features=0.512577743361, min_samples_split=10, min_samples_leaf=13, total=   0.9s\n",
      "[CV]  max_features=0.512577743361, min_samples_split=10, min_samples_leaf=13, total=   0.8s\n"
     ]
    },
    {
     "name": "stderr",
     "output_type": "stream",
     "text": [
      "[Parallel(n_jobs=16)]: Done  10 out of  10 | elapsed:    1.0s finished\n"
     ]
    },
    {
     "name": "stdout",
     "output_type": "stream",
     "text": [
      "Evaluating params :  [{'max_features': 0.42626270752957773, 'min_samples_split': 14, 'min_samples_leaf': 20}, {'max_features': 0.42626270752957773, 'min_samples_split': 14, 'min_samples_leaf': 20}, {'max_features': 0.42626270752957773, 'min_samples_split': 14, 'min_samples_leaf': 20}, {'max_features': 0.42626270752957773, 'min_samples_split': 14, 'min_samples_leaf': 20}, {'max_features': 0.42626270752957773, 'min_samples_split': 14, 'min_samples_leaf': 20}, {'max_features': 0.9908203656276999, 'min_samples_split': 17, 'min_samples_leaf': 3}, {'max_features': 0.9908203656276999, 'min_samples_split': 17, 'min_samples_leaf': 3}, {'max_features': 0.9908203656276999, 'min_samples_split': 17, 'min_samples_leaf': 3}, {'max_features': 0.9908203656276999, 'min_samples_split': 17, 'min_samples_leaf': 3}, {'max_features': 0.9908203656276999, 'min_samples_split': 17, 'min_samples_leaf': 3}]\n",
      "[CV] max_features=0.42626270753, min_samples_split=14, min_samples_leaf=20 \n",
      "[CV] max_features=0.42626270753, min_samples_split=14, min_samples_leaf=20 \n",
      "[CV] max_features=0.42626270753, min_samples_split=14, min_samples_leaf=20 \n",
      "[CV] max_features=0.42626270753, min_samples_split=14, min_samples_leaf=20 \n",
      "[CV] max_features=0.42626270753, min_samples_split=14, min_samples_leaf=20 \n",
      "[CV] max_features=0.990820365628, min_samples_split=17, min_samples_leaf=3 \n",
      "[CV] max_features=0.990820365628, min_samples_split=17, min_samples_leaf=3 \n",
      "[CV] max_features=0.990820365628, min_samples_split=17, min_samples_leaf=3 \n",
      "[CV] max_features=0.990820365628, min_samples_split=17, min_samples_leaf=3 \n",
      "[CV] max_features=0.990820365628, min_samples_split=17, min_samples_leaf=3 \n",
      "[CV]  max_features=0.42626270753, min_samples_split=14, min_samples_leaf=20, total=   0.7s\n",
      "[CV]  max_features=0.42626270753, min_samples_split=14, min_samples_leaf=20, total=   0.7s\n",
      "[CV]  max_features=0.42626270753, min_samples_split=14, min_samples_leaf=20, total=   0.7s\n",
      "[CV]  max_features=0.42626270753, min_samples_split=14, min_samples_leaf=20, total=   0.7s\n",
      "[CV]  max_features=0.42626270753, min_samples_split=14, min_samples_leaf=20, total=   0.7s\n"
     ]
    },
    {
     "name": "stderr",
     "output_type": "stream",
     "text": [
      "[Parallel(n_jobs=16)]: Done   3 out of  10 | elapsed:    0.7s remaining:    1.7s\n"
     ]
    },
    {
     "name": "stdout",
     "output_type": "stream",
     "text": [
      "[CV]  max_features=0.990820365628, min_samples_split=17, min_samples_leaf=3, total=   1.7s\n",
      "[CV]  max_features=0.990820365628, min_samples_split=17, min_samples_leaf=3, total=   1.8s\n",
      "[CV]  max_features=0.990820365628, min_samples_split=17, min_samples_leaf=3, total=   1.8s\n",
      "[CV]  max_features=0.990820365628, min_samples_split=17, min_samples_leaf=3, total=   1.8s\n",
      "[CV]  max_features=0.990820365628, min_samples_split=17, min_samples_leaf=3, total=   1.8s\n"
     ]
    },
    {
     "name": "stderr",
     "output_type": "stream",
     "text": [
      "[Parallel(n_jobs=16)]: Done  10 out of  10 | elapsed:    1.9s finished\n"
     ]
    },
    {
     "name": "stdout",
     "output_type": "stream",
     "text": [
      "Evaluating params :  [{'max_features': 0.8170893471813366, 'min_samples_split': 2, 'min_samples_leaf': 13}, {'max_features': 0.8170893471813366, 'min_samples_split': 2, 'min_samples_leaf': 13}, {'max_features': 0.8170893471813366, 'min_samples_split': 2, 'min_samples_leaf': 13}, {'max_features': 0.8170893471813366, 'min_samples_split': 2, 'min_samples_leaf': 13}, {'max_features': 0.8170893471813366, 'min_samples_split': 2, 'min_samples_leaf': 13}, {'max_features': 0.8905348241124141, 'min_samples_split': 17, 'min_samples_leaf': 5}, {'max_features': 0.8905348241124141, 'min_samples_split': 17, 'min_samples_leaf': 5}, {'max_features': 0.8905348241124141, 'min_samples_split': 17, 'min_samples_leaf': 5}, {'max_features': 0.8905348241124141, 'min_samples_split': 17, 'min_samples_leaf': 5}, {'max_features': 0.8905348241124141, 'min_samples_split': 17, 'min_samples_leaf': 5}]\n",
      "[CV] max_features=0.817089347181, min_samples_split=2, min_samples_leaf=13 \n",
      "[CV] max_features=0.817089347181, min_samples_split=2, min_samples_leaf=13 \n",
      "[CV] max_features=0.817089347181, min_samples_split=2, min_samples_leaf=13 \n",
      "[CV] max_features=0.817089347181, min_samples_split=2, min_samples_leaf=13 \n",
      "[CV] max_features=0.817089347181, min_samples_split=2, min_samples_leaf=13 \n",
      "[CV] max_features=0.890534824112, min_samples_split=17, min_samples_leaf=5 \n",
      "[CV] max_features=0.890534824112, min_samples_split=17, min_samples_leaf=5 \n",
      "[CV] max_features=0.890534824112, min_samples_split=17, min_samples_leaf=5 \n",
      "[CV] max_features=0.890534824112, min_samples_split=17, min_samples_leaf=5 \n",
      "[CV] max_features=0.890534824112, min_samples_split=17, min_samples_leaf=5 \n",
      "[CV]  max_features=0.817089347181, min_samples_split=2, min_samples_leaf=13, total=   1.3s\n",
      "[CV]  max_features=0.817089347181, min_samples_split=2, min_samples_leaf=13, total=   1.3s\n",
      "[CV]  max_features=0.817089347181, min_samples_split=2, min_samples_leaf=13, total=   1.4s\n",
      "[CV]  max_features=0.817089347181, min_samples_split=2, min_samples_leaf=13, total=   1.4s\n",
      "[CV]  max_features=0.817089347181, min_samples_split=2, min_samples_leaf=13, total=   1.4s\n"
     ]
    },
    {
     "name": "stderr",
     "output_type": "stream",
     "text": [
      "[Parallel(n_jobs=16)]: Done   3 out of  10 | elapsed:    1.4s remaining:    3.2s\n"
     ]
    },
    {
     "name": "stdout",
     "output_type": "stream",
     "text": [
      "[CV]  max_features=0.890534824112, min_samples_split=17, min_samples_leaf=5, total=   1.6s\n",
      "[CV]  max_features=0.890534824112, min_samples_split=17, min_samples_leaf=5, total=   1.6s\n",
      "[CV]  max_features=0.890534824112, min_samples_split=17, min_samples_leaf=5, total=   1.6s\n",
      "[CV]  max_features=0.890534824112, min_samples_split=17, min_samples_leaf=5, total=   1.6s\n",
      "[CV]  max_features=0.890534824112, min_samples_split=17, min_samples_leaf=5, total=   1.6s\n"
     ]
    },
    {
     "name": "stderr",
     "output_type": "stream",
     "text": [
      "[Parallel(n_jobs=16)]: Done  10 out of  10 | elapsed:    1.7s finished\n"
     ]
    },
    {
     "name": "stdout",
     "output_type": "stream",
     "text": [
      "Evaluating params :  [{'max_features': 0.9392377476246879, 'min_samples_split': 18, 'min_samples_leaf': 1}, {'max_features': 0.9392377476246879, 'min_samples_split': 18, 'min_samples_leaf': 1}, {'max_features': 0.9392377476246879, 'min_samples_split': 18, 'min_samples_leaf': 1}, {'max_features': 0.9392377476246879, 'min_samples_split': 18, 'min_samples_leaf': 1}, {'max_features': 0.9392377476246879, 'min_samples_split': 18, 'min_samples_leaf': 1}, {'max_features': 0.5266020777014211, 'min_samples_split': 12, 'min_samples_leaf': 7}, {'max_features': 0.5266020777014211, 'min_samples_split': 12, 'min_samples_leaf': 7}, {'max_features': 0.5266020777014211, 'min_samples_split': 12, 'min_samples_leaf': 7}, {'max_features': 0.5266020777014211, 'min_samples_split': 12, 'min_samples_leaf': 7}, {'max_features': 0.5266020777014211, 'min_samples_split': 12, 'min_samples_leaf': 7}]\n",
      "[CV] max_features=0.939237747625, min_samples_split=18, min_samples_leaf=1 \n",
      "[CV] max_features=0.939237747625, min_samples_split=18, min_samples_leaf=1 \n",
      "[CV] max_features=0.939237747625, min_samples_split=18, min_samples_leaf=1 \n",
      "[CV] max_features=0.939237747625, min_samples_split=18, min_samples_leaf=1 \n",
      "[CV] max_features=0.939237747625, min_samples_split=18, min_samples_leaf=1 \n",
      "[CV] max_features=0.526602077701, min_samples_split=12, min_samples_leaf=7 \n",
      "[CV] max_features=0.526602077701, min_samples_split=12, min_samples_leaf=7 \n",
      "[CV] max_features=0.526602077701, min_samples_split=12, min_samples_leaf=7 \n",
      "[CV] max_features=0.526602077701, min_samples_split=12, min_samples_leaf=7 \n",
      "[CV] max_features=0.526602077701, min_samples_split=12, min_samples_leaf=7 \n",
      "[CV]  max_features=0.526602077701, min_samples_split=12, min_samples_leaf=7, total=   0.9s\n",
      "[CV]  max_features=0.526602077701, min_samples_split=12, min_samples_leaf=7, total=   0.9s\n",
      "[CV]  max_features=0.526602077701, min_samples_split=12, min_samples_leaf=7, total=   0.9s\n",
      "[CV]  max_features=0.526602077701, min_samples_split=12, min_samples_leaf=7, total=   0.9s\n",
      "[CV]  max_features=0.526602077701, min_samples_split=12, min_samples_leaf=7, total=   0.9s\n"
     ]
    },
    {
     "name": "stderr",
     "output_type": "stream",
     "text": [
      "[Parallel(n_jobs=16)]: Done   3 out of  10 | elapsed:    1.0s remaining:    2.3s\n"
     ]
    },
    {
     "name": "stdout",
     "output_type": "stream",
     "text": [
      "[CV]  max_features=0.939237747625, min_samples_split=18, min_samples_leaf=1, total=   1.8s\n",
      "[CV]  max_features=0.939237747625, min_samples_split=18, min_samples_leaf=1, total=   1.8s\n",
      "[CV]  max_features=0.939237747625, min_samples_split=18, min_samples_leaf=1, total=   1.8s\n",
      "[CV]  max_features=0.939237747625, min_samples_split=18, min_samples_leaf=1, total=   1.8s\n",
      "[CV]  max_features=0.939237747625, min_samples_split=18, min_samples_leaf=1, total=   1.8s\n"
     ]
    },
    {
     "name": "stderr",
     "output_type": "stream",
     "text": [
      "[Parallel(n_jobs=16)]: Done  10 out of  10 | elapsed:    1.9s finished\n"
     ]
    },
    {
     "name": "stdout",
     "output_type": "stream",
     "text": [
      "Evaluating params :  [{'max_features': 0.21363176372338893, 'min_samples_split': 12, 'min_samples_leaf': 4}, {'max_features': 0.21363176372338893, 'min_samples_split': 12, 'min_samples_leaf': 4}, {'max_features': 0.21363176372338893, 'min_samples_split': 12, 'min_samples_leaf': 4}, {'max_features': 0.21363176372338893, 'min_samples_split': 12, 'min_samples_leaf': 4}, {'max_features': 0.21363176372338893, 'min_samples_split': 12, 'min_samples_leaf': 4}, {'max_features': 0.891657870242098, 'min_samples_split': 4, 'min_samples_leaf': 14}, {'max_features': 0.891657870242098, 'min_samples_split': 4, 'min_samples_leaf': 14}, {'max_features': 0.891657870242098, 'min_samples_split': 4, 'min_samples_leaf': 14}, {'max_features': 0.891657870242098, 'min_samples_split': 4, 'min_samples_leaf': 14}, {'max_features': 0.891657870242098, 'min_samples_split': 4, 'min_samples_leaf': 14}]\n",
      "[CV] max_features=0.213631763723, min_samples_split=12, min_samples_leaf=4 \n",
      "[CV] max_features=0.213631763723, min_samples_split=12, min_samples_leaf=4 \n",
      "[CV] max_features=0.213631763723, min_samples_split=12, min_samples_leaf=4 \n",
      "[CV] max_features=0.213631763723, min_samples_split=12, min_samples_leaf=4 \n",
      "[CV] max_features=0.213631763723, min_samples_split=12, min_samples_leaf=4 \n",
      "[CV] max_features=0.891657870242, min_samples_split=4, min_samples_leaf=14 \n",
      "[CV] max_features=0.891657870242, min_samples_split=4, min_samples_leaf=14 \n",
      "[CV] max_features=0.891657870242, min_samples_split=4, min_samples_leaf=14 \n",
      "[CV] max_features=0.891657870242, min_samples_split=4, min_samples_leaf=14 \n",
      "[CV] max_features=0.891657870242, min_samples_split=4, min_samples_leaf=14 \n",
      "[CV]  max_features=0.213631763723, min_samples_split=12, min_samples_leaf=4, total=   0.4s\n",
      "[CV]  max_features=0.213631763723, min_samples_split=12, min_samples_leaf=4, total=   0.4s\n",
      "[CV]  max_features=0.213631763723, min_samples_split=12, min_samples_leaf=4, total=   0.4s\n",
      "[CV]  max_features=0.213631763723, min_samples_split=12, min_samples_leaf=4, total=   0.4s\n",
      "[CV]  max_features=0.213631763723, min_samples_split=12, min_samples_leaf=4, total=   0.4s\n"
     ]
    },
    {
     "name": "stderr",
     "output_type": "stream",
     "text": [
      "[Parallel(n_jobs=16)]: Done   3 out of  10 | elapsed:    0.5s remaining:    1.1s\n"
     ]
    },
    {
     "name": "stdout",
     "output_type": "stream",
     "text": [
      "[CV]  max_features=0.891657870242, min_samples_split=4, min_samples_leaf=14, total=   1.3s\n",
      "[CV]  max_features=0.891657870242, min_samples_split=4, min_samples_leaf=14, total=   1.4s\n",
      "[CV]  max_features=0.891657870242, min_samples_split=4, min_samples_leaf=14, total=   1.4s\n",
      "[CV]  max_features=0.891657870242, min_samples_split=4, min_samples_leaf=14, total=   1.4s\n",
      "[CV]  max_features=0.891657870242, min_samples_split=4, min_samples_leaf=14, total=   1.5s\n"
     ]
    },
    {
     "name": "stderr",
     "output_type": "stream",
     "text": [
      "[Parallel(n_jobs=16)]: Done  10 out of  10 | elapsed:    1.6s finished\n"
     ]
    },
    {
     "name": "stdout",
     "output_type": "stream",
     "text": [
      "Evaluating params :  [{'max_features': 0.18408642724977758, 'min_samples_split': 2, 'min_samples_leaf': 17}, {'max_features': 0.18408642724977758, 'min_samples_split': 2, 'min_samples_leaf': 17}, {'max_features': 0.18408642724977758, 'min_samples_split': 2, 'min_samples_leaf': 17}, {'max_features': 0.18408642724977758, 'min_samples_split': 2, 'min_samples_leaf': 17}, {'max_features': 0.18408642724977758, 'min_samples_split': 2, 'min_samples_leaf': 17}, {'max_features': 0.3068771591922561, 'min_samples_split': 6, 'min_samples_leaf': 2}, {'max_features': 0.3068771591922561, 'min_samples_split': 6, 'min_samples_leaf': 2}, {'max_features': 0.3068771591922561, 'min_samples_split': 6, 'min_samples_leaf': 2}, {'max_features': 0.3068771591922561, 'min_samples_split': 6, 'min_samples_leaf': 2}, {'max_features': 0.3068771591922561, 'min_samples_split': 6, 'min_samples_leaf': 2}]\n",
      "[CV] max_features=0.18408642725, min_samples_split=2, min_samples_leaf=17 \n",
      "[CV] max_features=0.18408642725, min_samples_split=2, min_samples_leaf=17 \n",
      "[CV] max_features=0.18408642725, min_samples_split=2, min_samples_leaf=17 \n",
      "[CV] max_features=0.18408642725, min_samples_split=2, min_samples_leaf=17 \n",
      "[CV] max_features=0.18408642725, min_samples_split=2, min_samples_leaf=17 \n",
      "[CV] max_features=0.306877159192, min_samples_split=6, min_samples_leaf=2 \n",
      "[CV] max_features=0.306877159192, min_samples_split=6, min_samples_leaf=2 \n",
      "[CV] max_features=0.306877159192, min_samples_split=6, min_samples_leaf=2 \n",
      "[CV] max_features=0.306877159192, min_samples_split=6, min_samples_leaf=2 \n",
      "[CV] max_features=0.306877159192, min_samples_split=6, min_samples_leaf=2 \n",
      "[CV]  max_features=0.18408642725, min_samples_split=2, min_samples_leaf=17, total=   0.3s\n",
      "[CV]  max_features=0.18408642725, min_samples_split=2, min_samples_leaf=17, total=   0.3s\n",
      "[CV]  max_features=0.18408642725, min_samples_split=2, min_samples_leaf=17, total=   0.3s\n",
      "[CV]  max_features=0.18408642725, min_samples_split=2, min_samples_leaf=17, total=   0.3s\n",
      "[CV]  max_features=0.18408642725, min_samples_split=2, min_samples_leaf=17, total=   0.3s\n"
     ]
    },
    {
     "name": "stderr",
     "output_type": "stream",
     "text": [
      "[Parallel(n_jobs=16)]: Done   3 out of  10 | elapsed:    0.4s remaining:    0.8s\n"
     ]
    },
    {
     "name": "stdout",
     "output_type": "stream",
     "text": [
      "[CV]  max_features=0.306877159192, min_samples_split=6, min_samples_leaf=2, total=   0.6s\n",
      "[CV]  max_features=0.306877159192, min_samples_split=6, min_samples_leaf=2, total=   0.6s\n",
      "[CV]  max_features=0.306877159192, min_samples_split=6, min_samples_leaf=2, total=   0.6s\n",
      "[CV]  max_features=0.306877159192, min_samples_split=6, min_samples_leaf=2, total=   0.6s\n",
      "[CV]  max_features=0.306877159192, min_samples_split=6, min_samples_leaf=2, total=   0.6s\n"
     ]
    },
    {
     "name": "stderr",
     "output_type": "stream",
     "text": [
      "[Parallel(n_jobs=16)]: Done  10 out of  10 | elapsed:    0.7s finished\n"
     ]
    },
    {
     "name": "stdout",
     "output_type": "stream",
     "text": [
      "Evaluating params :  [{'max_features': 0.6761532519892769, 'min_samples_split': 11, 'min_samples_leaf': 13}, {'max_features': 0.6761532519892769, 'min_samples_split': 11, 'min_samples_leaf': 13}, {'max_features': 0.6761532519892769, 'min_samples_split': 11, 'min_samples_leaf': 13}, {'max_features': 0.6761532519892769, 'min_samples_split': 11, 'min_samples_leaf': 13}, {'max_features': 0.6761532519892769, 'min_samples_split': 11, 'min_samples_leaf': 13}, {'max_features': 0.6111303695573941, 'min_samples_split': 19, 'min_samples_leaf': 2}, {'max_features': 0.6111303695573941, 'min_samples_split': 19, 'min_samples_leaf': 2}, {'max_features': 0.6111303695573941, 'min_samples_split': 19, 'min_samples_leaf': 2}, {'max_features': 0.6111303695573941, 'min_samples_split': 19, 'min_samples_leaf': 2}, {'max_features': 0.6111303695573941, 'min_samples_split': 19, 'min_samples_leaf': 2}]\n",
      "[CV] max_features=0.676153251989, min_samples_split=11, min_samples_leaf=13 \n",
      "[CV] max_features=0.676153251989, min_samples_split=11, min_samples_leaf=13 \n",
      "[CV] max_features=0.676153251989, min_samples_split=11, min_samples_leaf=13 \n",
      "[CV] max_features=0.676153251989, min_samples_split=11, min_samples_leaf=13 \n",
      "[CV] max_features=0.676153251989, min_samples_split=11, min_samples_leaf=13 \n",
      "[CV] max_features=0.611130369557, min_samples_split=19, min_samples_leaf=2 \n",
      "[CV] max_features=0.611130369557, min_samples_split=19, min_samples_leaf=2 \n",
      "[CV] max_features=0.611130369557, min_samples_split=19, min_samples_leaf=2 \n",
      "[CV] max_features=0.611130369557, min_samples_split=19, min_samples_leaf=2 \n",
      "[CV] max_features=0.611130369557, min_samples_split=19, min_samples_leaf=2 \n",
      "[CV]  max_features=0.676153251989, min_samples_split=11, min_samples_leaf=13, total=   1.1s\n",
      "[CV]  max_features=0.676153251989, min_samples_split=11, min_samples_leaf=13, total=   1.1s\n",
      "[CV]  max_features=0.676153251989, min_samples_split=11, min_samples_leaf=13, total=   1.1s\n",
      "[CV]  max_features=0.676153251989, min_samples_split=11, min_samples_leaf=13, total=   1.1s\n",
      "[CV]  max_features=0.676153251989, min_samples_split=11, min_samples_leaf=13, total=   1.1s\n",
      "[CV]  max_features=0.611130369557, min_samples_split=19, min_samples_leaf=2, total=   1.1s\n",
      "[CV]  max_features=0.611130369557, min_samples_split=19, min_samples_leaf=2, total=   1.1s\n",
      "[CV]  max_features=0.611130369557, min_samples_split=19, min_samples_leaf=2, total=   1.1s\n",
      "[CV]  max_features=0.611130369557, min_samples_split=19, min_samples_leaf=2, total=   1.2s\n",
      "[CV]  max_features=0.611130369557, min_samples_split=19, min_samples_leaf=2, total=   1.2s\n"
     ]
    },
    {
     "name": "stderr",
     "output_type": "stream",
     "text": [
      "[Parallel(n_jobs=16)]: Done   3 out of  10 | elapsed:    1.1s remaining:    2.6s\n",
      "[Parallel(n_jobs=16)]: Done  10 out of  10 | elapsed:    1.3s finished\n"
     ]
    },
    {
     "name": "stdout",
     "output_type": "stream",
     "text": [
      "Evaluating params :  [{'max_features': 0.36797638407555716, 'min_samples_split': 14, 'min_samples_leaf': 3}, {'max_features': 0.36797638407555716, 'min_samples_split': 14, 'min_samples_leaf': 3}, {'max_features': 0.36797638407555716, 'min_samples_split': 14, 'min_samples_leaf': 3}, {'max_features': 0.36797638407555716, 'min_samples_split': 14, 'min_samples_leaf': 3}, {'max_features': 0.36797638407555716, 'min_samples_split': 14, 'min_samples_leaf': 3}, {'max_features': 0.5548366165754873, 'min_samples_split': 17, 'min_samples_leaf': 14}, {'max_features': 0.5548366165754873, 'min_samples_split': 17, 'min_samples_leaf': 14}, {'max_features': 0.5548366165754873, 'min_samples_split': 17, 'min_samples_leaf': 14}, {'max_features': 0.5548366165754873, 'min_samples_split': 17, 'min_samples_leaf': 14}, {'max_features': 0.5548366165754873, 'min_samples_split': 17, 'min_samples_leaf': 14}]\n",
      "[CV] max_features=0.367976384076, min_samples_split=14, min_samples_leaf=3 \n",
      "[CV] max_features=0.367976384076, min_samples_split=14, min_samples_leaf=3 \n",
      "[CV] max_features=0.367976384076, min_samples_split=14, min_samples_leaf=3 \n",
      "[CV] max_features=0.367976384076, min_samples_split=14, min_samples_leaf=3 \n",
      "[CV] max_features=0.367976384076, min_samples_split=14, min_samples_leaf=3 \n",
      "[CV] max_features=0.554836616575, min_samples_split=17, min_samples_leaf=14 \n",
      "[CV] max_features=0.554836616575, min_samples_split=17, min_samples_leaf=14 \n",
      "[CV] max_features=0.554836616575, min_samples_split=17, min_samples_leaf=14 \n",
      "[CV] max_features=0.554836616575, min_samples_split=17, min_samples_leaf=14 \n",
      "[CV] max_features=0.554836616575, min_samples_split=17, min_samples_leaf=14 \n",
      "[CV]  max_features=0.367976384076, min_samples_split=14, min_samples_leaf=3, total=   0.7s\n",
      "[CV]  max_features=0.367976384076, min_samples_split=14, min_samples_leaf=3, total=   0.7s\n",
      "[CV]  max_features=0.367976384076, min_samples_split=14, min_samples_leaf=3, total=   0.7s\n",
      "[CV]  max_features=0.367976384076, min_samples_split=14, min_samples_leaf=3, total=   0.7s\n",
      "[CV]  max_features=0.367976384076, min_samples_split=14, min_samples_leaf=3, total=   0.7s\n"
     ]
    },
    {
     "name": "stderr",
     "output_type": "stream",
     "text": [
      "[Parallel(n_jobs=16)]: Done   3 out of  10 | elapsed:    0.8s remaining:    1.8s\n"
     ]
    },
    {
     "name": "stdout",
     "output_type": "stream",
     "text": [
      "[CV]  max_features=0.554836616575, min_samples_split=17, min_samples_leaf=14, total=   0.8s\n",
      "[CV]  max_features=0.554836616575, min_samples_split=17, min_samples_leaf=14, total=   0.9s\n",
      "[CV]  max_features=0.554836616575, min_samples_split=17, min_samples_leaf=14, total=   0.9s\n",
      "[CV]  max_features=0.554836616575, min_samples_split=17, min_samples_leaf=14, total=   0.9s\n",
      "[CV]  max_features=0.554836616575, min_samples_split=17, min_samples_leaf=14, total=   0.8s\n"
     ]
    },
    {
     "name": "stderr",
     "output_type": "stream",
     "text": [
      "[Parallel(n_jobs=16)]: Done  10 out of  10 | elapsed:    1.0s finished\n"
     ]
    },
    {
     "name": "stdout",
     "output_type": "stream",
     "text": [
      "Evaluating params :  [{'max_features': 0.7163751711760099, 'min_samples_split': 13, 'min_samples_leaf': 10}, {'max_features': 0.7163751711760099, 'min_samples_split': 13, 'min_samples_leaf': 10}, {'max_features': 0.7163751711760099, 'min_samples_split': 13, 'min_samples_leaf': 10}, {'max_features': 0.7163751711760099, 'min_samples_split': 13, 'min_samples_leaf': 10}, {'max_features': 0.7163751711760099, 'min_samples_split': 13, 'min_samples_leaf': 10}, {'max_features': 0.48157785712515333, 'min_samples_split': 16, 'min_samples_leaf': 6}, {'max_features': 0.48157785712515333, 'min_samples_split': 16, 'min_samples_leaf': 6}, {'max_features': 0.48157785712515333, 'min_samples_split': 16, 'min_samples_leaf': 6}, {'max_features': 0.48157785712515333, 'min_samples_split': 16, 'min_samples_leaf': 6}, {'max_features': 0.48157785712515333, 'min_samples_split': 16, 'min_samples_leaf': 6}]\n",
      "[CV] max_features=0.716375171176, min_samples_split=13, min_samples_leaf=10 \n",
      "[CV] max_features=0.716375171176, min_samples_split=13, min_samples_leaf=10 \n",
      "[CV] max_features=0.716375171176, min_samples_split=13, min_samples_leaf=10 \n",
      "[CV] max_features=0.716375171176, min_samples_split=13, min_samples_leaf=10 \n",
      "[CV] max_features=0.716375171176, min_samples_split=13, min_samples_leaf=10 \n",
      "[CV] max_features=0.481577857125, min_samples_split=16, min_samples_leaf=6 \n",
      "[CV] max_features=0.481577857125, min_samples_split=16, min_samples_leaf=6 \n",
      "[CV] max_features=0.481577857125, min_samples_split=16, min_samples_leaf=6 \n",
      "[CV] max_features=0.481577857125, min_samples_split=16, min_samples_leaf=6 \n",
      "[CV] max_features=0.481577857125, min_samples_split=16, min_samples_leaf=6 \n",
      "[CV]  max_features=0.481577857125, min_samples_split=16, min_samples_leaf=6, total=   0.8s\n",
      "[CV]  max_features=0.481577857125, min_samples_split=16, min_samples_leaf=6, total=   0.9s\n",
      "[CV]  max_features=0.481577857125, min_samples_split=16, min_samples_leaf=6, total=   0.9s\n",
      "[CV]  max_features=0.481577857125, min_samples_split=16, min_samples_leaf=6, total=   0.9s\n",
      "[CV]  max_features=0.481577857125, min_samples_split=16, min_samples_leaf=6, total=   0.9s\n",
      "[CV]  max_features=0.716375171176, min_samples_split=13, min_samples_leaf=10, total=   1.1s\n",
      "[CV]  max_features=0.716375171176, min_samples_split=13, min_samples_leaf=10, total=   1.1s\n",
      "[CV]  max_features=0.716375171176, min_samples_split=13, min_samples_leaf=10, total=   1.1s\n"
     ]
    },
    {
     "name": "stderr",
     "output_type": "stream",
     "text": [
      "[Parallel(n_jobs=16)]: Done   3 out of  10 | elapsed:    1.0s remaining:    2.3s\n"
     ]
    },
    {
     "name": "stdout",
     "output_type": "stream",
     "text": [
      "[CV]  max_features=0.716375171176, min_samples_split=13, min_samples_leaf=10, total=   1.1s\n",
      "[CV]  max_features=0.716375171176, min_samples_split=13, min_samples_leaf=10, total=   1.2s\n"
     ]
    },
    {
     "name": "stderr",
     "output_type": "stream",
     "text": [
      "[Parallel(n_jobs=16)]: Done  10 out of  10 | elapsed:    1.2s finished\n"
     ]
    },
    {
     "name": "stdout",
     "output_type": "stream",
     "text": [
      "Evaluating params :  [{'max_features': 0.12165890217251313, 'min_samples_split': 8, 'min_samples_leaf': 9}, {'max_features': 0.12165890217251313, 'min_samples_split': 8, 'min_samples_leaf': 9}, {'max_features': 0.12165890217251313, 'min_samples_split': 8, 'min_samples_leaf': 9}, {'max_features': 0.12165890217251313, 'min_samples_split': 8, 'min_samples_leaf': 9}, {'max_features': 0.12165890217251313, 'min_samples_split': 8, 'min_samples_leaf': 9}, {'max_features': 0.23722234020108268, 'min_samples_split': 12, 'min_samples_leaf': 4}, {'max_features': 0.23722234020108268, 'min_samples_split': 12, 'min_samples_leaf': 4}, {'max_features': 0.23722234020108268, 'min_samples_split': 12, 'min_samples_leaf': 4}, {'max_features': 0.23722234020108268, 'min_samples_split': 12, 'min_samples_leaf': 4}, {'max_features': 0.23722234020108268, 'min_samples_split': 12, 'min_samples_leaf': 4}]\n",
      "[CV] max_features=0.121658902173, min_samples_split=8, min_samples_leaf=9 \n",
      "[CV] max_features=0.121658902173, min_samples_split=8, min_samples_leaf=9 \n",
      "[CV] max_features=0.121658902173, min_samples_split=8, min_samples_leaf=9 \n",
      "[CV] max_features=0.121658902173, min_samples_split=8, min_samples_leaf=9 \n",
      "[CV] max_features=0.121658902173, min_samples_split=8, min_samples_leaf=9 \n",
      "[CV] max_features=0.237222340201, min_samples_split=12, min_samples_leaf=4 \n",
      "[CV] max_features=0.237222340201, min_samples_split=12, min_samples_leaf=4 \n",
      "[CV] max_features=0.237222340201, min_samples_split=12, min_samples_leaf=4 \n",
      "[CV] max_features=0.237222340201, min_samples_split=12, min_samples_leaf=4 \n",
      "[CV] max_features=0.237222340201, min_samples_split=12, min_samples_leaf=4 \n",
      "[CV]  max_features=0.121658902173, min_samples_split=8, min_samples_leaf=9, total=   0.2s\n",
      "[CV]  max_features=0.121658902173, min_samples_split=8, min_samples_leaf=9, total=   0.2s\n",
      "[CV]  max_features=0.121658902173, min_samples_split=8, min_samples_leaf=9, total=   0.2s\n",
      "[CV]  max_features=0.121658902173, min_samples_split=8, min_samples_leaf=9, total=   0.2s\n",
      "[CV]  max_features=0.121658902173, min_samples_split=8, min_samples_leaf=9, total=   0.2s\n"
     ]
    },
    {
     "name": "stderr",
     "output_type": "stream",
     "text": [
      "[Parallel(n_jobs=16)]: Done   3 out of  10 | elapsed:    0.3s remaining:    0.7s\n"
     ]
    },
    {
     "name": "stdout",
     "output_type": "stream",
     "text": [
      "[CV]  max_features=0.237222340201, min_samples_split=12, min_samples_leaf=4, total=   0.5s\n",
      "[CV]  max_features=0.237222340201, min_samples_split=12, min_samples_leaf=4, total=   0.5s\n",
      "[CV]  max_features=0.237222340201, min_samples_split=12, min_samples_leaf=4, total=   0.5s\n",
      "[CV]  max_features=0.237222340201, min_samples_split=12, min_samples_leaf=4, total=   0.5s\n",
      "[CV]  max_features=0.237222340201, min_samples_split=12, min_samples_leaf=4, total=   0.5s\n"
     ]
    },
    {
     "name": "stderr",
     "output_type": "stream",
     "text": [
      "[Parallel(n_jobs=16)]: Done  10 out of  10 | elapsed:    0.6s finished\n"
     ]
    },
    {
     "name": "stdout",
     "output_type": "stream",
     "text": [
      "Evaluating params :  [{'max_features': 0.6240947400288295, 'min_samples_split': 17, 'min_samples_leaf': 5}, {'max_features': 0.6240947400288295, 'min_samples_split': 17, 'min_samples_leaf': 5}, {'max_features': 0.6240947400288295, 'min_samples_split': 17, 'min_samples_leaf': 5}, {'max_features': 0.6240947400288295, 'min_samples_split': 17, 'min_samples_leaf': 5}, {'max_features': 0.6240947400288295, 'min_samples_split': 17, 'min_samples_leaf': 5}, {'max_features': 0.32745581740488233, 'min_samples_split': 16, 'min_samples_leaf': 16}, {'max_features': 0.32745581740488233, 'min_samples_split': 16, 'min_samples_leaf': 16}, {'max_features': 0.32745581740488233, 'min_samples_split': 16, 'min_samples_leaf': 16}, {'max_features': 0.32745581740488233, 'min_samples_split': 16, 'min_samples_leaf': 16}, {'max_features': 0.32745581740488233, 'min_samples_split': 16, 'min_samples_leaf': 16}]\n",
      "[CV] max_features=0.624094740029, min_samples_split=17, min_samples_leaf=5 \n",
      "[CV] max_features=0.624094740029, min_samples_split=17, min_samples_leaf=5 \n",
      "[CV] max_features=0.624094740029, min_samples_split=17, min_samples_leaf=5 \n",
      "[CV] max_features=0.624094740029, min_samples_split=17, min_samples_leaf=5 \n",
      "[CV] max_features=0.624094740029, min_samples_split=17, min_samples_leaf=5 \n",
      "[CV] max_features=0.327455817405, min_samples_split=16, min_samples_leaf=16 \n",
      "[CV] max_features=0.327455817405, min_samples_split=16, min_samples_leaf=16 \n",
      "[CV] max_features=0.327455817405, min_samples_split=16, min_samples_leaf=16 \n",
      "[CV] max_features=0.327455817405, min_samples_split=16, min_samples_leaf=16 \n",
      "[CV] max_features=0.327455817405, min_samples_split=16, min_samples_leaf=16 \n",
      "[CV]  max_features=0.327455817405, min_samples_split=16, min_samples_leaf=16, total=   0.6s\n",
      "[CV]  max_features=0.327455817405, min_samples_split=16, min_samples_leaf=16, total=   0.6s\n",
      "[CV]  max_features=0.327455817405, min_samples_split=16, min_samples_leaf=16, total=   0.6s\n",
      "[CV]  max_features=0.327455817405, min_samples_split=16, min_samples_leaf=16, total=   0.6s\n",
      "[CV]  max_features=0.327455817405, min_samples_split=16, min_samples_leaf=16, total=   0.6s\n"
     ]
    },
    {
     "name": "stderr",
     "output_type": "stream",
     "text": [
      "[Parallel(n_jobs=16)]: Done   3 out of  10 | elapsed:    0.7s remaining:    1.6s\n"
     ]
    },
    {
     "name": "stdout",
     "output_type": "stream",
     "text": [
      "[CV]  max_features=0.624094740029, min_samples_split=17, min_samples_leaf=5, total=   1.0s\n",
      "[CV]  max_features=0.624094740029, min_samples_split=17, min_samples_leaf=5, total=   1.1s\n",
      "[CV]  max_features=0.624094740029, min_samples_split=17, min_samples_leaf=5, total=   1.1s\n",
      "[CV]  max_features=0.624094740029, min_samples_split=17, min_samples_leaf=5, total=   1.1s\n",
      "[CV]  max_features=0.624094740029, min_samples_split=17, min_samples_leaf=5, total=   1.1s\n"
     ]
    },
    {
     "name": "stderr",
     "output_type": "stream",
     "text": [
      "[Parallel(n_jobs=16)]: Done  10 out of  10 | elapsed:    1.2s finished\n"
     ]
    },
    {
     "name": "stdout",
     "output_type": "stream",
     "text": [
      "Evaluating params :  [{'max_features': 0.9712019197381554, 'min_samples_split': 16, 'min_samples_leaf': 17}, {'max_features': 0.9712019197381554, 'min_samples_split': 16, 'min_samples_leaf': 17}, {'max_features': 0.9712019197381554, 'min_samples_split': 16, 'min_samples_leaf': 17}, {'max_features': 0.9712019197381554, 'min_samples_split': 16, 'min_samples_leaf': 17}, {'max_features': 0.9712019197381554, 'min_samples_split': 16, 'min_samples_leaf': 17}, {'max_features': 0.6526614629676357, 'min_samples_split': 18, 'min_samples_leaf': 4}, {'max_features': 0.6526614629676357, 'min_samples_split': 18, 'min_samples_leaf': 4}, {'max_features': 0.6526614629676357, 'min_samples_split': 18, 'min_samples_leaf': 4}, {'max_features': 0.6526614629676357, 'min_samples_split': 18, 'min_samples_leaf': 4}, {'max_features': 0.6526614629676357, 'min_samples_split': 18, 'min_samples_leaf': 4}]\n",
      "[CV] max_features=0.971201919738, min_samples_split=16, min_samples_leaf=17 \n",
      "[CV] max_features=0.971201919738, min_samples_split=16, min_samples_leaf=17 \n",
      "[CV] max_features=0.971201919738, min_samples_split=16, min_samples_leaf=17 \n",
      "[CV] max_features=0.971201919738, min_samples_split=16, min_samples_leaf=17 \n",
      "[CV] max_features=0.971201919738, min_samples_split=16, min_samples_leaf=17 \n",
      "[CV] max_features=0.652661462968, min_samples_split=18, min_samples_leaf=4 \n",
      "[CV] max_features=0.652661462968, min_samples_split=18, min_samples_leaf=4 \n",
      "[CV] max_features=0.652661462968, min_samples_split=18, min_samples_leaf=4 \n",
      "[CV] max_features=0.652661462968, min_samples_split=18, min_samples_leaf=4 \n",
      "[CV] max_features=0.652661462968, min_samples_split=18, min_samples_leaf=4 \n",
      "[CV]  max_features=0.652661462968, min_samples_split=18, min_samples_leaf=4, total=   1.2s\n",
      "[CV]  max_features=0.652661462968, min_samples_split=18, min_samples_leaf=4, total=   1.2s\n",
      "[CV]  max_features=0.652661462968, min_samples_split=18, min_samples_leaf=4, total=   1.2s\n",
      "[CV]  max_features=0.652661462968, min_samples_split=18, min_samples_leaf=4, total=   1.2s\n",
      "[CV]  max_features=0.652661462968, min_samples_split=18, min_samples_leaf=4, total=   1.2s\n",
      "[CV]  max_features=0.971201919738, min_samples_split=16, min_samples_leaf=17, total=   1.4s\n"
     ]
    },
    {
     "name": "stderr",
     "output_type": "stream",
     "text": [
      "[Parallel(n_jobs=16)]: Done   3 out of  10 | elapsed:    1.3s remaining:    3.0s\n"
     ]
    },
    {
     "name": "stdout",
     "output_type": "stream",
     "text": [
      "[CV]  max_features=0.971201919738, min_samples_split=16, min_samples_leaf=17, total=   1.5s\n",
      "[CV]  max_features=0.971201919738, min_samples_split=16, min_samples_leaf=17, total=   1.5s\n",
      "[CV]  max_features=0.971201919738, min_samples_split=16, min_samples_leaf=17, total=   1.5s\n",
      "[CV]  max_features=0.971201919738, min_samples_split=16, min_samples_leaf=17, total=   1.5s\n"
     ]
    },
    {
     "name": "stderr",
     "output_type": "stream",
     "text": [
      "[Parallel(n_jobs=16)]: Done  10 out of  10 | elapsed:    1.5s finished\n"
     ]
    },
    {
     "name": "stdout",
     "output_type": "stream",
     "text": [
      "Evaluating params :  [{'max_features': 0.3852587753841524, 'min_samples_split': 2, 'min_samples_leaf': 5}, {'max_features': 0.3852587753841524, 'min_samples_split': 2, 'min_samples_leaf': 5}, {'max_features': 0.3852587753841524, 'min_samples_split': 2, 'min_samples_leaf': 5}, {'max_features': 0.3852587753841524, 'min_samples_split': 2, 'min_samples_leaf': 5}, {'max_features': 0.3852587753841524, 'min_samples_split': 2, 'min_samples_leaf': 5}, {'max_features': 0.23177326182629338, 'min_samples_split': 17, 'min_samples_leaf': 9}, {'max_features': 0.23177326182629338, 'min_samples_split': 17, 'min_samples_leaf': 9}, {'max_features': 0.23177326182629338, 'min_samples_split': 17, 'min_samples_leaf': 9}, {'max_features': 0.23177326182629338, 'min_samples_split': 17, 'min_samples_leaf': 9}, {'max_features': 0.23177326182629338, 'min_samples_split': 17, 'min_samples_leaf': 9}]\n",
      "[CV] max_features=0.385258775384, min_samples_split=2, min_samples_leaf=5 \n",
      "[CV] max_features=0.385258775384, min_samples_split=2, min_samples_leaf=5 \n",
      "[CV] max_features=0.385258775384, min_samples_split=2, min_samples_leaf=5 \n",
      "[CV] max_features=0.385258775384, min_samples_split=2, min_samples_leaf=5 \n",
      "[CV] max_features=0.385258775384, min_samples_split=2, min_samples_leaf=5 \n",
      "[CV] max_features=0.231773261826, min_samples_split=17, min_samples_leaf=9 \n",
      "[CV] max_features=0.231773261826, min_samples_split=17, min_samples_leaf=9 \n",
      "[CV] max_features=0.231773261826, min_samples_split=17, min_samples_leaf=9 \n",
      "[CV] max_features=0.231773261826, min_samples_split=17, min_samples_leaf=9 \n",
      "[CV] max_features=0.231773261826, min_samples_split=17, min_samples_leaf=9 \n",
      "[CV]  max_features=0.231773261826, min_samples_split=17, min_samples_leaf=9, total=   0.4s\n",
      "[CV]  max_features=0.231773261826, min_samples_split=17, min_samples_leaf=9, total=   0.4s\n",
      "[CV]  max_features=0.231773261826, min_samples_split=17, min_samples_leaf=9, total=   0.4s\n",
      "[CV]  max_features=0.231773261826, min_samples_split=17, min_samples_leaf=9, total=   0.5s\n",
      "[CV]  max_features=0.231773261826, min_samples_split=17, min_samples_leaf=9, total=   0.5s\n"
     ]
    },
    {
     "name": "stderr",
     "output_type": "stream",
     "text": [
      "[Parallel(n_jobs=16)]: Done   3 out of  10 | elapsed:    0.5s remaining:    1.3s\n"
     ]
    },
    {
     "name": "stdout",
     "output_type": "stream",
     "text": [
      "[CV]  max_features=0.385258775384, min_samples_split=2, min_samples_leaf=5, total=   0.7s\n",
      "[CV]  max_features=0.385258775384, min_samples_split=2, min_samples_leaf=5, total=   0.7s\n",
      "[CV]  max_features=0.385258775384, min_samples_split=2, min_samples_leaf=5, total=   0.7s\n",
      "[CV]  max_features=0.385258775384, min_samples_split=2, min_samples_leaf=5, total=   0.8s\n",
      "[CV]  max_features=0.385258775384, min_samples_split=2, min_samples_leaf=5, total=   0.7s\n"
     ]
    },
    {
     "name": "stderr",
     "output_type": "stream",
     "text": [
      "[Parallel(n_jobs=16)]: Done  10 out of  10 | elapsed:    0.8s finished\n"
     ]
    },
    {
     "name": "stdout",
     "output_type": "stream",
     "text": [
      "Evaluating params :  [{'max_features': 0.8206661063987685, 'min_samples_split': 20, 'min_samples_leaf': 5}, {'max_features': 0.8206661063987685, 'min_samples_split': 20, 'min_samples_leaf': 5}, {'max_features': 0.8206661063987685, 'min_samples_split': 20, 'min_samples_leaf': 5}, {'max_features': 0.8206661063987685, 'min_samples_split': 20, 'min_samples_leaf': 5}, {'max_features': 0.8206661063987685, 'min_samples_split': 20, 'min_samples_leaf': 5}, {'max_features': 0.6998148922090665, 'min_samples_split': 21, 'min_samples_leaf': 3}, {'max_features': 0.6998148922090665, 'min_samples_split': 21, 'min_samples_leaf': 3}, {'max_features': 0.6998148922090665, 'min_samples_split': 21, 'min_samples_leaf': 3}, {'max_features': 0.6998148922090665, 'min_samples_split': 21, 'min_samples_leaf': 3}, {'max_features': 0.6998148922090665, 'min_samples_split': 21, 'min_samples_leaf': 3}]\n",
      "[CV] max_features=0.820666106399, min_samples_split=20, min_samples_leaf=5 \n",
      "[CV] max_features=0.820666106399, min_samples_split=20, min_samples_leaf=5 \n",
      "[CV] max_features=0.820666106399, min_samples_split=20, min_samples_leaf=5 \n",
      "[CV] max_features=0.820666106399, min_samples_split=20, min_samples_leaf=5 \n",
      "[CV] max_features=0.820666106399, min_samples_split=20, min_samples_leaf=5 \n",
      "[CV] max_features=0.699814892209, min_samples_split=21, min_samples_leaf=3 \n",
      "[CV] max_features=0.699814892209, min_samples_split=21, min_samples_leaf=3 \n",
      "[CV] max_features=0.699814892209, min_samples_split=21, min_samples_leaf=3 \n",
      "[CV] max_features=0.699814892209, min_samples_split=21, min_samples_leaf=3 \n",
      "[CV] max_features=0.699814892209, min_samples_split=21, min_samples_leaf=3 \n",
      "[CV]  max_features=0.699814892209, min_samples_split=21, min_samples_leaf=3, total=   1.2s\n",
      "[CV]  max_features=0.699814892209, min_samples_split=21, min_samples_leaf=3, total=   1.3s\n",
      "[CV]  max_features=0.699814892209, min_samples_split=21, min_samples_leaf=3, total=   1.3s\n",
      "[CV]  max_features=0.699814892209, min_samples_split=21, min_samples_leaf=3, total=   1.3s\n",
      "[CV]  max_features=0.699814892209, min_samples_split=21, min_samples_leaf=3, total=   1.3s\n",
      "[CV]  max_features=0.820666106399, min_samples_split=20, min_samples_leaf=5, total=   1.4s\n",
      "[CV]  max_features=0.820666106399, min_samples_split=20, min_samples_leaf=5, total=   1.4s\n",
      "[CV]  max_features=0.820666106399, min_samples_split=20, min_samples_leaf=5, total=   1.4s\n",
      "[CV]  max_features=0.820666106399, min_samples_split=20, min_samples_leaf=5, total=   1.4s\n",
      "[CV]  max_features=0.820666106399, min_samples_split=20, min_samples_leaf=5, total=   1.4s\n"
     ]
    },
    {
     "name": "stderr",
     "output_type": "stream",
     "text": [
      "[Parallel(n_jobs=16)]: Done   3 out of  10 | elapsed:    1.4s remaining:    3.2s\n",
      "[Parallel(n_jobs=16)]: Done  10 out of  10 | elapsed:    1.5s finished\n"
     ]
    },
    {
     "name": "stdout",
     "output_type": "stream",
     "text": [
      "Evaluating params :  [{'max_features': 0.6776557690532563, 'min_samples_split': 16, 'min_samples_leaf': 9}, {'max_features': 0.6776557690532563, 'min_samples_split': 16, 'min_samples_leaf': 9}, {'max_features': 0.6776557690532563, 'min_samples_split': 16, 'min_samples_leaf': 9}, {'max_features': 0.6776557690532563, 'min_samples_split': 16, 'min_samples_leaf': 9}, {'max_features': 0.6776557690532563, 'min_samples_split': 16, 'min_samples_leaf': 9}, {'max_features': 0.5990055269436149, 'min_samples_split': 20, 'min_samples_leaf': 2}, {'max_features': 0.5990055269436149, 'min_samples_split': 20, 'min_samples_leaf': 2}, {'max_features': 0.5990055269436149, 'min_samples_split': 20, 'min_samples_leaf': 2}, {'max_features': 0.5990055269436149, 'min_samples_split': 20, 'min_samples_leaf': 2}, {'max_features': 0.5990055269436149, 'min_samples_split': 20, 'min_samples_leaf': 2}]\n",
      "[CV] max_features=0.677655769053, min_samples_split=16, min_samples_leaf=9 \n",
      "[CV] max_features=0.677655769053, min_samples_split=16, min_samples_leaf=9 \n",
      "[CV] max_features=0.677655769053, min_samples_split=16, min_samples_leaf=9 \n",
      "[CV] max_features=0.677655769053, min_samples_split=16, min_samples_leaf=9 \n",
      "[CV] max_features=0.677655769053, min_samples_split=16, min_samples_leaf=9 \n",
      "[CV] max_features=0.599005526944, min_samples_split=20, min_samples_leaf=2 \n",
      "[CV] max_features=0.599005526944, min_samples_split=20, min_samples_leaf=2 \n",
      "[CV] max_features=0.599005526944, min_samples_split=20, min_samples_leaf=2 \n",
      "[CV] max_features=0.599005526944, min_samples_split=20, min_samples_leaf=2 \n",
      "[CV] max_features=0.599005526944, min_samples_split=20, min_samples_leaf=2 \n",
      "[CV]  max_features=0.677655769053, min_samples_split=16, min_samples_leaf=9, total=   1.1s\n",
      "[CV]  max_features=0.677655769053, min_samples_split=16, min_samples_leaf=9, total=   1.1s\n",
      "[CV]  max_features=0.677655769053, min_samples_split=16, min_samples_leaf=9, total=   1.1s\n",
      "[CV]  max_features=0.599005526944, min_samples_split=20, min_samples_leaf=2, total=   1.1s\n",
      "[CV]  max_features=0.677655769053, min_samples_split=16, min_samples_leaf=9, total=   1.1s\n",
      "[CV]  max_features=0.677655769053, min_samples_split=16, min_samples_leaf=9, total=   1.2s\n",
      "[CV]  max_features=0.599005526944, min_samples_split=20, min_samples_leaf=2, total=   1.2s\n",
      "[CV]  max_features=0.599005526944, min_samples_split=20, min_samples_leaf=2, total=   1.2s\n",
      "[CV]  max_features=0.599005526944, min_samples_split=20, min_samples_leaf=2, total=   1.2s\n",
      "[CV]  max_features=0.599005526944, min_samples_split=20, min_samples_leaf=2, total=   1.2s\n"
     ]
    },
    {
     "name": "stderr",
     "output_type": "stream",
     "text": [
      "[Parallel(n_jobs=16)]: Done   3 out of  10 | elapsed:    1.2s remaining:    2.8s\n",
      "[Parallel(n_jobs=16)]: Done  10 out of  10 | elapsed:    1.3s finished\n"
     ]
    },
    {
     "name": "stdout",
     "output_type": "stream",
     "text": [
      "Evaluating params :  [{'max_features': 0.5939346096784992, 'min_samples_split': 16, 'min_samples_leaf': 4}, {'max_features': 0.5939346096784992, 'min_samples_split': 16, 'min_samples_leaf': 4}, {'max_features': 0.5939346096784992, 'min_samples_split': 16, 'min_samples_leaf': 4}, {'max_features': 0.5939346096784992, 'min_samples_split': 16, 'min_samples_leaf': 4}, {'max_features': 0.5939346096784992, 'min_samples_split': 16, 'min_samples_leaf': 4}, {'max_features': 0.5800567911199933, 'min_samples_split': 4, 'min_samples_leaf': 15}, {'max_features': 0.5800567911199933, 'min_samples_split': 4, 'min_samples_leaf': 15}, {'max_features': 0.5800567911199933, 'min_samples_split': 4, 'min_samples_leaf': 15}, {'max_features': 0.5800567911199933, 'min_samples_split': 4, 'min_samples_leaf': 15}, {'max_features': 0.5800567911199933, 'min_samples_split': 4, 'min_samples_leaf': 15}]\n",
      "[CV] max_features=0.593934609678, min_samples_split=16, min_samples_leaf=4 \n",
      "[CV] max_features=0.593934609678, min_samples_split=16, min_samples_leaf=4 \n",
      "[CV] max_features=0.593934609678, min_samples_split=16, min_samples_leaf=4 \n",
      "[CV] max_features=0.593934609678, min_samples_split=16, min_samples_leaf=4 \n",
      "[CV] max_features=0.593934609678, min_samples_split=16, min_samples_leaf=4 \n",
      "[CV] max_features=0.58005679112, min_samples_split=4, min_samples_leaf=15 \n",
      "[CV] max_features=0.58005679112, min_samples_split=4, min_samples_leaf=15 \n",
      "[CV] max_features=0.58005679112, min_samples_split=4, min_samples_leaf=15 \n",
      "[CV] max_features=0.58005679112, min_samples_split=4, min_samples_leaf=15 \n",
      "[CV] max_features=0.58005679112, min_samples_split=4, min_samples_leaf=15 \n",
      "[CV]  max_features=0.58005679112, min_samples_split=4, min_samples_leaf=15, total=   0.9s\n",
      "[CV]  max_features=0.58005679112, min_samples_split=4, min_samples_leaf=15, total=   0.9s\n",
      "[CV]  max_features=0.58005679112, min_samples_split=4, min_samples_leaf=15, total=   0.9s\n",
      "[CV]  max_features=0.58005679112, min_samples_split=4, min_samples_leaf=15, total=   1.0s\n",
      "[CV]  max_features=0.58005679112, min_samples_split=4, min_samples_leaf=15, total=   1.0s\n",
      "[CV]  max_features=0.593934609678, min_samples_split=16, min_samples_leaf=4, total=   1.0s\n",
      "[CV]  max_features=0.593934609678, min_samples_split=16, min_samples_leaf=4, total=   1.1s\n",
      "[CV]  max_features=0.593934609678, min_samples_split=16, min_samples_leaf=4, total=   1.2s\n"
     ]
    },
    {
     "name": "stderr",
     "output_type": "stream",
     "text": [
      "[Parallel(n_jobs=16)]: Done   3 out of  10 | elapsed:    1.0s remaining:    2.4s\n"
     ]
    },
    {
     "name": "stdout",
     "output_type": "stream",
     "text": [
      "[CV]  max_features=0.593934609678, min_samples_split=16, min_samples_leaf=4, total=   1.2s\n",
      "[CV]  max_features=0.593934609678, min_samples_split=16, min_samples_leaf=4, total=   1.2s\n"
     ]
    },
    {
     "name": "stderr",
     "output_type": "stream",
     "text": [
      "[Parallel(n_jobs=16)]: Done  10 out of  10 | elapsed:    1.3s finished\n"
     ]
    },
    {
     "name": "stdout",
     "output_type": "stream",
     "text": [
      "Evaluating params :  [{'max_features': 0.5961807894712041, 'min_samples_split': 17, 'min_samples_leaf': 5}, {'max_features': 0.5961807894712041, 'min_samples_split': 17, 'min_samples_leaf': 5}, {'max_features': 0.5961807894712041, 'min_samples_split': 17, 'min_samples_leaf': 5}, {'max_features': 0.5961807894712041, 'min_samples_split': 17, 'min_samples_leaf': 5}, {'max_features': 0.5961807894712041, 'min_samples_split': 17, 'min_samples_leaf': 5}, {'max_features': 0.6577710828058533, 'min_samples_split': 9, 'min_samples_leaf': 17}, {'max_features': 0.6577710828058533, 'min_samples_split': 9, 'min_samples_leaf': 17}, {'max_features': 0.6577710828058533, 'min_samples_split': 9, 'min_samples_leaf': 17}, {'max_features': 0.6577710828058533, 'min_samples_split': 9, 'min_samples_leaf': 17}, {'max_features': 0.6577710828058533, 'min_samples_split': 9, 'min_samples_leaf': 17}]\n",
      "[CV] max_features=0.596180789471, min_samples_split=17, min_samples_leaf=5 \n",
      "[CV] max_features=0.596180789471, min_samples_split=17, min_samples_leaf=5 \n",
      "[CV] max_features=0.596180789471, min_samples_split=17, min_samples_leaf=5 \n",
      "[CV] max_features=0.596180789471, min_samples_split=17, min_samples_leaf=5 \n",
      "[CV] max_features=0.596180789471, min_samples_split=17, min_samples_leaf=5 \n",
      "[CV] max_features=0.657771082806, min_samples_split=9, min_samples_leaf=17 \n",
      "[CV] max_features=0.657771082806, min_samples_split=9, min_samples_leaf=17 \n",
      "[CV] max_features=0.657771082806, min_samples_split=9, min_samples_leaf=17 \n",
      "[CV] max_features=0.657771082806, min_samples_split=9, min_samples_leaf=17 \n",
      "[CV] max_features=0.657771082806, min_samples_split=9, min_samples_leaf=17 \n",
      "[CV]  max_features=0.596180789471, min_samples_split=17, min_samples_leaf=5, total=   1.0s\n",
      "[CV]  max_features=0.657771082806, min_samples_split=9, min_samples_leaf=17, total=   1.0s\n",
      "[CV]  max_features=0.596180789471, min_samples_split=17, min_samples_leaf=5, total=   1.0s\n",
      "[CV]  max_features=0.657771082806, min_samples_split=9, min_samples_leaf=17, total=   1.0s\n",
      "[CV]  max_features=0.657771082806, min_samples_split=9, min_samples_leaf=17, total=   1.1s\n",
      "[CV]  max_features=0.657771082806, min_samples_split=9, min_samples_leaf=17, total=   1.1s\n",
      "[CV]  max_features=0.596180789471, min_samples_split=17, min_samples_leaf=5, total=   1.2s\n",
      "[CV]  max_features=0.596180789471, min_samples_split=17, min_samples_leaf=5, total=   1.2s\n",
      "[CV]  max_features=0.657771082806, min_samples_split=9, min_samples_leaf=17, total=   1.1s\n",
      "[CV]  max_features=0.596180789471, min_samples_split=17, min_samples_leaf=5, total=   1.2s\n"
     ]
    },
    {
     "name": "stderr",
     "output_type": "stream",
     "text": [
      "[Parallel(n_jobs=16)]: Done   3 out of  10 | elapsed:    1.1s remaining:    2.6s\n",
      "[Parallel(n_jobs=16)]: Done  10 out of  10 | elapsed:    1.3s finished\n"
     ]
    },
    {
     "name": "stdout",
     "output_type": "stream",
     "text": [
      "Evaluating params :  [{'max_features': 0.5270281147835929, 'min_samples_split': 19, 'min_samples_leaf': 4}, {'max_features': 0.5270281147835929, 'min_samples_split': 19, 'min_samples_leaf': 4}, {'max_features': 0.5270281147835929, 'min_samples_split': 19, 'min_samples_leaf': 4}, {'max_features': 0.5270281147835929, 'min_samples_split': 19, 'min_samples_leaf': 4}, {'max_features': 0.5270281147835929, 'min_samples_split': 19, 'min_samples_leaf': 4}, {'max_features': 0.6278972578928815, 'min_samples_split': 18, 'min_samples_leaf': 1}, {'max_features': 0.6278972578928815, 'min_samples_split': 18, 'min_samples_leaf': 1}, {'max_features': 0.6278972578928815, 'min_samples_split': 18, 'min_samples_leaf': 1}, {'max_features': 0.6278972578928815, 'min_samples_split': 18, 'min_samples_leaf': 1}, {'max_features': 0.6278972578928815, 'min_samples_split': 18, 'min_samples_leaf': 1}]\n",
      "[CV] max_features=0.527028114784, min_samples_split=19, min_samples_leaf=4 \n",
      "[CV] max_features=0.527028114784, min_samples_split=19, min_samples_leaf=4 \n",
      "[CV] max_features=0.527028114784, min_samples_split=19, min_samples_leaf=4 \n",
      "[CV] max_features=0.527028114784, min_samples_split=19, min_samples_leaf=4 \n",
      "[CV] max_features=0.527028114784, min_samples_split=19, min_samples_leaf=4 \n",
      "[CV] max_features=0.627897257893, min_samples_split=18, min_samples_leaf=1 \n",
      "[CV] max_features=0.627897257893, min_samples_split=18, min_samples_leaf=1 \n",
      "[CV] max_features=0.627897257893, min_samples_split=18, min_samples_leaf=1 \n",
      "[CV] max_features=0.627897257893, min_samples_split=18, min_samples_leaf=1 \n",
      "[CV] max_features=0.627897257893, min_samples_split=18, min_samples_leaf=1 \n",
      "[CV]  max_features=0.527028114784, min_samples_split=19, min_samples_leaf=4, total=   0.9s\n",
      "[CV]  max_features=0.527028114784, min_samples_split=19, min_samples_leaf=4, total=   1.0s\n",
      "[CV]  max_features=0.527028114784, min_samples_split=19, min_samples_leaf=4, total=   1.0s\n",
      "[CV]  max_features=0.527028114784, min_samples_split=19, min_samples_leaf=4, total=   1.0s\n",
      "[CV]  max_features=0.527028114784, min_samples_split=19, min_samples_leaf=4, total=   1.0s\n"
     ]
    },
    {
     "name": "stderr",
     "output_type": "stream",
     "text": [
      "[Parallel(n_jobs=16)]: Done   3 out of  10 | elapsed:    1.0s remaining:    2.4s\n"
     ]
    },
    {
     "name": "stdout",
     "output_type": "stream",
     "text": [
      "[CV]  max_features=0.627897257893, min_samples_split=18, min_samples_leaf=1, total=   1.3s\n",
      "[CV]  max_features=0.627897257893, min_samples_split=18, min_samples_leaf=1, total=   1.3s\n",
      "[CV]  max_features=0.627897257893, min_samples_split=18, min_samples_leaf=1, total=   1.3s\n",
      "[CV]  max_features=0.627897257893, min_samples_split=18, min_samples_leaf=1, total=   1.3s\n",
      "[CV]  max_features=0.627897257893, min_samples_split=18, min_samples_leaf=1, total=   1.3s\n"
     ]
    },
    {
     "name": "stderr",
     "output_type": "stream",
     "text": [
      "[Parallel(n_jobs=16)]: Done  10 out of  10 | elapsed:    1.5s finished\n"
     ]
    },
    {
     "name": "stdout",
     "output_type": "stream",
     "text": [
      "Evaluating params :  [{'max_features': 0.4613656786679345, 'min_samples_split': 4, 'min_samples_leaf': 11}, {'max_features': 0.4613656786679345, 'min_samples_split': 4, 'min_samples_leaf': 11}, {'max_features': 0.4613656786679345, 'min_samples_split': 4, 'min_samples_leaf': 11}, {'max_features': 0.4613656786679345, 'min_samples_split': 4, 'min_samples_leaf': 11}, {'max_features': 0.4613656786679345, 'min_samples_split': 4, 'min_samples_leaf': 11}, {'max_features': 0.9191760118791299, 'min_samples_split': 11, 'min_samples_leaf': 18}, {'max_features': 0.9191760118791299, 'min_samples_split': 11, 'min_samples_leaf': 18}, {'max_features': 0.9191760118791299, 'min_samples_split': 11, 'min_samples_leaf': 18}, {'max_features': 0.9191760118791299, 'min_samples_split': 11, 'min_samples_leaf': 18}, {'max_features': 0.9191760118791299, 'min_samples_split': 11, 'min_samples_leaf': 18}]\n",
      "[CV] max_features=0.461365678668, min_samples_split=4, min_samples_leaf=11 \n",
      "[CV] max_features=0.461365678668, min_samples_split=4, min_samples_leaf=11 \n",
      "[CV] max_features=0.461365678668, min_samples_split=4, min_samples_leaf=11 \n",
      "[CV] max_features=0.461365678668, min_samples_split=4, min_samples_leaf=11 \n",
      "[CV] max_features=0.461365678668, min_samples_split=4, min_samples_leaf=11 \n",
      "[CV] max_features=0.919176011879, min_samples_split=11, min_samples_leaf=18 \n",
      "[CV] max_features=0.919176011879, min_samples_split=11, min_samples_leaf=18 \n",
      "[CV] max_features=0.919176011879, min_samples_split=11, min_samples_leaf=18 \n",
      "[CV] max_features=0.919176011879, min_samples_split=11, min_samples_leaf=18 \n",
      "[CV] max_features=0.919176011879, min_samples_split=11, min_samples_leaf=18 \n",
      "[CV]  max_features=0.461365678668, min_samples_split=4, min_samples_leaf=11, total=   0.8s\n",
      "[CV]  max_features=0.461365678668, min_samples_split=4, min_samples_leaf=11, total=   0.8s\n",
      "[CV]  max_features=0.461365678668, min_samples_split=4, min_samples_leaf=11, total=   0.8s\n",
      "[CV]  max_features=0.461365678668, min_samples_split=4, min_samples_leaf=11, total=   0.8s\n",
      "[CV]  max_features=0.461365678668, min_samples_split=4, min_samples_leaf=11, total=   0.8s\n"
     ]
    },
    {
     "name": "stderr",
     "output_type": "stream",
     "text": [
      "[Parallel(n_jobs=16)]: Done   3 out of  10 | elapsed:    0.8s remaining:    1.9s\n"
     ]
    },
    {
     "name": "stdout",
     "output_type": "stream",
     "text": [
      "[CV]  max_features=0.919176011879, min_samples_split=11, min_samples_leaf=18, total=   1.3s\n",
      "[CV]  max_features=0.919176011879, min_samples_split=11, min_samples_leaf=18, total=   1.3s\n",
      "[CV]  max_features=0.919176011879, min_samples_split=11, min_samples_leaf=18, total=   1.3s\n",
      "[CV]  max_features=0.919176011879, min_samples_split=11, min_samples_leaf=18, total=   1.3s\n",
      "[CV]  max_features=0.919176011879, min_samples_split=11, min_samples_leaf=18, total=   1.4s\n"
     ]
    },
    {
     "name": "stderr",
     "output_type": "stream",
     "text": [
      "[Parallel(n_jobs=16)]: Done  10 out of  10 | elapsed:    1.5s finished\n"
     ]
    },
    {
     "name": "stdout",
     "output_type": "stream",
     "text": [
      "Evaluating params :  [{'max_features': 0.6276000738019288, 'min_samples_split': 8, 'min_samples_leaf': 13}, {'max_features': 0.6276000738019288, 'min_samples_split': 8, 'min_samples_leaf': 13}, {'max_features': 0.6276000738019288, 'min_samples_split': 8, 'min_samples_leaf': 13}, {'max_features': 0.6276000738019288, 'min_samples_split': 8, 'min_samples_leaf': 13}, {'max_features': 0.6276000738019288, 'min_samples_split': 8, 'min_samples_leaf': 13}, {'max_features': 0.9742299080384513, 'min_samples_split': 6, 'min_samples_leaf': 4}, {'max_features': 0.9742299080384513, 'min_samples_split': 6, 'min_samples_leaf': 4}, {'max_features': 0.9742299080384513, 'min_samples_split': 6, 'min_samples_leaf': 4}, {'max_features': 0.9742299080384513, 'min_samples_split': 6, 'min_samples_leaf': 4}, {'max_features': 0.9742299080384513, 'min_samples_split': 6, 'min_samples_leaf': 4}]\n",
      "[CV] max_features=0.627600073802, min_samples_split=8, min_samples_leaf=13 \n",
      "[CV] max_features=0.627600073802, min_samples_split=8, min_samples_leaf=13 \n",
      "[CV] max_features=0.627600073802, min_samples_split=8, min_samples_leaf=13 \n",
      "[CV] max_features=0.627600073802, min_samples_split=8, min_samples_leaf=13 \n",
      "[CV] max_features=0.627600073802, min_samples_split=8, min_samples_leaf=13 \n",
      "[CV] max_features=0.974229908038, min_samples_split=6, min_samples_leaf=4 \n",
      "[CV] max_features=0.974229908038, min_samples_split=6, min_samples_leaf=4 \n",
      "[CV] max_features=0.974229908038, min_samples_split=6, min_samples_leaf=4 \n",
      "[CV] max_features=0.974229908038, min_samples_split=6, min_samples_leaf=4 \n",
      "[CV] max_features=0.974229908038, min_samples_split=6, min_samples_leaf=4 \n",
      "[CV]  max_features=0.627600073802, min_samples_split=8, min_samples_leaf=13, total=   1.0s\n",
      "[CV]  max_features=0.627600073802, min_samples_split=8, min_samples_leaf=13, total=   1.0s\n",
      "[CV]  max_features=0.627600073802, min_samples_split=8, min_samples_leaf=13, total=   1.0s\n",
      "[CV]  max_features=0.627600073802, min_samples_split=8, min_samples_leaf=13, total=   1.0s\n",
      "[CV]  max_features=0.627600073802, min_samples_split=8, min_samples_leaf=13, total=   1.0s\n"
     ]
    },
    {
     "name": "stderr",
     "output_type": "stream",
     "text": [
      "[Parallel(n_jobs=16)]: Done   3 out of  10 | elapsed:    1.1s remaining:    2.5s\n"
     ]
    },
    {
     "name": "stdout",
     "output_type": "stream",
     "text": [
      "[CV]  max_features=0.974229908038, min_samples_split=6, min_samples_leaf=4, total=   1.7s\n",
      "[CV]  max_features=0.974229908038, min_samples_split=6, min_samples_leaf=4, total=   1.8s\n",
      "[CV]  max_features=0.974229908038, min_samples_split=6, min_samples_leaf=4, total=   1.8s\n",
      "[CV]  max_features=0.974229908038, min_samples_split=6, min_samples_leaf=4, total=   1.8s\n",
      "[CV]  max_features=0.974229908038, min_samples_split=6, min_samples_leaf=4, total=   1.9s\n"
     ]
    },
    {
     "name": "stderr",
     "output_type": "stream",
     "text": [
      "[Parallel(n_jobs=16)]: Done  10 out of  10 | elapsed:    1.9s finished\n"
     ]
    },
    {
     "name": "stdout",
     "output_type": "stream",
     "text": [
      "Evaluating params :  [{'max_features': 0.8995484855454312, 'min_samples_split': 8, 'min_samples_leaf': 11}, {'max_features': 0.8995484855454312, 'min_samples_split': 8, 'min_samples_leaf': 11}, {'max_features': 0.8995484855454312, 'min_samples_split': 8, 'min_samples_leaf': 11}, {'max_features': 0.8995484855454312, 'min_samples_split': 8, 'min_samples_leaf': 11}, {'max_features': 0.8995484855454312, 'min_samples_split': 8, 'min_samples_leaf': 11}, {'max_features': 0.29512550625011835, 'min_samples_split': 6, 'min_samples_leaf': 3}, {'max_features': 0.29512550625011835, 'min_samples_split': 6, 'min_samples_leaf': 3}, {'max_features': 0.29512550625011835, 'min_samples_split': 6, 'min_samples_leaf': 3}, {'max_features': 0.29512550625011835, 'min_samples_split': 6, 'min_samples_leaf': 3}, {'max_features': 0.29512550625011835, 'min_samples_split': 6, 'min_samples_leaf': 3}]\n",
      "[CV] max_features=0.899548485545, min_samples_split=8, min_samples_leaf=11 \n",
      "[CV] max_features=0.899548485545, min_samples_split=8, min_samples_leaf=11 \n",
      "[CV] max_features=0.899548485545, min_samples_split=8, min_samples_leaf=11 \n",
      "[CV] max_features=0.899548485545, min_samples_split=8, min_samples_leaf=11 \n",
      "[CV] max_features=0.899548485545, min_samples_split=8, min_samples_leaf=11 \n",
      "[CV] max_features=0.29512550625, min_samples_split=6, min_samples_leaf=3 \n",
      "[CV] max_features=0.29512550625, min_samples_split=6, min_samples_leaf=3 \n",
      "[CV] max_features=0.29512550625, min_samples_split=6, min_samples_leaf=3 \n",
      "[CV] max_features=0.29512550625, min_samples_split=6, min_samples_leaf=3 \n",
      "[CV] max_features=0.29512550625, min_samples_split=6, min_samples_leaf=3 \n",
      "[CV]  max_features=0.29512550625, min_samples_split=6, min_samples_leaf=3, total=   0.6s\n",
      "[CV]  max_features=0.29512550625, min_samples_split=6, min_samples_leaf=3, total=   0.6s\n",
      "[CV]  max_features=0.29512550625, min_samples_split=6, min_samples_leaf=3, total=   0.6s\n",
      "[CV]  max_features=0.29512550625, min_samples_split=6, min_samples_leaf=3, total=   0.6s\n",
      "[CV]  max_features=0.29512550625, min_samples_split=6, min_samples_leaf=3, total=   0.6s\n"
     ]
    },
    {
     "name": "stderr",
     "output_type": "stream",
     "text": [
      "[Parallel(n_jobs=16)]: Done   3 out of  10 | elapsed:    0.7s remaining:    1.7s\n"
     ]
    },
    {
     "name": "stdout",
     "output_type": "stream",
     "text": [
      "[CV]  max_features=0.899548485545, min_samples_split=8, min_samples_leaf=11, total=   1.4s\n",
      "[CV]  max_features=0.899548485545, min_samples_split=8, min_samples_leaf=11, total=   1.4s\n",
      "[CV]  max_features=0.899548485545, min_samples_split=8, min_samples_leaf=11, total=   1.4s\n",
      "[CV]  max_features=0.899548485545, min_samples_split=8, min_samples_leaf=11, total=   1.4s\n",
      "[CV]  max_features=0.899548485545, min_samples_split=8, min_samples_leaf=11, total=   1.4s\n"
     ]
    },
    {
     "name": "stderr",
     "output_type": "stream",
     "text": [
      "[Parallel(n_jobs=16)]: Done  10 out of  10 | elapsed:    1.5s finished\n"
     ]
    },
    {
     "name": "stdout",
     "output_type": "stream",
     "text": [
      "Evaluating params :  [{'max_features': 0.38142368902743723, 'min_samples_split': 18, 'min_samples_leaf': 19}, {'max_features': 0.38142368902743723, 'min_samples_split': 18, 'min_samples_leaf': 19}, {'max_features': 0.38142368902743723, 'min_samples_split': 18, 'min_samples_leaf': 19}, {'max_features': 0.38142368902743723, 'min_samples_split': 18, 'min_samples_leaf': 19}, {'max_features': 0.38142368902743723, 'min_samples_split': 18, 'min_samples_leaf': 19}, {'max_features': 0.5030819462658985, 'min_samples_split': 15, 'min_samples_leaf': 21}, {'max_features': 0.5030819462658985, 'min_samples_split': 15, 'min_samples_leaf': 21}, {'max_features': 0.5030819462658985, 'min_samples_split': 15, 'min_samples_leaf': 21}, {'max_features': 0.5030819462658985, 'min_samples_split': 15, 'min_samples_leaf': 21}, {'max_features': 0.5030819462658985, 'min_samples_split': 15, 'min_samples_leaf': 21}]\n",
      "[CV] max_features=0.381423689027, min_samples_split=18, min_samples_leaf=19 \n",
      "[CV] max_features=0.381423689027, min_samples_split=18, min_samples_leaf=19 \n",
      "[CV] max_features=0.381423689027, min_samples_split=18, min_samples_leaf=19 \n",
      "[CV] max_features=0.381423689027, min_samples_split=18, min_samples_leaf=19 \n",
      "[CV] max_features=0.381423689027, min_samples_split=18, min_samples_leaf=19 \n",
      "[CV] max_features=0.503081946266, min_samples_split=15, min_samples_leaf=21 \n",
      "[CV] max_features=0.503081946266, min_samples_split=15, min_samples_leaf=21 \n",
      "[CV] max_features=0.503081946266, min_samples_split=15, min_samples_leaf=21 \n",
      "[CV] max_features=0.503081946266, min_samples_split=15, min_samples_leaf=21 \n",
      "[CV] max_features=0.503081946266, min_samples_split=15, min_samples_leaf=21 \n",
      "[CV]  max_features=0.381423689027, min_samples_split=18, min_samples_leaf=19, total=   0.6s\n",
      "[CV]  max_features=0.381423689027, min_samples_split=18, min_samples_leaf=19, total=   0.6s\n",
      "[CV]  max_features=0.381423689027, min_samples_split=18, min_samples_leaf=19, total=   0.6s\n",
      "[CV]  max_features=0.381423689027, min_samples_split=18, min_samples_leaf=19, total=   0.6s\n",
      "[CV]  max_features=0.381423689027, min_samples_split=18, min_samples_leaf=19, total=   0.6s\n",
      "[CV]  max_features=0.503081946266, min_samples_split=15, min_samples_leaf=21, total=   0.7s\n",
      "[CV]  max_features=0.503081946266, min_samples_split=15, min_samples_leaf=21, total=   0.8s\n"
     ]
    },
    {
     "name": "stderr",
     "output_type": "stream",
     "text": [
      "[Parallel(n_jobs=16)]: Done   3 out of  10 | elapsed:    0.7s remaining:    1.6s\n"
     ]
    },
    {
     "name": "stdout",
     "output_type": "stream",
     "text": [
      "[CV]  max_features=0.503081946266, min_samples_split=15, min_samples_leaf=21, total=   0.8s\n",
      "[CV]  max_features=0.503081946266, min_samples_split=15, min_samples_leaf=21, total=   0.8s\n",
      "[CV]  max_features=0.503081946266, min_samples_split=15, min_samples_leaf=21, total=   0.8s\n"
     ]
    },
    {
     "name": "stderr",
     "output_type": "stream",
     "text": [
      "[Parallel(n_jobs=16)]: Done  10 out of  10 | elapsed:    0.9s finished\n"
     ]
    },
    {
     "name": "stdout",
     "output_type": "stream",
     "text": [
      "Evaluating params :  [{'max_features': 0.6256873242742961, 'min_samples_split': 12, 'min_samples_leaf': 11}, {'max_features': 0.6256873242742961, 'min_samples_split': 12, 'min_samples_leaf': 11}, {'max_features': 0.6256873242742961, 'min_samples_split': 12, 'min_samples_leaf': 11}, {'max_features': 0.6256873242742961, 'min_samples_split': 12, 'min_samples_leaf': 11}, {'max_features': 0.6256873242742961, 'min_samples_split': 12, 'min_samples_leaf': 11}, {'max_features': 0.7129736043727719, 'min_samples_split': 3, 'min_samples_leaf': 5}, {'max_features': 0.7129736043727719, 'min_samples_split': 3, 'min_samples_leaf': 5}, {'max_features': 0.7129736043727719, 'min_samples_split': 3, 'min_samples_leaf': 5}, {'max_features': 0.7129736043727719, 'min_samples_split': 3, 'min_samples_leaf': 5}, {'max_features': 0.7129736043727719, 'min_samples_split': 3, 'min_samples_leaf': 5}]\n",
      "[CV] max_features=0.625687324274, min_samples_split=12, min_samples_leaf=11 \n",
      "[CV] max_features=0.625687324274, min_samples_split=12, min_samples_leaf=11 \n",
      "[CV] max_features=0.625687324274, min_samples_split=12, min_samples_leaf=11 \n",
      "[CV] max_features=0.625687324274, min_samples_split=12, min_samples_leaf=11 \n",
      "[CV] max_features=0.625687324274, min_samples_split=12, min_samples_leaf=11 \n",
      "[CV] max_features=0.712973604373, min_samples_split=3, min_samples_leaf=5 \n",
      "[CV] max_features=0.712973604373, min_samples_split=3, min_samples_leaf=5 \n",
      "[CV] max_features=0.712973604373, min_samples_split=3, min_samples_leaf=5 \n",
      "[CV] max_features=0.712973604373, min_samples_split=3, min_samples_leaf=5 \n",
      "[CV] max_features=0.712973604373, min_samples_split=3, min_samples_leaf=5 \n",
      "[CV]  max_features=0.625687324274, min_samples_split=12, min_samples_leaf=11, total=   1.1s\n",
      "[CV]  max_features=0.625687324274, min_samples_split=12, min_samples_leaf=11, total=   1.1s\n",
      "[CV]  max_features=0.625687324274, min_samples_split=12, min_samples_leaf=11, total=   1.1s\n",
      "[CV]  max_features=0.625687324274, min_samples_split=12, min_samples_leaf=11, total=   1.1s\n",
      "[CV]  max_features=0.625687324274, min_samples_split=12, min_samples_leaf=11, total=   1.1s\n"
     ]
    },
    {
     "name": "stderr",
     "output_type": "stream",
     "text": [
      "[Parallel(n_jobs=16)]: Done   3 out of  10 | elapsed:    1.1s remaining:    2.7s\n"
     ]
    },
    {
     "name": "stdout",
     "output_type": "stream",
     "text": [
      "[CV]  max_features=0.712973604373, min_samples_split=3, min_samples_leaf=5, total=   1.2s\n",
      "[CV]  max_features=0.712973604373, min_samples_split=3, min_samples_leaf=5, total=   1.3s\n",
      "[CV]  max_features=0.712973604373, min_samples_split=3, min_samples_leaf=5, total=   1.3s\n",
      "[CV]  max_features=0.712973604373, min_samples_split=3, min_samples_leaf=5, total=   1.3s\n",
      "[CV]  max_features=0.712973604373, min_samples_split=3, min_samples_leaf=5, total=   1.3s\n"
     ]
    },
    {
     "name": "stderr",
     "output_type": "stream",
     "text": [
      "[Parallel(n_jobs=16)]: Done  10 out of  10 | elapsed:    1.4s finished\n"
     ]
    },
    {
     "name": "stdout",
     "output_type": "stream",
     "text": [
      "Evaluating params :  [{'max_features': 0.4267175971706783, 'min_samples_split': 20, 'min_samples_leaf': 1}, {'max_features': 0.4267175971706783, 'min_samples_split': 20, 'min_samples_leaf': 1}, {'max_features': 0.4267175971706783, 'min_samples_split': 20, 'min_samples_leaf': 1}, {'max_features': 0.4267175971706783, 'min_samples_split': 20, 'min_samples_leaf': 1}, {'max_features': 0.4267175971706783, 'min_samples_split': 20, 'min_samples_leaf': 1}, {'max_features': 0.8333951892910844, 'min_samples_split': 14, 'min_samples_leaf': 14}, {'max_features': 0.8333951892910844, 'min_samples_split': 14, 'min_samples_leaf': 14}, {'max_features': 0.8333951892910844, 'min_samples_split': 14, 'min_samples_leaf': 14}, {'max_features': 0.8333951892910844, 'min_samples_split': 14, 'min_samples_leaf': 14}, {'max_features': 0.8333951892910844, 'min_samples_split': 14, 'min_samples_leaf': 14}]\n",
      "[CV] max_features=0.426717597171, min_samples_split=20, min_samples_leaf=1 \n",
      "[CV] max_features=0.426717597171, min_samples_split=20, min_samples_leaf=1 \n",
      "[CV] max_features=0.426717597171, min_samples_split=20, min_samples_leaf=1 \n",
      "[CV] max_features=0.426717597171, min_samples_split=20, min_samples_leaf=1 \n",
      "[CV] max_features=0.426717597171, min_samples_split=20, min_samples_leaf=1 \n",
      "[CV] max_features=0.833395189291, min_samples_split=14, min_samples_leaf=14 \n",
      "[CV] max_features=0.833395189291, min_samples_split=14, min_samples_leaf=14 \n",
      "[CV] max_features=0.833395189291, min_samples_split=14, min_samples_leaf=14 \n",
      "[CV] max_features=0.833395189291, min_samples_split=14, min_samples_leaf=14 \n",
      "[CV] max_features=0.833395189291, min_samples_split=14, min_samples_leaf=14 \n",
      "[CV]  max_features=0.426717597171, min_samples_split=20, min_samples_leaf=1, total=   0.8s\n",
      "[CV]  max_features=0.426717597171, min_samples_split=20, min_samples_leaf=1, total=   0.8s\n",
      "[CV]  max_features=0.426717597171, min_samples_split=20, min_samples_leaf=1, total=   0.8s\n",
      "[CV]  max_features=0.426717597171, min_samples_split=20, min_samples_leaf=1, total=   0.8s\n",
      "[CV]  max_features=0.426717597171, min_samples_split=20, min_samples_leaf=1, total=   0.8s\n"
     ]
    },
    {
     "name": "stderr",
     "output_type": "stream",
     "text": [
      "[Parallel(n_jobs=16)]: Done   3 out of  10 | elapsed:    0.9s remaining:    2.0s\n"
     ]
    },
    {
     "name": "stdout",
     "output_type": "stream",
     "text": [
      "[CV]  max_features=0.833395189291, min_samples_split=14, min_samples_leaf=14, total=   1.2s\n",
      "[CV]  max_features=0.833395189291, min_samples_split=14, min_samples_leaf=14, total=   1.2s\n",
      "[CV]  max_features=0.833395189291, min_samples_split=14, min_samples_leaf=14, total=   1.2s\n",
      "[CV]  max_features=0.833395189291, min_samples_split=14, min_samples_leaf=14, total=   1.2s\n",
      "[CV]  max_features=0.833395189291, min_samples_split=14, min_samples_leaf=14, total=   1.2s\n"
     ]
    },
    {
     "name": "stderr",
     "output_type": "stream",
     "text": [
      "[Parallel(n_jobs=16)]: Done  10 out of  10 | elapsed:    1.4s finished\n"
     ]
    },
    {
     "name": "stdout",
     "output_type": "stream",
     "text": [
      "Evaluating params :  [{'max_features': 0.21772991571724198, 'min_samples_split': 21, 'min_samples_leaf': 10}, {'max_features': 0.21772991571724198, 'min_samples_split': 21, 'min_samples_leaf': 10}, {'max_features': 0.21772991571724198, 'min_samples_split': 21, 'min_samples_leaf': 10}, {'max_features': 0.21772991571724198, 'min_samples_split': 21, 'min_samples_leaf': 10}, {'max_features': 0.21772991571724198, 'min_samples_split': 21, 'min_samples_leaf': 10}, {'max_features': 0.12868601301749535, 'min_samples_split': 15, 'min_samples_leaf': 21}, {'max_features': 0.12868601301749535, 'min_samples_split': 15, 'min_samples_leaf': 21}, {'max_features': 0.12868601301749535, 'min_samples_split': 15, 'min_samples_leaf': 21}, {'max_features': 0.12868601301749535, 'min_samples_split': 15, 'min_samples_leaf': 21}, {'max_features': 0.12868601301749535, 'min_samples_split': 15, 'min_samples_leaf': 21}]\n",
      "[CV] max_features=0.217729915717, min_samples_split=21, min_samples_leaf=10 \n",
      "[CV] max_features=0.217729915717, min_samples_split=21, min_samples_leaf=10 \n",
      "[CV] max_features=0.217729915717, min_samples_split=21, min_samples_leaf=10 \n",
      "[CV] max_features=0.217729915717, min_samples_split=21, min_samples_leaf=10 \n",
      "[CV] max_features=0.217729915717, min_samples_split=21, min_samples_leaf=10 \n",
      "[CV] max_features=0.128686013017, min_samples_split=15, min_samples_leaf=21 \n",
      "[CV] max_features=0.128686013017, min_samples_split=15, min_samples_leaf=21 \n",
      "[CV] max_features=0.128686013017, min_samples_split=15, min_samples_leaf=21 \n",
      "[CV] max_features=0.128686013017, min_samples_split=15, min_samples_leaf=21 \n",
      "[CV] max_features=0.128686013017, min_samples_split=15, min_samples_leaf=21 \n",
      "[CV]  max_features=0.128686013017, min_samples_split=15, min_samples_leaf=21, total=   0.3s\n",
      "[CV]  max_features=0.128686013017, min_samples_split=15, min_samples_leaf=21, total=   0.2s\n",
      "[CV]  max_features=0.128686013017, min_samples_split=15, min_samples_leaf=21, total=   0.2s\n",
      "[CV]  max_features=0.128686013017, min_samples_split=15, min_samples_leaf=21, total=   0.3s\n",
      "[CV]  max_features=0.128686013017, min_samples_split=15, min_samples_leaf=21, total=   0.2s\n",
      "[CV]  max_features=0.217729915717, min_samples_split=21, min_samples_leaf=10, total=   0.4s\n",
      "[CV]  max_features=0.217729915717, min_samples_split=21, min_samples_leaf=10, total=   0.4s\n",
      "[CV]  max_features=0.217729915717, min_samples_split=21, min_samples_leaf=10, total=   0.4s\n",
      "[CV]  max_features=0.217729915717, min_samples_split=21, min_samples_leaf=10, total=   0.4s\n",
      "[CV]  max_features=0.217729915717, min_samples_split=21, min_samples_leaf=10, total=   0.4s\n"
     ]
    },
    {
     "name": "stderr",
     "output_type": "stream",
     "text": [
      "[Parallel(n_jobs=16)]: Done   3 out of  10 | elapsed:    0.3s remaining:    0.8s\n",
      "[Parallel(n_jobs=16)]: Done  10 out of  10 | elapsed:    0.5s finished\n"
     ]
    },
    {
     "name": "stdout",
     "output_type": "stream",
     "text": [
      "Evaluating params :  [{'max_features': 0.27113194854193234, 'min_samples_split': 13, 'min_samples_leaf': 2}, {'max_features': 0.27113194854193234, 'min_samples_split': 13, 'min_samples_leaf': 2}, {'max_features': 0.27113194854193234, 'min_samples_split': 13, 'min_samples_leaf': 2}, {'max_features': 0.27113194854193234, 'min_samples_split': 13, 'min_samples_leaf': 2}, {'max_features': 0.27113194854193234, 'min_samples_split': 13, 'min_samples_leaf': 2}, {'max_features': 0.12825643571617654, 'min_samples_split': 11, 'min_samples_leaf': 18}, {'max_features': 0.12825643571617654, 'min_samples_split': 11, 'min_samples_leaf': 18}, {'max_features': 0.12825643571617654, 'min_samples_split': 11, 'min_samples_leaf': 18}, {'max_features': 0.12825643571617654, 'min_samples_split': 11, 'min_samples_leaf': 18}, {'max_features': 0.12825643571617654, 'min_samples_split': 11, 'min_samples_leaf': 18}]\n",
      "[CV] max_features=0.271131948542, min_samples_split=13, min_samples_leaf=2 \n",
      "[CV] max_features=0.271131948542, min_samples_split=13, min_samples_leaf=2 \n",
      "[CV] max_features=0.271131948542, min_samples_split=13, min_samples_leaf=2 \n",
      "[CV] max_features=0.271131948542, min_samples_split=13, min_samples_leaf=2 \n",
      "[CV] max_features=0.271131948542, min_samples_split=13, min_samples_leaf=2 \n",
      "[CV] max_features=0.128256435716, min_samples_split=11, min_samples_leaf=18 \n",
      "[CV] max_features=0.128256435716, min_samples_split=11, min_samples_leaf=18 \n",
      "[CV] max_features=0.128256435716, min_samples_split=11, min_samples_leaf=18 \n",
      "[CV] max_features=0.128256435716, min_samples_split=11, min_samples_leaf=18 \n",
      "[CV] max_features=0.128256435716, min_samples_split=11, min_samples_leaf=18 \n",
      "[CV]  max_features=0.128256435716, min_samples_split=11, min_samples_leaf=18, total=   0.3s\n",
      "[CV]  max_features=0.128256435716, min_samples_split=11, min_samples_leaf=18, total=   0.3s\n",
      "[CV]  max_features=0.128256435716, min_samples_split=11, min_samples_leaf=18, total=   0.2s\n",
      "[CV]  max_features=0.128256435716, min_samples_split=11, min_samples_leaf=18, total=   0.3s\n",
      "[CV]  max_features=0.128256435716, min_samples_split=11, min_samples_leaf=18, total=   0.3s\n"
     ]
    },
    {
     "name": "stderr",
     "output_type": "stream",
     "text": [
      "[Parallel(n_jobs=16)]: Done   3 out of  10 | elapsed:    0.4s remaining:    0.9s\n"
     ]
    },
    {
     "name": "stdout",
     "output_type": "stream",
     "text": [
      "[CV]  max_features=0.271131948542, min_samples_split=13, min_samples_leaf=2, total=   0.6s\n",
      "[CV]  max_features=0.271131948542, min_samples_split=13, min_samples_leaf=2, total=   0.5s\n",
      "[CV]  max_features=0.271131948542, min_samples_split=13, min_samples_leaf=2, total=   0.6s\n",
      "[CV]  max_features=0.271131948542, min_samples_split=13, min_samples_leaf=2, total=   0.5s\n",
      "[CV]  max_features=0.271131948542, min_samples_split=13, min_samples_leaf=2, total=   0.6s\n"
     ]
    },
    {
     "name": "stderr",
     "output_type": "stream",
     "text": [
      "[Parallel(n_jobs=16)]: Done  10 out of  10 | elapsed:    0.6s finished\n"
     ]
    },
    {
     "name": "stdout",
     "output_type": "stream",
     "text": [
      "Evaluating params :  [{'max_features': 0.9677223804633197, 'min_samples_split': 20, 'min_samples_leaf': 15}, {'max_features': 0.9677223804633197, 'min_samples_split': 20, 'min_samples_leaf': 15}, {'max_features': 0.9677223804633197, 'min_samples_split': 20, 'min_samples_leaf': 15}, {'max_features': 0.9677223804633197, 'min_samples_split': 20, 'min_samples_leaf': 15}, {'max_features': 0.9677223804633197, 'min_samples_split': 20, 'min_samples_leaf': 15}, {'max_features': 0.1872025352277194, 'min_samples_split': 20, 'min_samples_leaf': 6}, {'max_features': 0.1872025352277194, 'min_samples_split': 20, 'min_samples_leaf': 6}, {'max_features': 0.1872025352277194, 'min_samples_split': 20, 'min_samples_leaf': 6}, {'max_features': 0.1872025352277194, 'min_samples_split': 20, 'min_samples_leaf': 6}, {'max_features': 0.1872025352277194, 'min_samples_split': 20, 'min_samples_leaf': 6}]\n",
      "[CV] max_features=0.967722380463, min_samples_split=20, min_samples_leaf=15 \n",
      "[CV] max_features=0.967722380463, min_samples_split=20, min_samples_leaf=15 \n",
      "[CV] max_features=0.967722380463, min_samples_split=20, min_samples_leaf=15 \n",
      "[CV] max_features=0.967722380463, min_samples_split=20, min_samples_leaf=15 \n",
      "[CV] max_features=0.967722380463, min_samples_split=20, min_samples_leaf=15 \n",
      "[CV] max_features=0.187202535228, min_samples_split=20, min_samples_leaf=6 \n",
      "[CV] max_features=0.187202535228, min_samples_split=20, min_samples_leaf=6 \n",
      "[CV] max_features=0.187202535228, min_samples_split=20, min_samples_leaf=6 \n",
      "[CV] max_features=0.187202535228, min_samples_split=20, min_samples_leaf=6 \n",
      "[CV] max_features=0.187202535228, min_samples_split=20, min_samples_leaf=6 \n",
      "[CV]  max_features=0.187202535228, min_samples_split=20, min_samples_leaf=6, total=   0.3s\n",
      "[CV]  max_features=0.187202535228, min_samples_split=20, min_samples_leaf=6, total=   0.3s\n",
      "[CV]  max_features=0.187202535228, min_samples_split=20, min_samples_leaf=6, total=   0.3s\n",
      "[CV]  max_features=0.187202535228, min_samples_split=20, min_samples_leaf=6, total=   0.3s\n",
      "[CV]  max_features=0.187202535228, min_samples_split=20, min_samples_leaf=6, total=   0.4s\n"
     ]
    },
    {
     "name": "stderr",
     "output_type": "stream",
     "text": [
      "[Parallel(n_jobs=16)]: Done   3 out of  10 | elapsed:    0.5s remaining:    1.1s\n"
     ]
    },
    {
     "name": "stdout",
     "output_type": "stream",
     "text": [
      "[CV]  max_features=0.967722380463, min_samples_split=20, min_samples_leaf=15, total=   1.4s\n",
      "[CV]  max_features=0.967722380463, min_samples_split=20, min_samples_leaf=15, total=   1.4s\n",
      "[CV]  max_features=0.967722380463, min_samples_split=20, min_samples_leaf=15, total=   1.4s\n",
      "[CV]  max_features=0.967722380463, min_samples_split=20, min_samples_leaf=15, total=   1.4s\n",
      "[CV]  max_features=0.967722380463, min_samples_split=20, min_samples_leaf=15, total=   1.4s\n"
     ]
    },
    {
     "name": "stderr",
     "output_type": "stream",
     "text": [
      "[Parallel(n_jobs=16)]: Done  10 out of  10 | elapsed:    1.5s finished\n"
     ]
    },
    {
     "name": "stdout",
     "output_type": "stream",
     "text": [
      "Evaluating params :  [{'max_features': 0.24433635932449455, 'min_samples_split': 2, 'min_samples_leaf': 16}, {'max_features': 0.24433635932449455, 'min_samples_split': 2, 'min_samples_leaf': 16}, {'max_features': 0.24433635932449455, 'min_samples_split': 2, 'min_samples_leaf': 16}, {'max_features': 0.24433635932449455, 'min_samples_split': 2, 'min_samples_leaf': 16}, {'max_features': 0.24433635932449455, 'min_samples_split': 2, 'min_samples_leaf': 16}, {'max_features': 0.7267323408530705, 'min_samples_split': 6, 'min_samples_leaf': 14}, {'max_features': 0.7267323408530705, 'min_samples_split': 6, 'min_samples_leaf': 14}, {'max_features': 0.7267323408530705, 'min_samples_split': 6, 'min_samples_leaf': 14}, {'max_features': 0.7267323408530705, 'min_samples_split': 6, 'min_samples_leaf': 14}, {'max_features': 0.7267323408530705, 'min_samples_split': 6, 'min_samples_leaf': 14}]\n",
      "[CV] max_features=0.244336359324, min_samples_split=2, min_samples_leaf=16 \n",
      "[CV] max_features=0.244336359324, min_samples_split=2, min_samples_leaf=16 \n",
      "[CV] max_features=0.244336359324, min_samples_split=2, min_samples_leaf=16 \n",
      "[CV] max_features=0.244336359324, min_samples_split=2, min_samples_leaf=16 \n",
      "[CV] max_features=0.244336359324, min_samples_split=2, min_samples_leaf=16 \n",
      "[CV] max_features=0.726732340853, min_samples_split=6, min_samples_leaf=14 \n",
      "[CV] max_features=0.726732340853, min_samples_split=6, min_samples_leaf=14 \n",
      "[CV] max_features=0.726732340853, min_samples_split=6, min_samples_leaf=14 \n",
      "[CV] max_features=0.726732340853, min_samples_split=6, min_samples_leaf=14 \n",
      "[CV] max_features=0.726732340853, min_samples_split=6, min_samples_leaf=14 \n",
      "[CV]  max_features=0.244336359324, min_samples_split=2, min_samples_leaf=16, total=   0.4s\n",
      "[CV]  max_features=0.244336359324, min_samples_split=2, min_samples_leaf=16, total=   0.4s\n",
      "[CV]  max_features=0.244336359324, min_samples_split=2, min_samples_leaf=16, total=   0.4s\n",
      "[CV]  max_features=0.244336359324, min_samples_split=2, min_samples_leaf=16, total=   0.4s\n",
      "[CV]  max_features=0.244336359324, min_samples_split=2, min_samples_leaf=16, total=   0.4s\n"
     ]
    },
    {
     "name": "stderr",
     "output_type": "stream",
     "text": [
      "[Parallel(n_jobs=16)]: Done   3 out of  10 | elapsed:    0.5s remaining:    1.1s\n"
     ]
    },
    {
     "name": "stdout",
     "output_type": "stream",
     "text": [
      "[CV]  max_features=0.726732340853, min_samples_split=6, min_samples_leaf=14, total=   1.1s\n",
      "[CV]  max_features=0.726732340853, min_samples_split=6, min_samples_leaf=14, total=   1.1s\n",
      "[CV]  max_features=0.726732340853, min_samples_split=6, min_samples_leaf=14, total=   1.1s\n",
      "[CV]  max_features=0.726732340853, min_samples_split=6, min_samples_leaf=14, total=   1.1s\n",
      "[CV]  max_features=0.726732340853, min_samples_split=6, min_samples_leaf=14, total=   1.1s\n"
     ]
    },
    {
     "name": "stderr",
     "output_type": "stream",
     "text": [
      "[Parallel(n_jobs=16)]: Done  10 out of  10 | elapsed:    1.2s finished\n"
     ]
    },
    {
     "data": {
      "text/plain": [
       "SigOptSearchCV(client_token=None, cv=5, cv_timeout=None, error_score='raise',\n",
       "        estimator=RandomForestRegressor(bootstrap=True, criterion='mse', max_depth=None,\n",
       "           max_features='auto', max_leaf_nodes=None,\n",
       "           min_impurity_decrease=0.0, min_impurity_split=None,\n",
       "           min_samples_leaf=1, min_samples_split=2,\n",
       "           min_weight_fraction_leaf=0.0, n_estimators=10, n_jobs=1,\n",
       "           oob_score=False, random_state=None, verbose=0, warm_start=False),\n",
       "        fit_params=None, iid=True, n_iter=100, n_jobs=16, n_sug=2,\n",
       "        opt_timeout=None,\n",
       "        param_domains={'max_features': (0.05, 1.01), 'min_samples_split': (2, 21), 'min_samples_leaf': (1, 21)},\n",
       "        pre_dispatch='2*n_jobs', refit=True,\n",
       "        scoring='neg_mean_absolute_error',\n",
       "        sigopt_connection=<sigopt.interface.Connection object at 0x2ae90aa08110>,\n",
       "        verbose=2)"
      ]
     },
     "execution_count": 17,
     "metadata": {},
     "output_type": "execute_result"
    }
   ],
   "source": [
    "# We got these parameter ranges from tpot.config.regressor\n",
    "RF = RandomForestRegressor()\n",
    "RF_parameters = {'max_features': (0.05, 1.01),\n",
    "                 'min_samples_split': (2, 21),\n",
    "                 'min_samples_leaf': (1, 21)}\n",
    "\n",
    "sigopt = SigOptSearchCV(RF, RF_parameters, cv=5,\n",
    "                        client_token='GUEBFWNSXCGPZQZFOESYAIYUWSBSZFKJZPZJFWZNBKCTSTHG',\n",
    "                        n_sug=2, n_jobs=16, n_iter=100, verbose=2,\n",
    "                        scoring='neg_mean_absolute_error')\n",
    "\n",
    "sigopt.fit(x_train, y_train)"
   ]
  },
  {
   "cell_type": "code",
   "execution_count": 18,
   "metadata": {},
   "outputs": [
    {
     "name": "stdout",
     "output_type": "stream",
     "text": [
      "RMSE = 0.33\n",
      "RMSE = 0.19\n",
      "RMSE = 0.10\n"
     ]
    }
   ],
   "source": [
    "# Calculate errors and metrics\n",
    "y_true = y_test\n",
    "y_pred = sigopt.predict(x_test)\n",
    "rmse = np.sqrt(metrics.mean_squared_error(y_true, y_pred))\n",
    "mae = metrics.mean_absolute_error(y_true, y_pred)\n",
    "mad = metrics.median_absolute_error(y_true, y_pred)\n",
    "\n",
    "# Report pipeline and metrics\n",
    "print('RMSE = %.2f' % rmse)\n",
    "print('RMSE = %.2f' % mae)\n",
    "print('RMSE = %.2f' % mad)"
   ]
  },
  {
   "cell_type": "code",
   "execution_count": null,
   "metadata": {},
   "outputs": [],
   "source": []
  }
 ],
 "metadata": {
  "anaconda-cloud": {},
  "kernelspec": {
   "display_name": "Python [conda env:GASpy_conda]",
   "language": "python",
   "name": "conda-env-GASpy_conda-py"
  },
  "language_info": {
   "codemirror_mode": {
    "name": "ipython",
    "version": 2
   },
   "file_extension": ".py",
   "mimetype": "text/x-python",
   "name": "python",
   "nbconvert_exporter": "python",
   "pygments_lexer": "ipython2",
   "version": "2.7.13"
  }
 },
 "nbformat": 4,
 "nbformat_minor": 2
}
