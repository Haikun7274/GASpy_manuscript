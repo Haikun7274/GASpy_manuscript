{
 "cells": [
  {
   "cell_type": "markdown",
   "metadata": {},
   "source": [
    "# Discovery List\n",
    "This notebook makes volcano plots to show how many surfaces we found"
   ]
  },
  {
   "cell_type": "code",
   "execution_count": 1,
   "metadata": {
    "ExecuteTime": {
     "end_time": "2018-05-31T20:44:01.376776Z",
     "start_time": "2018-05-31T20:43:59.648331Z"
    },
    "collapsed": true
   },
   "outputs": [],
   "source": [
    "from collections import OrderedDict\n",
    "import cPickle as pickle\n",
    "import numpy as np\n",
    "from tabulate import tabulate\n",
    "from pymatgen.matproj.rest import MPRester\n",
    "import tqdm\n",
    "from gaspy.utils import read_rc"
   ]
  },
  {
   "cell_type": "markdown",
   "metadata": {},
   "source": [
    "# Initialize"
   ]
  },
  {
   "cell_type": "markdown",
   "metadata": {},
   "source": [
    "## CO2RR"
   ]
  },
  {
   "cell_type": "code",
   "execution_count": 2,
   "metadata": {
    "ExecuteTime": {
     "end_time": "2018-05-31T20:44:04.169406Z",
     "start_time": "2018-05-31T20:44:01.378532Z"
    },
    "collapsed": true
   },
   "outputs": [],
   "source": [
    "# Set the target energy\n",
    "optimum_energy = -0.67\n",
    "dE_min = -0.87\n",
    "dE_max = -0.57\n",
    "\n",
    "# Load the data\n",
    "with open('../../figures/CO2RR_predictions.pkl', 'r') as f:\n",
    "    results, _ = pickle.load(f)"
   ]
  },
  {
   "cell_type": "markdown",
   "metadata": {},
   "source": [
    "## HER"
   ]
  },
  {
   "cell_type": "code",
   "execution_count": 3,
   "metadata": {
    "ExecuteTime": {
     "end_time": "2018-05-31T20:44:04.173704Z",
     "start_time": "2018-05-31T20:44:04.171059Z"
    },
    "collapsed": true
   },
   "outputs": [],
   "source": [
    "## Set the target energy\n",
    "#optimum_energy = -0.27\n",
    "#dE_min = -0.47\n",
    "#dE_max = -0.17\n",
    "#\n",
    "## Load the data\n",
    "#with open('../figures/HER_predictions.pkl', 'r') as f:\n",
    "#    results, _ = pickle.load(f)"
   ]
  },
  {
   "cell_type": "markdown",
   "metadata": {},
   "source": [
    "# Load data"
   ]
  },
  {
   "cell_type": "code",
   "execution_count": 4,
   "metadata": {
    "ExecuteTime": {
     "end_time": "2018-05-31T20:44:26.546329Z",
     "start_time": "2018-05-31T20:44:04.175340Z"
    }
   },
   "outputs": [
    {
     "name": "stderr",
     "output_type": "stream",
     "text": [
      "/project/projectdirs/m2755/GASpy_conda/lib/python2.7/site-packages/pymatgen-2017.7.4-py2.7-linux-x86_64.egg/pymatgen/ext/matproj.py:106: UserWarning: If you query for structure data encoded using MP's Structure Notation Language (SNL) format and you use `mp_decode=True` (the default) for MPRester queries, you should install dependencies via `pip install pymatgen[matproj.snl]`.\n",
      "  warnings.warn(\"If you query for structure data encoded using MP's \"\n",
      "100%|██████████| 133/133 [00:19<00:00,  8.36it/s]\n"
     ]
    }
   ],
   "source": [
    "# Pull out the documents and filter by energy\n",
    "docs = [result[0] for result in results]\n",
    "docs = [doc for doc in docs if dE_min < doc['energy'] < dE_max]\n",
    "\n",
    "# Find all of the MPID information\n",
    "mpids = set(doc['mpid'] for doc in docs)\n",
    "composition_by_mpid = dict.fromkeys(mpids)\n",
    "with MPRester(read_rc()['matproj_api_key']) as mp_db:\n",
    "    for mpid in tqdm.tqdm(mpids):\n",
    "        # Have a dictionary that translate stupid MPIDs into smart ones\n",
    "        translate = {'mvc-16085': 'mp-8016', 'mp-29284': 'mvc-16380',\n",
    "                     'mvc-16090': 'mp-4979', 'mvc-16091': 'mp-6408',\n",
    "                     'mp-16564': 'mvc-16089', 'mp-672216': 'mp-452',\n",
    "                     'mp-867303': 'mp-863750', 'mvc-16074': 'mp-7493',\n",
    "                     'mvc-16079': 'mp-10824', 'mp-866836': 'mp-866811',\n",
    "                     'mp-18300': 'mvc-16396', 'mp-2346': 'mp-590',\n",
    "                     'mp-571640': 'mp-542587', 'mvc-13876': 'mp-492',\n",
    "                     'mp-641874': 'mp-4139', 'mp-28645': 'mvc-16068',\n",
    "                     'mp-558110': 'mvc-11238', 'mp-867943': 'mp-863011',\n",
    "                     'mp-1002063': 'mvc-7051', 'mvc-16439': 'mp-9029',\n",
    "                     'mvc-10843': 'mp-9027', 'mp-558811': 'mp-288',\n",
    "                     'mp-632394': 'mp-23850', 'mp-554868': 'mvc-16083',\n",
    "                     'mp-553973': 'mp-542618', 'mp-35267': 'mvc-16094',\n",
    "                     'mp-37405': 'mvc-16102', 'mp-654956': 'mp-583071',\n",
    "                     'mvc-14442': 'mvc-15', 'mp-13147': 'mp-13146'\n",
    "                    }\n",
    "        try:\n",
    "            entry = mp_db.get_entry_by_material_id(mpid)\n",
    "        except IndexError:\n",
    "            new_mpid = translate[mpid]\n",
    "            entry = mp_db.get_entry_by_material_id(new_mpid)\n",
    "        composition_by_mpid[mpid] = entry.as_dict()['composition']"
   ]
  },
  {
   "cell_type": "markdown",
   "metadata": {},
   "source": [
    "# Parse"
   ]
  },
  {
   "cell_type": "code",
   "execution_count": 5,
   "metadata": {
    "ExecuteTime": {
     "end_time": "2018-05-31T20:44:26.864460Z",
     "start_time": "2018-05-31T20:44:26.548777Z"
    },
    "collapsed": true
   },
   "outputs": [],
   "source": [
    "# Pull out the information that we want to tabulate\n",
    "mpids = []\n",
    "energies = []\n",
    "millers = []\n",
    "formulae = []\n",
    "for doc in docs:\n",
    "    mpids.append(doc['mpid'])\n",
    "    energies.append(doc['energy'])\n",
    "    millers.append(str(doc['miller']))\n",
    "    # Calculate the chemical formula\n",
    "    comp = composition_by_mpid[doc['mpid']]\n",
    "    formula = []\n",
    "    for element, count in comp.iteritems():\n",
    "        # Omit the stoichiometric count if it's just 1\n",
    "        if count == 1:\n",
    "            formula.append(element)\n",
    "        else:\n",
    "            formula.append(element + '%.0f' % count)\n",
    "    formula = ('').join(formula)\n",
    "    formulae.append(formula)\n",
    "comps = [composition_by_mpid[mpid].keys() for mpid in mpids]\n",
    "\n",
    "# Filter out anything that has the elements we want to exclude\n",
    "excluded_elements = set(['Ca', 'Na', 'Nb', 'Se', 'S'])\n",
    "table_data = sorted(zip(comps, formulae, millers, energies, mpids))\n",
    "table_data = [datum for datum in table_data\n",
    "              if not set(datum[0]).intersection(excluded_elements)]\n",
    "\n",
    "# Sort\n",
    "comps = [('').join(comp) for comp, _, _, _, _ in table_data]\n",
    "formulae = [formula for _, formula, _, _, _ in table_data]\n",
    "millers = [miller for _, _, miller, _, _ in table_data]\n",
    "energies = [energy for _, _, _, energy, _ in table_data]\n",
    "mpids = [mpid for _, _, _, _, mpid in table_data]"
   ]
  },
  {
   "cell_type": "markdown",
   "metadata": {},
   "source": [
    "# Tabulate"
   ]
  },
  {
   "cell_type": "code",
   "execution_count": 6,
   "metadata": {
    "ExecuteTime": {
     "end_time": "2018-05-31T20:44:26.909247Z",
     "start_time": "2018-05-31T20:44:26.866235Z"
    },
    "scrolled": false
   },
   "outputs": [
    {
     "name": "stdout",
     "output_type": "stream",
     "text": [
      "\\begin{tabular}{llrl}\n",
      "\\hline\n",
      " Formula   & Miller index   &   dE(CO) [eV] & MPID       \\\\\n",
      "\\hline\n",
      " Ag3Pd     & [2, 0, 1]      &         -0.84 & mp-985296  \\\\\n",
      " Al2Cu     & [1, 1, 0]      &         -0.66 & mp-985806  \\\\\n",
      " Al2Cu     & [1, 1, 1]      &         -0.75 & mp-985806  \\\\\n",
      " Al2Cu     & [1, 1, 1]      &         -0.73 & mp-985806  \\\\\n",
      " Al2Cu     & [2, 1, 0]      &         -0.75 & mp-985806  \\\\\n",
      " Al2Cu     & [2, 1, 0]      &         -0.68 & mp-985806  \\\\\n",
      " Al2Cu     & [2, 2, 1]      &         -0.73 & mp-985806  \\\\\n",
      " Al2Cu6    & [0, 0, 1]      &         -0.79 & mp-12802   \\\\\n",
      " Al2Cu6    & [0, 0, 1]      &         -0.64 & mp-12802   \\\\\n",
      " Al2Cu6    & [1, 1, 0]      &         -0.80 & mp-12802   \\\\\n",
      " Al2Cu6    & [1, 1, 2]      &         -0.84 & mp-12802   \\\\\n",
      " Al2Cu6    & [1, 2, 0]      &         -0.65 & mp-12802   \\\\\n",
      " Al2Cu6    & [1, 2, 1]      &         -0.69 & mp-12802   \\\\\n",
      " Al2Cu6    & [1, 2, 2]      &         -0.78 & mp-12802   \\\\\n",
      " Al2Cu6    & [2, 1, 0]      &         -0.70 & mp-12802   \\\\\n",
      " Al2Cu6    & [2, 2, 1]      &         -0.76 & mp-12802   \\\\\n",
      " Al3Cu2    & [1, 1, 1]      &         -0.83 & mp-10886   \\\\\n",
      " Al3Cu2    & [1, 1, 1]      &         -0.82 & mp-10886   \\\\\n",
      " Al3Cu2    & [2, 0, 1]      &         -0.82 & mp-10886   \\\\\n",
      " Al5Cu5    & [1, 1, -2]     &         -0.83 & mp-2500    \\\\\n",
      " Al6Cu2    & [1, 0, 1]      &         -0.58 & mp-985825  \\\\\n",
      " Al6Cu2    & [2, 1, 0]      &         -0.83 & mp-985825  \\\\\n",
      " AlCu      & [1, 1, 1]      &         -0.80 & mp-1022721 \\\\\n",
      " AlCu3     & [1, 1, 0]      &         -0.76 & mp-1008555 \\\\\n",
      " AlCu3     & [1, 1, 0]      &         -0.72 & mp-1008555 \\\\\n",
      " AlCu3     & [1, 1, 1]      &         -0.84 & mp-12777   \\\\\n",
      " AlCu3     & [2, 1, 0]      &         -0.78 & mp-1008555 \\\\\n",
      " AlCu3     & [2, 1, 0]      &         -0.75 & mp-1008555 \\\\\n",
      " Al2N2     & [2, 1, 2]      &         -0.66 & mp-661     \\\\\n",
      " Al2Pd     & [2, 2, 1]      &         -0.85 & mp-16522   \\\\\n",
      " Al6Pd10   & [1, 0, 0]      &         -0.78 & mp-16523   \\\\\n",
      " AlPd      & [1, 0, 0]      &         -0.85 & mp-829     \\\\\n",
      " Al2Pt     & [1, 0, 0]      &         -0.72 & mp-1502    \\\\\n",
      " Al2Ti2    & [0, 0, 1]      &         -0.60 & mp-1953    \\\\\n",
      " Al4Ti2    & [0, 0, 1]      &         -0.82 & mp-11809   \\\\\n",
      " Al12W     & [1, 0, 0]      &         -0.77 & mp-11227   \\\\\n",
      " AsGa      & [1, 0, 0]      &         -0.81 & mp-2534    \\\\\n",
      " AsGa      & [2, 1, 1]      &         -0.76 & mp-2534    \\\\\n",
      " As4Si3    & [1, 1, 1]      &         -0.87 & mp-570744  \\\\\n",
      " As6Si6    & [2, 2, -1]     &         -0.67 & mp-1863    \\\\\n",
      " As4Zn4Cu4 & [1, 0, 1]      &         -0.66 & mp-676828  \\\\\n",
      " As4Zn4Cu4 & [1, 2, 1]      &         -0.75 & mp-676828  \\\\\n",
      " As4Zn4Cu4 & [2, 1, 0]      &         -0.75 & mp-676828  \\\\\n",
      " As4Zn4Cu4 & [2, 1, 2]      &         -0.79 & mp-676828  \\\\\n",
      " Au2Al     & [0, 0, 1]      &         -0.73 & mp-1018179 \\\\\n",
      " Au2Al     & [1, 0, 2]      &         -0.74 & mp-1018179 \\\\\n",
      " Au4Al4    & [0, 0, 1]      &         -0.62 & mp-1399    \\\\\n",
      " Au2AlCu   & [1, 1, 1]      &         -0.73 & mp-867306  \\\\\n",
      " Au2AlCu   & [2, 1, 0]      &         -0.79 & mp-867306  \\\\\n",
      " Au2Cu2    & [0, 0, 1]      &         -0.67 & mp-522     \\\\\n",
      " Au2Cu2    & [1, 0, 0]      &         -0.69 & mp-522     \\\\\n",
      " Au2Cu2    & [2, 1, 0]      &         -0.84 & mp-522     \\\\\n",
      " Au3Cu     & [2, 1, 0]      &         -0.76 & mp-2103    \\\\\n",
      " Au3Cu     & [2, 1, 0]      &         -0.61 & mp-2103    \\\\\n",
      " Au3Cu     & [2, 1, 1]      &         -0.64 & mp-2103    \\\\\n",
      " Au3Cu     & [2, 2, 1]      &         -0.71 & mp-2103    \\\\\n",
      " AuCu3     & [1, 1, 0]      &         -0.68 & mp-2258    \\\\\n",
      " AuCu3     & [1, 1, 0]      &         -0.63 & mp-2258    \\\\\n",
      " AuCu3     & [2, 1, 0]      &         -0.80 & mp-2258    \\\\\n",
      " AuCu3     & [2, 1, 0]      &         -0.79 & mp-2258    \\\\\n",
      " AuCu3     & [2, 1, 1]      &         -0.75 & mp-2258    \\\\\n",
      " AuGa2     & [1, 0, 0]      &         -0.57 & mp-2776    \\\\\n",
      " AuPd2In   & [2, 2, 1]      &         -0.79 & mp-863724  \\\\\n",
      " Au5Sn     & [1, 1, 0]      &         -0.64 & mp-30418   \\\\\n",
      " Au4Ti     & [1, 1, 0]      &         -0.58 & mp-12635   \\\\\n",
      " Co8Al20   & [0, 0, 1]      &         -0.69 & mp-196     \\\\\n",
      " Cu        & [1, 1, 0]      &         -0.63 & mp-30      \\\\\n",
      " Cu        & [2, 1, 0]      &         -0.78 & mp-30      \\\\\n",
      " Cu        & [2, 1, 1]      &         -0.69 & mp-30      \\\\\n",
      " CuAlPt2   & [1, 1, 0]      &         -0.77 & mp-12550   \\\\\n",
      " Cu28In12  & [0, 0, 1]      &         -0.84 & mp-21985   \\\\\n",
      " Fe2Al12   & [1, 1, 0]      &         -0.69 & mp-570001  \\\\\n",
      " FeAl      & [1, 0, 0]      &         -0.60 & mp-2658    \\\\\n",
      " Ga2Cu     & [0, 0, 1]      &         -0.78 & mp-11359   \\\\\n",
      " Ga2Cu     & [1, 0, 0]      &         -0.64 & mp-11359   \\\\\n",
      " Ga2Cu     & [1, 0, 1]      &         -0.67 & mp-11359   \\\\\n",
      " Ga2Cu     & [1, 1, 1]      &         -0.66 & mp-11359   \\\\\n",
      " Ga2Cu     & [1, 1, 2]      &         -0.74 & mp-11359   \\\\\n",
      " Ga2Cu     & [2, 0, 1]      &         -0.72 & mp-11359   \\\\\n",
      " Ga2Cu     & [2, 1, 0]      &         -0.82 & mp-11359   \\\\\n",
      " Ga2Cu6    & [1, 0, 0]      &         -0.79 & mp-865798  \\\\\n",
      " Ga2Cu6    & [1, 0, 0]      &         -0.69 & mp-865798  \\\\\n",
      " Ga2Cu6    & [1, 0, 1]      &         -0.75 & mp-865798  \\\\\n",
      " Ga2Cu6    & [1, 1, 0]      &         -0.80 & mp-865798  \\\\\n",
      " Ga2Cu6    & [1, 1, 1]      &         -0.72 & mp-865798  \\\\\n",
      " Ga2Cu6    & [2, 2, 1]      &         -0.84 & mp-865798  \\\\\n",
      " Ga10Pd2   & [1, 1, 2]      &         -0.66 & mp-30660   \\\\\n",
      " Ga6Pd10   & [1, 0, 0]      &         -0.79 & mp-2408    \\\\\n",
      " Ga2Pt     & [1, 0, 0]      &         -0.64 & mp-22095   \\\\\n",
      " Ga2Pt     & [1, 1, 0]      &         -0.65 & mp-22095   \\\\\n",
      " Ga2Pt     & [2, 1, 0]      &         -0.70 & mp-22095   \\\\\n",
      " Ga3Pt2    & [1, 1, 0]      &         -0.65 & mp-21400   \\\\\n",
      " Ga3Pt2    & [2, 1, 1]      &         -0.68 & mp-21400   \\\\\n",
      " Ga3Pt2    & [2, 2, 1]      &         -0.81 & mp-21400   \\\\\n",
      " GaPt2Cu   & [1, 1, 0]      &         -0.74 & mp-644280  \\\\\n",
      " Ge2       & [2, 1, 1]      &         -0.75 & mp-32      \\\\\n",
      " Ge4Co4Cu2 & [1, 0, 0]      &         -0.71 & mp-19955   \\\\\n",
      " Ge2Cu6    & [1, 0, 2]      &         -0.71 & mp-19724   \\\\\n",
      " Ge2Cu6    & [1, 2, 1]      &         -0.75 & mp-19724   \\\\\n",
      " Ge2Cu6    & [2, 1, 0]      &         -0.72 & mp-19724   \\\\\n",
      " Ge4Fe4Cu2 & [1, 0, 0]      &         -0.70 & mp-21141   \\\\\n",
      " H6Al2     & [2, 1, 1]      &         -0.74 & mp-23933   \\\\\n",
      " H2Si2     & [1, 0, 0]      &         -0.77 & mp-29803   \\\\\n",
      " H2Si2     & [2, 0, 1]      &         -0.85 & mp-29803   \\\\\n",
      " H2Ti      & [0, 0, 1]      &         -0.68 & mp-24726   \\\\\n",
      " H2Ti      & [1, 0, 0]      &         -0.64 & mp-24161   \\\\\n",
      " H2Ti      & [1, 1, 0]      &         -0.63 & mp-24726   \\\\\n",
      " Ir4In12   & [0, 2, 1]      &         -0.86 & mp-636498  \\\\\n",
      " IrRhGa2   & [1, 0, 0]      &         -0.81 & mp-865743  \\\\\n",
      " Mn2Al2    & [0, 0, 1]      &         -0.74 & mp-771     \\\\\n",
      " Mn3GaN    & [1, 0, 0]      &         -0.85 & mp-627439  \\\\\n",
      " N4        & [1, 1, 0]      &         -0.84 & mp-999498  \\\\\n",
      " NIn       & [1, 0, 0]      &         -0.76 & mp-20411   \\\\\n",
      " N2V2      & [1, 1, 1]      &         -0.74 & mp-1017532 \\\\\n",
      " N2V2      & [2, 1, 0]      &         -0.77 & mp-1017532 \\\\\n",
      " Ni4Al12   & [0, 0, 1]      &         -0.64 & mp-622209  \\\\\n",
      " NiAl      & [1, 0, 0]      &         -0.69 & mp-1487    \\\\\n",
      " NiFeAl2   & [1, 0, 0]      &         -0.73 & mp-867330  \\\\\n",
      " NiGa      & [1, 1, 1]      &         -0.75 & mp-1941    \\\\\n",
      " Ni4Si4    & [0, 1, 0]      &         -0.70 & mp-351     \\\\\n",
      " NiZnCu2   & [1, 0, 0]      &         -0.68 & mp-30593   \\\\\n",
      " NiZnCu2   & [1, 1, 0]      &         -0.87 & mp-30593   \\\\\n",
      " OsAl      & [1, 0, 0]      &         -0.73 & mp-875     \\\\\n",
      " Pd4Cu16   & [0, 0, 1]      &         -0.71 & mp-30594   \\\\\n",
      " Pd4Cu16   & [2, 1, 0]      &         -0.82 & mp-30594   \\\\\n",
      " PdCu      & [1, 0, 0]      &         -0.66 & mp-1018029 \\\\\n",
      " PdCu3     & [1, 0, 0]      &         -0.66 & mp-580357  \\\\\n",
      " PdCu3     & [1, 1, 0]      &         -0.76 & mp-580357  \\\\\n",
      " PdCu3     & [1, 1, 1]      &         -0.82 & mp-580357  \\\\\n",
      " PdCu3     & [2, 2, 1]      &         -0.84 & mp-580357  \\\\\n",
      " Pd2CuIn   & [1, 0, 0]      &         -0.79 & mp-867308  \\\\\n",
      " PtCu      & [0, 0, 1]      &         -0.72 & mp-644311  \\\\\n",
      " PtCu3     & [1, 0, 0]      &         -0.69 & mp-12086   \\\\\n",
      " PtCu3     & [1, 1, 0]      &         -0.79 & mp-12086   \\\\\n",
      " PtCu3     & [2, 2, 1]      &         -0.76 & mp-12086   \\\\\n",
      " PtIn2     & [2, 1, 0]      &         -0.74 & mp-22682   \\\\\n",
      " Re2Al12   & [0, 0, 1]      &         -0.66 & mp-16528   \\\\\n",
      " Re2Al12   & [1, 1, 0]      &         -0.70 & mp-16528   \\\\\n",
      " ReAl12    & [1, 0, 0]      &         -0.80 & mp-1648    \\\\\n",
      " RuCoGa2   & [1, 0, 0]      &         -0.69 & mp-865779  \\\\\n",
      " RuIrGa2   & [1, 0, 0]      &         -0.65 & mp-866041  \\\\\n",
      " Sb2Al2    & [1, 0, 2]      &         -0.82 & mp-1018100 \\\\\n",
      " SbAl      & [1, 1, 1]      &         -0.82 & mp-2624    \\\\\n",
      " SbAl      & [2, 1, 1]      &         -0.80 & mp-2624    \\\\\n",
      " SbCuNi2   & [1, 0, 0]      &         -0.66 & mp-30069   \\\\\n",
      " Sb2Ga2    & [2, 0, 1]      &         -0.76 & mp-1018059 \\\\\n",
      " SbGa      & [1, 1, 1]      &         -0.57 & mp-1156    \\\\\n",
      " Sb2Pd2    & [1, 1, 1]      &         -0.57 & mp-1769    \\\\\n",
      " Sb2Pd2    & [2, 2, 1]      &         -0.58 & mp-1769    \\\\\n",
      " Sb8Pd4    & [2, 1, 0]      &         -0.71 & mp-1356    \\\\\n",
      " Sb2Pt2    & [1, 0, 1]      &         -0.61 & mp-2845    \\\\\n",
      " Sb2Pt2    & [1, 1, 0]      &         -0.67 & mp-2845    \\\\\n",
      " Sb2Pt2    & [2, -1, 2]     &         -0.61 & mp-2845    \\\\\n",
      " Sb2Pt2    & [2, 1, 0]      &         -0.68 & mp-2845    \\\\\n",
      " Si2Cu6    & [1, 0, 0]      &         -0.60 & mp-867317  \\\\\n",
      " Si2Cu6    & [1, 0, 2]      &         -0.73 & mp-867317  \\\\\n",
      " Si2Cu6    & [1, 0, 2]      &         -0.73 & mp-867317  \\\\\n",
      " Si2Cu6    & [1, 1, 0]      &         -0.78 & mp-867317  \\\\\n",
      " Si2Cu6    & [1, 1, 1]      &         -0.79 & mp-867317  \\\\\n",
      " Si2Cu6    & [2, 0, 1]      &         -0.83 & mp-867317  \\\\\n",
      " Si2Cu6    & [2, 1, 1]      &         -0.71 & mp-867317  \\\\\n",
      " SiCu3     & [0, 0, 1]      &         -0.65 & mp-972828  \\\\\n",
      " SiCu3     & [1, 0, 0]      &         -0.69 & mp-972828  \\\\\n",
      " SiCu3     & [2, 0, 1]      &         -0.82 & mp-972828  \\\\\n",
      " SiCu3     & [2, 1, 0]      &         -0.77 & mp-972828  \\\\\n",
      " SiCu3     & [2, 1, 1]      &         -0.81 & mp-972828  \\\\\n",
      " SiCu3     & [2, 1, 1]      &         -0.79 & mp-972828  \\\\\n",
      " Si16Fe8   & [0, 1, 0]      &         -0.86 & mp-1714    \\\\\n",
      " Si4Pd4    & [0, 1, 1]      &         -0.83 & mp-389     \\\\\n",
      " Si4Pd4    & [1, 0, 0]      &         -0.63 & mp-389     \\\\\n",
      " Si4Pt4    & [1, 0, 1]      &         -0.80 & mp-696     \\\\\n",
      " Si4Pt4    & [1, 2, 0]      &         -0.67 & mp-696     \\\\\n",
      " Si4Rh4    & [0, 1, 0]      &         -0.83 & mp-818     \\\\\n",
      " Sn10Cu12  & [0, 1, 0]      &         -0.64 & mp-1233    \\\\\n",
      " Sn10Cu12  & [1, 0, 0]      &         -0.68 & mp-1233    \\\\\n",
      " Sn10Cu12  & [1, 1, -2]     &         -0.70 & mp-1233    \\\\\n",
      " Sn16Cu20  & [0, 0, 1]      &         -0.65 & mp-845     \\\\\n",
      " Sn16Cu20  & [1, 0, 0]      &         -0.63 & mp-845     \\\\\n",
      " Sn16Cu20  & [1, 0, 0]      &         -0.61 & mp-845     \\\\\n",
      " Sn2Cu2    & [2, 1, 1]      &         -0.61 & mp-10598   \\\\\n",
      " Sn12Pd4   & [1, 1, 2]      &         -0.76 & mp-1371    \\\\\n",
      " Sn12Pd4   & [1, 2, 1]      &         -0.77 & mp-1371    \\\\\n",
      " Sn12Pd4   & [2, 0, 1]      &         -0.74 & mp-1371    \\\\\n",
      " Sn16Pd8   & [1, 1, 0]      &         -0.66 & mp-1573    \\\\\n",
      " Sn4Pd4    & [1, 0, 0]      &         -0.58 & mp-2369    \\\\\n",
      " Sn2Pt     & [1, 1, 0]      &         -0.69 & mp-19962   \\\\\n",
      " Sn2Pt2    & [1, 0, 1]      &         -0.75 & mp-19856   \\\\\n",
      " Sn2Pt2    & [2, -1, 2]     &         -0.74 & mp-19856   \\\\\n",
      " Sn2Pt2    & [2, 1, 0]      &         -0.85 & mp-19856   \\\\\n",
      " Zn4Au2Cu2 & [0, 1, 2]      &         -0.62 & mp-12759   \\\\\n",
      " Zn4Au2Cu2 & [1, 1, 1]      &         -0.68 & mp-12759   \\\\\n",
      " Zn4Au2Cu2 & [1, 2, 1]      &         -0.63 & mp-12759   \\\\\n",
      " Zn4Au2Cu2 & [1, 2, 2]      &         -0.79 & mp-12759   \\\\\n",
      " ZnAu2Cu   & [1, 0, 0]      &         -0.78 & mp-864623  \\\\\n",
      " ZnAu2Cu   & [2, 1, 0]      &         -0.72 & mp-864623  \\\\\n",
      " Zn16Cu10  & [1, 1, 0]      &         -0.82 & mp-1368    \\\\\n",
      " ZnCu      & [1, 0, 0]      &         -0.61 & mp-987     \\\\\n",
      " ZnCu      & [2, 1, 0]      &         -0.79 & mp-987     \\\\\n",
      " Zn2Pd2    & [2, 0, 1]      &         -0.58 & mp-1652    \\\\\n",
      "\\hline\n",
      "\\end{tabular}\n"
     ]
    }
   ],
   "source": [
    "headers = ['Formula', 'Miller index', 'dE(CO) [eV]', 'MPID']\n",
    "table_data = np.array([np.array(formulae),\n",
    "                       np.array(millers),\n",
    "                       np.array(energies),\n",
    "                       np.array(mpids)]).transpose()\n",
    "table = tabulate(table_data, headers=headers, tablefmt='latex', floatfmt='.2f')\n",
    "print(table)"
   ]
  },
  {
   "cell_type": "code",
   "execution_count": null,
   "metadata": {
    "collapsed": true
   },
   "outputs": [],
   "source": []
  }
 ],
 "metadata": {
  "anaconda-cloud": {},
  "kernelspec": {
   "display_name": "Python 2",
   "language": "python",
   "name": "python2"
  },
  "language_info": {
   "codemirror_mode": {
    "name": "ipython",
    "version": 2
   },
   "file_extension": ".py",
   "mimetype": "text/x-python",
   "name": "python",
   "nbconvert_exporter": "python",
   "pygments_lexer": "ipython2",
   "version": "2.7.14"
  }
 },
 "nbformat": 4,
 "nbformat_minor": 2
}
