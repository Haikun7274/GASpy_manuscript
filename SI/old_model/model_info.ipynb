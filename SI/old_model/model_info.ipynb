{
 "cells": [
  {
   "cell_type": "markdown",
   "metadata": {},
   "source": [
    "# Performance of the old (\"alternative\") fingerprint"
   ]
  },
  {
   "cell_type": "markdown",
   "metadata": {},
   "source": [
    "Make the error plots and the parity plots"
   ]
  },
  {
   "cell_type": "code",
   "execution_count": 3,
   "metadata": {
    "ExecuteTime": {
     "end_time": "2018-05-31T21:14:41.205017Z",
     "start_time": "2018-05-31T21:14:41.175015Z"
    }
   },
   "outputs": [
    {
     "name": "stdout",
     "output_type": "stream",
     "text": [
      "The ipycache extension is already loaded. To reload it, use:\n",
      "  %reload_ext ipycache\n"
     ]
    }
   ],
   "source": [
    "import pdb\n",
    "import copy\n",
    "from pprint import pprint\n",
    "import numpy as np\n",
    "import dill as pickle\n",
    "import matplotlib as mpl\n",
    "import matplotlib.pyplot as plt\n",
    "from matplotlib import rcParams\n",
    "import seaborn as sns\n",
    "from sklearn.gaussian_process import GaussianProcessRegressor\n",
    "from tpot import TPOTRegressor\n",
    "from gaspy.utils import vasp_settings_to_str, print_dict\n",
    "from gaspy import defaults\n",
    "from gaspy_regress.regressor import GASpyRegressor\n",
    "\n",
    "rcParams['font.sans-serif'] = 'Arial'\n",
    "rcParams['font.family'] = 'sans-serif'\n",
    "rcParams['savefig.dpi'] = 600\n",
    "\n",
    "%matplotlib inline\n",
    "%load_ext ipycache"
   ]
  },
  {
   "cell_type": "markdown",
   "metadata": {},
   "source": [
    "# Perform regression"
   ]
  },
  {
   "cell_type": "code",
   "execution_count": 2,
   "metadata": {
    "ExecuteTime": {
     "end_time": "2018-05-31T21:00:01.191543Z",
     "start_time": "2018-05-31T19:46:10.210858Z"
    }
   },
   "outputs": [
    {
     "name": "stderr",
     "output_type": "stream",
     "text": [
      "/project/projectdirs/m2755/GASpy_conda/lib/python2.7/site-packages/sklearn/cross_validation.py:41: DeprecationWarning:\n",
      "\n",
      "This module was deprecated in version 0.18 in favor of the model_selection module into which all the refactored classes and functions are moved. Also note that the interface of the new CV iterators are different from that of this module. This module will be removed in 0.20.\n",
      "\n"
     ]
    },
    {
     "name": "stdout",
     "output_type": "stream",
     "text": [
      "Starting to pull documents...\n"
     ]
    },
    {
     "name": "stderr",
     "output_type": "stream",
     "text": [
      "49756it [00:01, 39204.56it/s]\n",
      "/project/projectdirs/m2755/GASpy_conda/lib/python2.7/site-packages/sklearn/model_selection/_split.py:2026: FutureWarning:\n",
      "\n",
      "From version 0.21, test_size will always complement train_size unless both are specified.\n",
      "\n",
      "                                                                            \r"
     ]
    },
    {
     "name": "stdout",
     "output_type": "stream",
     "text": [
      "Generation 1 - Current best internal CV score: 0.166617910201\n",
      "\n",
      "Best pipeline: KNeighborsRegressor(CombineDFs(input_matrix, input_matrix), n_neighbors=78, p=1, weights=distance)\n"
     ]
    },
    {
     "name": "stderr",
     "output_type": "stream",
     "text": [
      "                                                                            \r"
     ]
    },
    {
     "name": "stdout",
     "output_type": "stream",
     "text": [
      "Generation 1 - Current best internal CV score: 0.147346222269\n",
      "\n",
      "Best pipeline: GradientBoostingRegressor(input_matrix, alpha=0.95, learning_rate=0.1, loss=huber, max_depth=8, max_features=0.2, min_samples_leaf=12, min_samples_split=3, n_estimators=100, subsample=0.65)\n"
     ]
    }
   ],
   "source": [
    "# Regression settings\n",
    "VASP_SETTINGS = vasp_settings_to_str({'gga': 'RP',\n",
    "                                      'pp_version': '5.4',\n",
    "                                      'encut': 350})\n",
    "model_name = 'TPOT'\n",
    "inner_features = ['coordcount']\n",
    "outer_features = ['neighbors_coordcounts']\n",
    "responses = ['energy']\n",
    "fingerprints = defaults.fingerprints()\n",
    "blocks = ['adsorbate']\n",
    "fit_blocks = [('CO',), ('H',)]\n",
    "\n",
    "# Regression method\n",
    "tpot = TPOTRegressor(generations=1,\n",
    "                     population_size=16,\n",
    "                     offspring_size=16,\n",
    "                     verbosity=2,\n",
    "                     scoring='neg_median_absolute_error',\n",
    "                     n_jobs=16)\n",
    "gp = GaussianProcessRegressor()\n",
    "\n",
    "# Perform the regression\n",
    "model = GASpyRegressor(features=inner_features, responses=responses,\n",
    "                       fingerprints=fingerprints,\n",
    "                       blocks=blocks, vasp_settings=VASP_SETTINGS,\n",
    "                       dim_red='pca', train_size=0.9)\n",
    "model.fit_tpot(tpot, model_name=model_name, blocks=fit_blocks)\n",
    "model.fit_hierarchical(gp, 'fit_sk', outer_features,\n",
    "                       blocks=fit_blocks, dim_red='pca', n_components=0.95)"
   ]
  },
  {
   "cell_type": "markdown",
   "metadata": {},
   "source": [
    "# Calculate metrics"
   ]
  },
  {
   "cell_type": "code",
   "execution_count": 5,
   "metadata": {
    "ExecuteTime": {
     "end_time": "2018-05-31T21:15:36.093078Z",
     "start_time": "2018-05-31T21:15:36.076249Z"
    }
   },
   "outputs": [
    {
     "name": "stdout",
     "output_type": "stream",
     "text": [
      "RMSE:\n",
      "\t('H',)\n",
      "\t\ttest\n",
      "\t\t\t0.925326355268\n",
      "\t\tall\n",
      "\t\t\t0.351057432418\n",
      "\t\ttrain\n",
      "\t\t\t0.209638957788\n",
      "\t('CO',)\n",
      "\t\ttest\n",
      "\t\t\t0.899873546234\n",
      "\t\tall\n",
      "\t\t\t0.321830559719\n",
      "\t\ttrain\n",
      "\t\t\t0.152765195072\n",
      "MAE:\n",
      "\t('H',)\n",
      "\t\ttest\n",
      "\t\t\t0.236058016552\n",
      "\t\tall\n",
      "\t\t\t0.104787299976\n",
      "\t\ttrain\n",
      "\t\t\t0.0905867497993\n",
      "\t('CO',)\n",
      "\t\ttest\n",
      "\t\t\t0.220672196535\n",
      "\t\tall\n",
      "\t\t\t0.0828115522912\n",
      "\t\ttrain\n",
      "\t\t\t0.0671479146127\n",
      "MAD:\n",
      "\t('H',)\n",
      "\t\ttest\n",
      "\t\t\t0.126122110083\n",
      "\t\tall\n",
      "\t\t\t0.03554526821\n",
      "\t\ttrain\n",
      "\t\t\t0.0259410981807\n",
      "\t('CO',)\n",
      "\t\ttest\n",
      "\t\t\t0.0912311602337\n",
      "\t\tall\n",
      "\t\t\t0.019393259687\n",
      "\t\ttrain\n",
      "\t\t\t0.0136967151413\n"
     ]
    }
   ],
   "source": [
    "print('RMSE:')\n",
    "print_dict(model.calc_performance_metric(metric='rmse'), indent=1)\n",
    "print('MAE:')\n",
    "print_dict(model.calc_performance_metric(metric='mae'), indent=1)\n",
    "print('MAD:')\n",
    "print_dict(model.calc_performance_metric(metric='mad'), indent=1)"
   ]
  },
  {
   "cell_type": "code",
   "execution_count": null,
   "metadata": {
    "collapsed": true
   },
   "outputs": [],
   "source": []
  }
 ],
 "metadata": {
  "anaconda-cloud": {},
  "kernelspec": {
   "display_name": "Python [conda env:GASpy_conda]",
   "language": "python",
   "name": "conda-env-GASpy_conda-py"
  },
  "language_info": {
   "codemirror_mode": {
    "name": "ipython",
    "version": 2
   },
   "file_extension": ".py",
   "mimetype": "text/x-python",
   "name": "python",
   "nbconvert_exporter": "python",
   "pygments_lexer": "ipython2",
   "version": "2.7.13"
  }
 },
 "nbformat": 4,
 "nbformat_minor": 2
}
