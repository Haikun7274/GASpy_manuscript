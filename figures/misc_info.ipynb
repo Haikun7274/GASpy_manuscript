{
 "cells": [
  {
   "cell_type": "markdown",
   "metadata": {},
   "source": [
    "# GASpy manuscript scratch work\n",
    "This notebook contains the scratch work necessary to generate the various metrics and numbers that we used to create the manuscript for GASpy."
   ]
  },
  {
   "cell_type": "code",
   "execution_count": 1,
   "metadata": {
    "ExecuteTime": {
     "end_time": "2018-06-22T04:56:41.573992Z",
     "start_time": "2018-06-22T04:56:22.073791Z"
    }
   },
   "outputs": [],
   "source": [
    "import dill as pickle\n",
    "import numpy as np\n",
    "import tqdm\n",
    "from pymatgen.matproj.rest import MPRester\n",
    "from tpot import TPOTRegressor\n",
    "from sklearn.gaussian_process import GaussianProcessRegressor\n",
    "from sklearn import metrics\n",
    "from gaspy import gasdb, defaults, utils\n",
    "from gaspy.utils import vasp_settings_to_str\n",
    "from gaspy_regress.regressor import GASpyRegressor"
   ]
  },
  {
   "cell_type": "markdown",
   "metadata": {},
   "source": [
    "# Enumeration of search space"
   ]
  },
  {
   "cell_type": "markdown",
   "metadata": {},
   "source": [
    "We have some things in our catalog that we want to exclude from our analyses. We exclude Ca, Na, and Nb because they're pretty new to the catalog, so we have little data on them. We also exclude Se and S because we don't do spin polarization, so those results are probably (moderately) inaccurate."
   ]
  },
  {
   "cell_type": "code",
   "execution_count": 2,
   "metadata": {
    "ExecuteTime": {
     "end_time": "2018-06-22T04:56:41.587290Z",
     "start_time": "2018-06-22T04:56:41.584049Z"
    }
   },
   "outputs": [],
   "source": [
    "excluded_elements = set(['Ca', 'Na', 'Nb', 'S', 'Se'])"
   ]
  },
  {
   "cell_type": "code",
   "execution_count": 4,
   "metadata": {
    "ExecuteTime": {
     "end_time": "2018-06-22T05:06:11.837214Z",
     "start_time": "2018-06-22T05:03:06.889148Z"
    },
    "scrolled": true
   },
   "outputs": [
    {
     "name": "stdout",
     "output_type": "stream",
     "text": [
      "Starting to pull documents...\n"
     ]
    },
    {
     "name": "stderr",
     "output_type": "stream",
     "text": [
      "4223308it [01:49, 38521.28it/s]\n",
      "100%|██████████| 3399/3399 [06:58<00:00,  9.06it/s]\n"
     ]
    },
    {
     "name": "stdout",
     "output_type": "stream",
     "text": [
      "We enumerated 31 elements.\n",
      "We enumerated 1499 crystal structures.\n",
      "We enumerated 709 different componds.\n",
      "We enumerated 17507 surfaces.\n",
      "We enumerated 1684908 adsorption sites.\n"
     ]
    }
   ],
   "source": [
    "# Fetch the entire catalog\n",
    "docs = gasdb.get_docs(collection_name='catalog')\n",
    "\n",
    "# Find all of the compositions of each MPID so that we can\n",
    "# later parse out any sites whose bulks have elements on the exclusion list\n",
    "mpids = set(doc['mpid'] for doc in docs)\n",
    "composition_by_mpid = dict.fromkeys(mpids)\n",
    "# Connect to MP\n",
    "mp_key = utils.read_rc('matproj_api_key')\n",
    "with MPRester(mp_key) as mp_db:\n",
    "    for mpid in tqdm.tqdm(mpids):\n",
    "        # Get the info from MP\n",
    "        entry = mp_db.get_entry_by_material_id({'task_ids': mpid})\n",
    "        # Store the composition\n",
    "        comp = entry.as_dict()['composition'].keys()\n",
    "        composition_by_mpid[mpid] = set(comp)\n",
    "# Now filter the docs and mpids\n",
    "filtered_docs = []\n",
    "for doc in docs:\n",
    "    mpid = doc['mpid']\n",
    "    comp = composition_by_mpid[mpid]\n",
    "    if not comp.intersection(excluded_elements):\n",
    "        filtered_docs.append(doc)\n",
    "docs = filtered_docs\n",
    "\n",
    "# Find all the elements, mpids, the unique alloys, and the surfaces\n",
    "mpids = set(doc['mpid'] for doc in docs)\n",
    "elements = set(el for mpid in mpids for el in composition_by_mpid[mpid])\n",
    "compounds = set(str(composition_by_mpid[mpid]) for mpid in mpids)\n",
    "surfaces = set((doc['mpid'], str(doc['miller'])) for doc in docs)\n",
    "\n",
    "print('We enumerated %i elements.' % len(elements))\n",
    "print('We enumerated %i crystal structures.' % len(mpids))\n",
    "print('We enumerated %i different componds.' % len(compounds))\n",
    "print('We enumerated %i surfaces.' % len(surfaces))\n",
    "print('We enumerated %i adsorption sites.' % len(docs))"
   ]
  },
  {
   "cell_type": "markdown",
   "metadata": {},
   "source": [
    "# How many results do we have?"
   ]
  },
  {
   "cell_type": "code",
   "execution_count": 4,
   "metadata": {
    "ExecuteTime": {
     "end_time": "2018-06-22T04:59:37.578210Z",
     "start_time": "2018-06-22T04:56:56.899Z"
    },
    "scrolled": true
   },
   "outputs": [
    {
     "name": "stdout",
     "output_type": "stream",
     "text": [
      "Starting to pull documents...\n"
     ]
    },
    {
     "name": "stderr",
     "output_type": "stream",
     "text": [
      "95813it [00:01, 74358.10it/s]\n"
     ]
    },
    {
     "name": "stdout",
     "output_type": "stream",
     "text": [
      "Starting to pull documents...\n"
     ]
    },
    {
     "name": "stderr",
     "output_type": "stream",
     "text": [
      "52317it [00:00, 69663.30it/s]\n"
     ]
    },
    {
     "name": "stdout",
     "output_type": "stream",
     "text": [
      "Starting to pull documents...\n"
     ]
    },
    {
     "name": "stderr",
     "output_type": "stream",
     "text": [
      "19644it [00:00, 65805.51it/s]\n"
     ]
    },
    {
     "name": "stdout",
     "output_type": "stream",
     "text": [
      "Starting to pull documents...\n"
     ]
    },
    {
     "name": "stderr",
     "output_type": "stream",
     "text": [
      "23141it [00:00, 64964.84it/s]"
     ]
    },
    {
     "name": "stdout",
     "output_type": "stream",
     "text": [
      "We have completed 95813 DFT simulations, including all adsorbates\n",
      "42785 of these simulations pass the exclusion criteria, including only CO and H\n",
      "19644 of these simulations were on CO\n",
      "23141 of these simulations were on H\n"
     ]
    },
    {
     "name": "stderr",
     "output_type": "stream",
     "text": [
      "\n"
     ]
    }
   ],
   "source": [
    "# Find the total number of DFT simulations\n",
    "docs = gasdb.get_docs()\n",
    "\n",
    "# Find the number of simulations that passed our filters\n",
    "filters = dict(energy_min=-4, energy_max=4, f_max=0.5,\n",
    "               ads_move_max=1.5, bare_slab_move_max=0.5, slab_move_max=1.5)\n",
    "filtered_docs = gasdb.get_docs(**filters)\n",
    "\n",
    "# Find the number of calcs for CO and H\n",
    "co_docs = gasdb.get_docs(adsorbates=['CO'], **filters)\n",
    "h_docs = gasdb.get_docs(adsorbates=['H'], **filters)\n",
    "\n",
    "print('We have completed %i DFT simulations, including all adsorbates' % len(docs))\n",
    "print('%i of these simulations pass the exclusion criteria, including only CO and H'\n",
    "      % (len(co_docs) + len(h_docs)))\n",
    "print('%i of these simulations were on CO' % len(co_docs))\n",
    "print('%i of these simulations were on H' % len(h_docs))"
   ]
  },
  {
   "cell_type": "markdown",
   "metadata": {},
   "source": [
    "# Discovery of catalyst candidates"
   ]
  },
  {
   "cell_type": "code",
   "execution_count": 5,
   "metadata": {
    "ExecuteTime": {
     "end_time": "2018-06-22T04:59:37.579241Z",
     "start_time": "2018-06-22T04:57:03.444Z"
    }
   },
   "outputs": [
    {
     "name": "stderr",
     "output_type": "stream",
     "text": [
      "100%|██████████| 3403/3403 [06:25<00:00,  6.49it/s]\n"
     ]
    },
    {
     "name": "stdout",
     "output_type": "stream",
     "text": [
      "We have 130 surfaces with CO binding energies between -0.77 and -0.57 eV,\n",
      "which corresponds to 54 different compounds\n"
     ]
    }
   ],
   "source": [
    "# Set the ranges we want to look at\n",
    "ads = 'CO'\n",
    "dE_low = -0.77\n",
    "optimal = -0.67\n",
    "dE_high = -0.57\n",
    "\n",
    "# Pull the data from the databall, then filter out\n",
    "# documents that contain excluded elements\n",
    "with open('CO2RR_predictions.pkl', 'rb') as f:\n",
    "    dft_results, ml_results = pickle.load(f)\n",
    "\n",
    "# Find all of the compositions of each MPID so that we can\n",
    "# later parse out any sites whose bulks have elements on the exclusion list\n",
    "mpids = set(result[0]['mpid'] for result in dft_results+ml_results)\n",
    "composition_by_mpid = dict.fromkeys(mpids)\n",
    "mp_key = utils.read_rc('matproj_api_key')\n",
    "with MPRester(mp_key) as mp_db:\n",
    "    for mpid in tqdm.tqdm(mpids):\n",
    "        entry = mp_db.get_entry_by_material_id({'task_ids': mpid})\n",
    "        comp = entry.as_dict()['composition'].keys()\n",
    "        composition_by_mpid[mpid] = set(comp)\n",
    "\n",
    "# Define docs and parse out elements on the exclusion list\n",
    "docs = []\n",
    "for result in dft_results:\n",
    "    doc = result[0]\n",
    "    mpid = doc['mpid']\n",
    "    comp = composition_by_mpid[mpid]\n",
    "    if not comp.intersection(excluded_elements):\n",
    "        docs.append(doc)\n",
    "\n",
    "# Find and report the number of near-optimal surfaces and componds\n",
    "optimal_surfaces = [doc for doc in docs\n",
    "                    if dE_low < doc['energy'] < dE_high]\n",
    "optimal_compounds = set(str(composition_by_mpid[doc['mpid']])\n",
    "                        for doc in optimal_surfaces)\n",
    "print('We have %i surfaces with %s binding energies between %.2f and %.2f eV,'\n",
    "      % (len(optimal_surfaces), ads, dE_low, dE_high))\n",
    "print('which corresponds to %i different compounds' % len(optimal_compounds))"
   ]
  },
  {
   "cell_type": "code",
   "execution_count": 6,
   "metadata": {
    "ExecuteTime": {
     "end_time": "2018-06-22T04:59:37.580203Z",
     "start_time": "2018-06-22T04:57:05.923Z"
    }
   },
   "outputs": [
    {
     "name": "stderr",
     "output_type": "stream",
     "text": [
      "100%|██████████| 3404/3404 [06:11<00:00,  8.95it/s]"
     ]
    },
    {
     "name": "stdout",
     "output_type": "stream",
     "text": [
      "We have 258 surfaces with H binding energies between -0.37 and -0.17 eV,\n",
      "which corresponds to 102 different compounds\n"
     ]
    },
    {
     "name": "stderr",
     "output_type": "stream",
     "text": [
      "\n"
     ]
    }
   ],
   "source": [
    "# Set the ranges we want to look at\n",
    "ads = 'H'\n",
    "dE_low = -0.37\n",
    "optimal = -0.27\n",
    "dE_high = -0.17\n",
    "\n",
    "# Pull the data from the databall, then filter out\n",
    "# documents that contain excluded elements\n",
    "with open('HER_predictions.pkl', 'rb') as f:\n",
    "    dft_results, ml_results = pickle.load(f)\n",
    "\n",
    "# Find all of the compositions of each MPID so that we can\n",
    "# later parse out any sites whose bulks have elements on the exclusion list\n",
    "mpids = set(result[0]['mpid'] for result in dft_results+ml_results)\n",
    "composition_by_mpid = dict.fromkeys(mpids)\n",
    "mp_key = utils.read_rc('matproj_api_key')\n",
    "with MPRester(mp_key) as mp_db:\n",
    "    for mpid in tqdm.tqdm(mpids):\n",
    "        entry = mp_db.get_entry_by_material_id({'task_ids': mpid})\n",
    "        comp = entry.as_dict()['composition'].keys()\n",
    "        composition_by_mpid[mpid] = set(comp)\n",
    "\n",
    "# Define docs and parse out elements on the exclusion list\n",
    "docs = []\n",
    "for result in dft_results:\n",
    "    doc = result[0]\n",
    "    mpid = doc['mpid']\n",
    "    comp = composition_by_mpid[mpid]\n",
    "    if not comp.intersection(excluded_elements):\n",
    "        docs.append(doc)\n",
    "\n",
    "# Find and report the number of near-optimal surfaces and componds\n",
    "optimal_surfaces = [doc for doc in docs\n",
    "                    if dE_low < doc['energy'] < dE_high]\n",
    "optimal_compounds = set(str(composition_by_mpid[doc['mpid']])\n",
    "                        for doc in optimal_surfaces)\n",
    "print('We have %i surfaces with %s binding energies between %.2f and %.2f eV,'\n",
    "      % (len(optimal_surfaces), ads, dE_low, dE_high))\n",
    "print('which corresponds to %i different compounds' % len(optimal_compounds))"
   ]
  },
  {
   "cell_type": "code",
   "execution_count": null,
   "metadata": {},
   "outputs": [],
   "source": []
  }
 ],
 "metadata": {
  "anaconda-cloud": {},
  "kernelspec": {
   "display_name": "Python [conda env:GASpy_conda]",
   "language": "python",
   "name": "conda-env-GASpy_conda-py"
  },
  "language_info": {
   "codemirror_mode": {
    "name": "ipython",
    "version": 2
   },
   "file_extension": ".py",
   "mimetype": "text/x-python",
   "name": "python",
   "nbconvert_exporter": "python",
   "pygments_lexer": "ipython2",
   "version": "2.7.13"
  }
 },
 "nbformat": 4,
 "nbformat_minor": 2
}
