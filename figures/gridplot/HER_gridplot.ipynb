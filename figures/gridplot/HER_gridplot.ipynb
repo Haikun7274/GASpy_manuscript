{
 "cells": [
  {
   "cell_type": "markdown",
   "metadata": {
    "collapsed": true
   },
   "source": [
    "# gridplot.ipynb\n",
    "\n",
    "This notebook creates a gridplot that shows the fraction of surfaces within an optimal band for various bimetallics and monometallics."
   ]
  },
  {
   "cell_type": "code",
   "execution_count": 1,
   "metadata": {
    "ExecuteTime": {
     "end_time": "2018-07-12T16:13:25.466111Z",
     "start_time": "2018-07-12T16:13:24.997620Z"
    },
    "scrolled": true
   },
   "outputs": [],
   "source": [
    "import pickle\n",
    "import re\n",
    "import numpy as np\n",
    "import matplotlib.pyplot as plt\n",
    "from matplotlib import rcParams\n",
    "from matplotlib import cm\n",
    "from matplotlib.colors import ListedColormap\n",
    "import matplotlib.ticker as ticker\n",
    "from sklearn.neighbors import KernelDensity\n",
    "\n",
    "%matplotlib inline"
   ]
  },
  {
   "cell_type": "code",
   "execution_count": 2,
   "metadata": {},
   "outputs": [],
   "source": [
    "rcParams.update({'font.sans-serif': 'Helvetica'})\n",
    "rcParams.update({'font.family': 'sans-serif'})\n",
    "rcParams.update({'font.size': 7})\n",
    "rcParams.update({'savefig.dpi': 600})"
   ]
  },
  {
   "cell_type": "markdown",
   "metadata": {},
   "source": [
    "# Initialize\n",
    "Decide on the system we'll be studying and other various parameters that follow."
   ]
  },
  {
   "cell_type": "markdown",
   "metadata": {},
   "source": [
    "## HER"
   ]
  },
  {
   "cell_type": "code",
   "execution_count": 3,
   "metadata": {
    "ExecuteTime": {
     "end_time": "2018-07-12T16:13:36.011340Z",
     "start_time": "2018-07-12T16:13:26.739340Z"
    }
   },
   "outputs": [],
   "source": [
    "ads = 'H'\n",
    "ads_comp = set('H')\n",
    "ref_el = 'Pt'\n",
    "dE_min = -0.37\n",
    "dE_max = -0.17\n",
    "# What to put on the y-label of the plot\n",
    "label_text = 'Fraction of Surfaces with Near-Optimal $\\Delta E_H$'\n",
    "# What to save the gridplot as\n",
    "file_name = 'grid_her.pdf'\n",
    "\n",
    "# Open the results and predictions\n",
    "with open('../HER_predictions.pkl', 'rb') as f:\n",
    "    dft_results, ml_results = pickle.load(f)"
   ]
  },
  {
   "cell_type": "markdown",
   "metadata": {},
   "source": [
    "## CO2RR"
   ]
  },
  {
   "cell_type": "code",
   "execution_count": 3,
   "metadata": {
    "collapsed": true
   },
   "outputs": [],
   "source": [
    "#ads = 'CO'\n",
    "#ads_comp = set(['C', 'O'])\n",
    "#ref_el = 'Cu'\n",
    "#dE_min = -0.8\n",
    "#dE_max = -0.5\n",
    "## What to put on the y-label of the plot\n",
    "#label_text = 'Fraction of Surfaces with Near-Optimal $\\Delta E_{CO}$'\n",
    "## What to save the gridplot as\n",
    "#file_name = 'grid_co2rr.pdf'\n",
    "#\n",
    "## Open the results and predictions\n",
    "#with open('../CO2RR_predictions.pkl', 'rb') as f:\n",
    "#    dft_results, ml_results = pickle.load(f)"
   ]
  },
  {
   "cell_type": "code",
   "execution_count": 4,
   "metadata": {
    "ExecuteTime": {
     "end_time": "2018-07-12T16:13:36.653972Z",
     "start_time": "2018-07-12T16:13:36.013004Z"
    }
   },
   "outputs": [],
   "source": [
    "def find_composition(result):\n",
    "    '''\n",
    "    A function that finds the composition of a single result\n",
    "    '''\n",
    "    # Find the elements that are present in the structure\n",
    "    elements = re.findall(\"[A-Z][a-z']*\", result[0]['formula'])\n",
    "    # Pick out the adsorbates and then return\n",
    "    comp = [el for el in elements if el not in ads_comp and el != 'U']\n",
    "    return comp\n",
    "\n",
    "# Find all of the unique elements\n",
    "dft_comps = [find_composition(result) for result in dft_results]\n",
    "ml_comps = [find_composition(result) for result in ml_results]\n",
    "unique_elements = list(set(element for comp in dft_comps+ml_comps\n",
    "                           for element in comp))"
   ]
  },
  {
   "cell_type": "markdown",
   "metadata": {},
   "source": [
    "## Decide if we're plotting DFT, ML, or both"
   ]
  },
  {
   "cell_type": "code",
   "execution_count": 5,
   "metadata": {
    "ExecuteTime": {
     "end_time": "2018-07-12T16:13:36.658857Z",
     "start_time": "2018-07-12T16:13:36.655357Z"
    }
   },
   "outputs": [],
   "source": [
    "# DFT only\n",
    "results = dft_results\n",
    "compositions = dft_comps\n",
    "\n",
    "## DFT+ML\n",
    "#results = dft_results + ml_results\n",
    "#compositions = dft_comps + ml_comps\n",
    "\n",
    "## ML\n",
    "#results = ml_results\n",
    "#compositions = ml_comps"
   ]
  },
  {
   "cell_type": "markdown",
   "metadata": {},
   "source": [
    "# Rank-order the elements"
   ]
  },
  {
   "cell_type": "code",
   "execution_count": 6,
   "metadata": {
    "ExecuteTime": {
     "end_time": "2018-07-12T16:13:36.727047Z",
     "start_time": "2018-07-12T16:13:36.660194Z"
    }
   },
   "outputs": [
    {
     "name": "stdout",
     "output_type": "stream",
     "text": [
      "The average binding energy of H on Pt is -0.42 eV\n"
     ]
    },
    {
     "name": "stderr",
     "output_type": "stream",
     "text": [
      "/project/projectdirs/m2755/GASpy_conda/lib/python2.7/site-packages/numpy/core/fromnumeric.py:2889: RuntimeWarning: Mean of empty slice.\n",
      "  out=out, **kwargs)\n",
      "/project/projectdirs/m2755/GASpy_conda/lib/python2.7/site-packages/numpy/core/_methods.py:80: RuntimeWarning: invalid value encountered in double_scalars\n",
      "  ret = ret.dtype.type(ret / rcount)\n"
     ]
    }
   ],
   "source": [
    "# Get the average CO binding energy of each pure element\n",
    "avg_dEs = []\n",
    "for i, el in enumerate(unique_elements):\n",
    "    energies = []\n",
    "    for result, comp in zip(results, compositions):\n",
    "        if el in comp and len(comp) == 1:\n",
    "            energy = result[1][0][0]\n",
    "            energies.append(energy)\n",
    "    avg_dEs.append(np.mean(energies))\n",
    "\n",
    "# Sort the element list by the average adsorption energies. It looks\n",
    "# complicated because Python's `sorted` function can't actually sort NaN\n",
    "real_sort_list = [(energy, el) for energy, el in zip(avg_dEs, unique_elements)\n",
    "                  if not np.isnan(energy)]\n",
    "unique_elements_sorted = [el for _, el in reversed(sorted(real_sort_list))]\n",
    "for energy, el in zip(avg_dEs, unique_elements):\n",
    "    if np.isnan(energy):\n",
    "        unique_elements_sorted.append(el)\n",
    "\n",
    "# Remove S and Se because they're group 16 and probably wrong\n",
    "del unique_elements_sorted[unique_elements_sorted.index('S')]\n",
    "del unique_elements_sorted[unique_elements_sorted.index('Se')]\n",
    "# Remove a few more because they're new and we have little data on them\n",
    "del unique_elements_sorted[unique_elements_sorted.index('Ca')]\n",
    "del unique_elements_sorted[unique_elements_sorted.index('Na')]\n",
    "del unique_elements_sorted[unique_elements_sorted.index('Nb')]\n",
    "del unique_elements_sorted[unique_elements_sorted.index('Cd')]\n",
    "\n",
    "# Print out the average energy for the reference element\n",
    "print('The average binding energy of %s on %s is %.2f eV'\n",
    "      % (ads, ref_el, avg_dEs[unique_elements.index(ref_el)]))"
   ]
  },
  {
   "cell_type": "markdown",
   "metadata": {},
   "source": [
    "# Parse the data before plotting"
   ]
  },
  {
   "cell_type": "code",
   "execution_count": 7,
   "metadata": {
    "ExecuteTime": {
     "end_time": "2018-07-12T16:13:37.118817Z",
     "start_time": "2018-07-12T16:13:36.728403Z"
    },
    "scrolled": true
   },
   "outputs": [
    {
     "name": "stderr",
     "output_type": "stream",
     "text": [
      "/global/project/projectdirs/m2755/GASpy_conda/lib/python2.7/site-packages/ipykernel/__main__.py:31: RuntimeWarning: invalid value encountered in divide\n"
     ]
    }
   ],
   "source": [
    "# Create matrices that contain the number of surfaces we have\n",
    "# in each bimetallic pairing and the number of ones within optimum\n",
    "# range, respectively.\n",
    "surface_counts = np.zeros((len(unique_elements), len(unique_elements)))\n",
    "optimal_surface_counts = np.zeros((len(unique_elements), len(unique_elements)))\n",
    "for i, el_i in enumerate(unique_elements_sorted):\n",
    "    for j, el_j in enumerate(unique_elements_sorted):\n",
    "        # Counting for pure metals\n",
    "        if i == j:\n",
    "            for result, comp in zip(results, compositions):\n",
    "                # Advace the count for each instance of a pure metal\n",
    "                if el_i in comp and len(comp) == 1:\n",
    "                    surface_counts[i, j] += 1\n",
    "                    # Advance the count for pure metals within optimum range\n",
    "                    energy = result[1][0][0]\n",
    "                    if dE_min < energy < dE_max:\n",
    "                        optimal_surface_counts[i, j] += 1\n",
    "\n",
    "        # Counting for binary metals\n",
    "        else:\n",
    "            for result, comp in zip(results, compositions):\n",
    "                # Advace the count for each instance of a bimetallic\n",
    "                if (el_i in comp) and (el_j in comp) and (len(comp) == 2):\n",
    "                    surface_counts[i, j] += 1\n",
    "                    # Advance the count for pure metals within optimum range\n",
    "                    energy = result[1][0][0]\n",
    "                    if dE_min < energy < dE_max:\n",
    "                        optimal_surface_counts[i, j] += 1\n",
    "\n",
    "# Calculate the fraction of optimal surfaces\n",
    "optimal_fractions = optimal_surface_counts/surface_counts"
   ]
  },
  {
   "cell_type": "markdown",
   "metadata": {},
   "source": [
    "# Plot (DFT)"
   ]
  },
  {
   "cell_type": "code",
   "execution_count": 10,
   "metadata": {
    "ExecuteTime": {
     "end_time": "2018-07-12T16:13:49.783056Z",
     "start_time": "2018-07-12T16:13:37.120185Z"
    },
    "scrolled": false
   },
   "outputs": [
    {
     "data": {
      "image/png": "[encoded data removed]",
      "text/plain": [
       "<matplotlib.figure.Figure at 0x2b912898bcd0>"
      ]
     },
     "metadata": {},
     "output_type": "display_data"
    }
   ],
   "source": [
    "# Initialize\n",
    "fig = plt.figure(figsize=(7.08661, 7.08661))\n",
    "ax = fig.add_subplot(111)\n",
    "# Make the colors\n",
    "new_cmap = cm.viridis.colors\n",
    "new_cmap[0] = [0.5, 0.5, 0.5]\n",
    "viridis_gray = ListedColormap(new_cmap, 'viridis_gray')\n",
    "plt.register_cmap(cmap=viridis_gray)\n",
    "\n",
    "# Make the gridplot\n",
    "cax = ax.matshow(optimal_fractions, cmap='viridis_gray')\n",
    "# Make the parity line\n",
    "plt.plot([-1, len(unique_elements_sorted)], [-1, len(unique_elements_sorted)], 'k-')\n",
    "# Make the red lines encasing the reference element\n",
    "reference_index = unique_elements_sorted.index(ref_el)\n",
    "plt.plot([-0.5, len(unique_elements_sorted)], [reference_index-0.5, reference_index-0.5],\n",
    "         'r', linewidth=2)\n",
    "plt.plot([-0.5, len(unique_elements_sorted)], [reference_index+0.5, reference_index+0.5],\n",
    "         'r', linewidth=2)\n",
    "plt.plot([reference_index-0.5, reference_index-0.5], [-0.5, len(unique_elements_sorted)],\n",
    "         'r', linewidth=2)\n",
    "plt.plot([reference_index+0.5, reference_index+0.5], [-0.5, len(unique_elements_sorted)],\n",
    "         'r', linewidth=2)\n",
    "\n",
    "# Make the colorbar\n",
    "cb = fig.colorbar(cax, fraction=0.047, pad=0.01)\n",
    "cb.set_label(label_text, rotation=90)\n",
    "ticks = cb.ax.get_yticklabels()\n",
    "for tick in ticks:\n",
    "    tick._text = '%.0f%%'%(float(tick._text)*100)\n",
    "cb.ax.set_yticklabels(ticks)\n",
    "# Label the elements on the x and y axes\n",
    "ax.set_xticklabels([''] + unique_elements_sorted)\n",
    "ax.set_yticklabels([''] + unique_elements_sorted)\n",
    "ax.xaxis.set_major_locator(ticker.MultipleLocator(1))\n",
    "ax.yaxis.set_major_locator(ticker.MultipleLocator(1))\n",
    "\n",
    "# Zoom correctly and do some other formatting touch-ups\n",
    "plt.xlim([0-0.5, len(unique_elements_sorted)-0.5])\n",
    "plt.ylim([len(unique_elements_sorted)-0.5, -0.5])\n",
    "plt.grid(which='minor', b=True)\n",
    "plt.minorticks_on()\n",
    "ax.xaxis.set_minor_locator(ticker.IndexLocator(base=1, offset=0.47))\n",
    "ax.yaxis.set_minor_locator(ticker.IndexLocator(base=1, offset=0.47))\n",
    "plt.grid(b=True, which='minor', color='k', linestyle='-')\n",
    "plt.tick_params(\n",
    "    axis='x',          # changes apply to the x-axis\n",
    "    which='both',      # both major and minor ticks are affected\n",
    "    bottom='off',      # ticks along the bottom edge are off\n",
    "    top='off',         # ticks along the top edge are off\n",
    "    labelbottom='off') # labels along the bottom edge are off\n",
    "plt.tick_params(\n",
    "    axis='y',          # changes apply to the x-axis\n",
    "    which='both',      # both major and minor ticks are affected\n",
    "    left='off',      # ticks along the bottom edge are off\n",
    "    right='off',         # ticks along the top edge are off\n",
    "    labelright='off') # labels along the bottom edge are off\n",
    "\n",
    "# Label the quadrants\n",
    "plt.text(5, 0.5, 'Weak-Weak',\n",
    "         horizontalalignment='center', verticalalignment='center', backgroundcolor='w')\n",
    "plt.text(21, 0.5, 'Weak-Strong',\n",
    "         horizontalalignment='center', verticalalignment='center', backgroundcolor='w')\n",
    "plt.text(5, 11.5, 'Strong-Weak',\n",
    "         horizontalalignment='center', verticalalignment='center', backgroundcolor='w')\n",
    "plt.text(21, 11.5, 'Strong-Strong',\n",
    "         horizontalalignment='center', verticalalignment='center', backgroundcolor='w')\n",
    "\n",
    "plt.savefig('dft_' + file_name)"
   ]
  },
  {
   "cell_type": "markdown",
   "metadata": {},
   "source": [
    "# Plot (ML)"
   ]
  },
  {
   "cell_type": "code",
   "execution_count": 11,
   "metadata": {
    "ExecuteTime": {
     "end_time": "2018-07-12T16:13:49.788387Z",
     "start_time": "2018-07-12T16:13:49.784680Z"
    }
   },
   "outputs": [],
   "source": [
    "## DFT only\n",
    "#results = dft_results\n",
    "#compositions = dft_comps\n",
    "\n",
    "## DFT+ML\n",
    "#results = dft_results + ml_results\n",
    "#compositions = dft_comps + ml_comps\n",
    "\n",
    "# ML\n",
    "results = ml_results\n",
    "compositions = ml_comps"
   ]
  },
  {
   "cell_type": "code",
   "execution_count": 12,
   "metadata": {
    "ExecuteTime": {
     "end_time": "2018-07-12T16:17:27.723187Z",
     "start_time": "2018-07-12T16:13:49.789821Z"
    },
    "scrolled": true
   },
   "outputs": [
    {
     "name": "stderr",
     "output_type": "stream",
     "text": [
      "/global/project/projectdirs/m2755/GASpy_conda/lib/python2.7/site-packages/ipykernel/__main__.py:31: RuntimeWarning: invalid value encountered in divide\n"
     ]
    }
   ],
   "source": [
    "# Create matrices that contain the number of surfaces we have\n",
    "# in each bimetallic pairing and the number of ones within optimum\n",
    "# range, respectively.\n",
    "surface_counts = np.zeros((len(unique_elements), len(unique_elements)))\n",
    "optimal_surface_counts = np.zeros((len(unique_elements), len(unique_elements)))\n",
    "for i, el_i in enumerate(unique_elements_sorted):\n",
    "    for j, el_j in enumerate(unique_elements_sorted):\n",
    "        # Counting for pure metals\n",
    "        if i == j:\n",
    "            for result, comp in zip(results, compositions):\n",
    "                # Advace the count for each instance of a pure metal\n",
    "                if el_i in comp and len(comp) == 1:\n",
    "                    surface_counts[i, j] += 1\n",
    "                    # Advance the count for pure metals within optimum range\n",
    "                    energy = result[1][0][0]\n",
    "                    if dE_min < energy < dE_max:\n",
    "                        optimal_surface_counts[i, j] += 1\n",
    "\n",
    "        # Counting for binary metals\n",
    "        else:\n",
    "            for result, comp in zip(results, compositions):\n",
    "                # Advace the count for each instance of a bimetallic\n",
    "                if (el_i in comp) and (el_j in comp) and (len(comp) == 2):\n",
    "                    surface_counts[i, j] += 1\n",
    "                    # Advance the count for pure metals within optimum range\n",
    "                    energy = result[1][0][0]\n",
    "                    if dE_min < energy < dE_max:\n",
    "                        optimal_surface_counts[i, j] += 1\n",
    "\n",
    "# Calculate the fraction of optimal surfaces\n",
    "optimal_fractions = optimal_surface_counts/surface_counts"
   ]
  },
  {
   "cell_type": "code",
   "execution_count": 13,
   "metadata": {
    "ExecuteTime": {
     "end_time": "2018-07-12T16:17:39.916724Z",
     "start_time": "2018-07-12T16:17:27.724870Z"
    },
    "scrolled": false
   },
   "outputs": [
    {
     "data": {
      "image/png": "[encoded data removed]",
      "text/plain": [
       "<matplotlib.figure.Figure at 0x2b9134f6e490>"
      ]
     },
     "metadata": {},
     "output_type": "display_data"
    }
   ],
   "source": [
    "# Initialize\n",
    "fig = plt.figure(figsize=(7.08661, 7.08661))\n",
    "ax = fig.add_subplot(111)\n",
    "# Make the colors\n",
    "new_cmap = cm.viridis.colors\n",
    "new_cmap[0] = [0.5, 0.5, 0.5]\n",
    "viridis_gray = ListedColormap(new_cmap, 'viridis_gray')\n",
    "plt.register_cmap(cmap=viridis_gray)\n",
    "\n",
    "# Make the gridplot\n",
    "cax = ax.matshow(optimal_fractions, cmap='viridis_gray')\n",
    "# Make the parity line\n",
    "plt.plot([-1, len(unique_elements_sorted)], [-1, len(unique_elements_sorted)], 'k-')\n",
    "# Make the red lines encasing the reference element\n",
    "reference_index = unique_elements_sorted.index(ref_el)\n",
    "plt.plot([-0.5, len(unique_elements_sorted)], [reference_index-0.5, reference_index-0.5],\n",
    "         'r', linewidth=2)\n",
    "plt.plot([-0.5, len(unique_elements_sorted)], [reference_index+0.5, reference_index+0.5],\n",
    "         'r', linewidth=2)\n",
    "plt.plot([reference_index-0.5, reference_index-0.5], [-0.5, len(unique_elements_sorted)],\n",
    "         'r', linewidth=2)\n",
    "plt.plot([reference_index+0.5, reference_index+0.5], [-0.5, len(unique_elements_sorted)],\n",
    "         'r', linewidth=2)\n",
    "\n",
    "# Make the colorbar\n",
    "cb = fig.colorbar(cax, fraction=0.047, pad=0.01)\n",
    "cb.set_label(label_text, rotation=90)\n",
    "ticks = cb.ax.get_yticklabels()\n",
    "for tick in ticks:\n",
    "    tick._text = '%.0f%%'%(float(tick._text)*100)\n",
    "cb.ax.set_yticklabels(ticks)\n",
    "# Label the elements on the x and y axes\n",
    "ax.set_xticklabels([''] + unique_elements_sorted)\n",
    "ax.set_yticklabels([''] + unique_elements_sorted)\n",
    "ax.xaxis.set_major_locator(ticker.MultipleLocator(1))\n",
    "ax.yaxis.set_major_locator(ticker.MultipleLocator(1))\n",
    "\n",
    "# Zoom correctly and do some other formatting touch-ups\n",
    "plt.xlim([0-0.5, len(unique_elements_sorted)-0.5])\n",
    "plt.ylim([len(unique_elements_sorted)-0.5, -0.5])\n",
    "plt.grid(which='minor', b=True)\n",
    "plt.minorticks_on()\n",
    "ax.xaxis.set_minor_locator(ticker.IndexLocator(base=1, offset=0.47))\n",
    "ax.yaxis.set_minor_locator(ticker.IndexLocator(base=1, offset=0.47))\n",
    "plt.grid(b=True, which='minor', color='k', linestyle='-')\n",
    "plt.tick_params(\n",
    "    axis='x',          # changes apply to the x-axis\n",
    "    which='both',      # both major and minor ticks are affected\n",
    "    bottom='off',      # ticks along the bottom edge are off\n",
    "    top='off',         # ticks along the top edge are off\n",
    "    labelbottom='off') # labels along the bottom edge are off\n",
    "plt.tick_params(\n",
    "    axis='y',          # changes apply to the x-axis\n",
    "    which='both',      # both major and minor ticks are affected\n",
    "    left='off',      # ticks along the bottom edge are off\n",
    "    right='off',         # ticks along the top edge are off\n",
    "    labelright='off') # labels along the bottom edge are off\n",
    "\n",
    "# Label the quadrants\n",
    "plt.text(5, 0.5, 'Weak-Weak',\n",
    "         horizontalalignment='center', verticalalignment='center', backgroundcolor='w')\n",
    "plt.text(21, 0.5, 'Weak-Strong',\n",
    "         horizontalalignment='center', verticalalignment='center', backgroundcolor='w')\n",
    "plt.text(5, 11.5, 'Strong-Weak',\n",
    "         horizontalalignment='center', verticalalignment='center', backgroundcolor='w')\n",
    "plt.text(21, 11.5, 'Strong-Strong',\n",
    "         horizontalalignment='center', verticalalignment='center', backgroundcolor='w')\n",
    "\n",
    "plt.savefig('ml_' + file_name)"
   ]
  },
  {
   "cell_type": "code",
   "execution_count": null,
   "metadata": {
    "collapsed": true
   },
   "outputs": [],
   "source": []
  }
 ],
 "metadata": {
  "anaconda-cloud": {},
  "kernelspec": {
   "display_name": "Python [conda env:GASpy_conda]",
   "language": "python",
   "name": "conda-env-GASpy_conda-py"
  },
  "language_info": {
   "codemirror_mode": {
    "name": "ipython",
    "version": 2
   },
   "file_extension": ".py",
   "mimetype": "text/x-python",
   "name": "python",
   "nbconvert_exporter": "python",
   "pygments_lexer": "ipython2",
   "version": "2.7.13"
  },
  "name": "regress.ipynb"
 },
 "nbformat": 4,
 "nbformat_minor": 2
}
