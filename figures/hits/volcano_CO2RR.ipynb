{
 "cells": [
  {
   "cell_type": "markdown",
   "metadata": {},
   "source": [
    "# Volcanos\n",
    "This notebook makes volcano plots to show how many surfaces we found"
   ]
  },
  {
   "cell_type": "code",
   "execution_count": 1,
   "metadata": {
    "ExecuteTime": {
     "end_time": "2018-06-22T04:58:32.215659Z",
     "start_time": "2018-06-22T04:58:31.201760Z"
    }
   },
   "outputs": [],
   "source": [
    "import cPickle as pickle\n",
    "import numpy as np\n",
    "import tqdm\n",
    "import matplotlib.pyplot as plt\n",
    "from matplotlib import rcParams\n",
    "from matplotlib.ticker import FormatStrFormatter\n",
    "from pymatgen.matproj.rest import MPRester\n",
    "import seaborn as sns\n",
    "from gaspy import utils\n",
    "\n",
    "%matplotlib inline"
   ]
  },
  {
   "cell_type": "code",
   "execution_count": 2,
   "metadata": {},
   "outputs": [],
   "source": [
    "rcParams.update({'font.sans-serif': 'Helvetica'})\n",
    "rcParams.update({'font.family': 'sans-serif'})\n",
    "rcParams.update({'font.size': 7})\n",
    "rcParams.update({'savefig.dpi': 600})"
   ]
  },
  {
   "cell_type": "markdown",
   "metadata": {},
   "source": [
    "# Initialize"
   ]
  },
  {
   "cell_type": "markdown",
   "metadata": {},
   "source": [
    "## CO2RR"
   ]
  },
  {
   "cell_type": "code",
   "execution_count": 3,
   "metadata": {
    "ExecuteTime": {
     "end_time": "2018-06-22T04:58:40.291695Z",
     "start_time": "2018-06-22T04:58:37.726199Z"
    }
   },
   "outputs": [],
   "source": [
    "# Set the target energy\n",
    "optimum_energy = -0.67\n",
    "dE_min = -0.77\n",
    "dE_max = -0.57\n",
    "dist_xlims = (-3, 0)\n",
    "dist_ticks = np.arange(-4, 2, 0.5)\n",
    "max_dist = max(np.abs(dE_min-optimum_energy), np.abs(dE_max-optimum_energy))\n",
    "xlabel = 'CO Adsorption Energy, $\\Delta E_{CO}$ [eV]'\n",
    "ylabel = '-|Distance from optimal| [eV]'\n",
    "figure_save_name = 'volcano_co2rr.pdf'\n",
    "\n",
    "# Load the data\n",
    "with open('../CO2RR_predictions.pkl', 'r') as f:\n",
    "    dft_results, ml_results = pickle.load(f)"
   ]
  },
  {
   "cell_type": "markdown",
   "metadata": {},
   "source": [
    "## HER"
   ]
  },
  {
   "cell_type": "code",
   "execution_count": 3,
   "metadata": {
    "ExecuteTime": {
     "end_time": "2018-05-31T18:01:28.060998Z",
     "start_time": "2018-05-31T18:01:28.056204Z"
    }
   },
   "outputs": [],
   "source": [
    "## Set the target energy\n",
    "#optimum_energy = -0.27\n",
    "#dE_min = -0.37\n",
    "#dE_max = -0.17\n",
    "#dist_xlims = (-3, 0)\n",
    "#dist_ticks = np.arange(-1.5, 1, 0.5)\n",
    "#max_dist = max(np.abs(dE_min-optimum_energy), np.abs(dE_max-optimum_energy))\n",
    "#xlabel = 'H Adsorption Energy, $\\Delta E_H$ [eV]'\n",
    "#ylabel = '$-|\\Delta E_H-0.27|$ [eV]'\n",
    "#figure_save_name = 'volcano_her.pdf'\n",
    "#\n",
    "## Load the data\n",
    "#with open('../HER_predictions.pkl', 'r') as f:\n",
    "#    dft_results, ml_results = pickle.load(f)"
   ]
  },
  {
   "cell_type": "code",
   "execution_count": 4,
   "metadata": {
    "ExecuteTime": {
     "end_time": "2018-06-22T05:05:52.644498Z",
     "start_time": "2018-06-22T05:05:45.191764Z"
    }
   },
   "outputs": [
    {
     "name": "stderr",
     "output_type": "stream",
     "text": [
      "/project/projectdirs/m2755/GASpy_conda/lib/python2.7/site-packages/pymatgen-2017.7.4-py2.7-linux-x86_64.egg/pymatgen/ext/matproj.py:106: UserWarning: If you query for structure data encoded using MP's Structure Notation Language (SNL) format and you use `mp_decode=True` (the default) for MPRester queries, you should install dependencies via `pip install pymatgen[matproj.snl]`.\n",
      "  warnings.warn(\"If you query for structure data encoded using MP's \"\n",
      "100%|██████████| 3403/3403 [05:20<00:00,  9.90it/s]\n"
     ]
    }
   ],
   "source": [
    "# Pull out the data\n",
    "dft_docs = [result[0] for result in dft_results]\n",
    "ml_docs = [result[0] for result in ml_results]\n",
    "\n",
    "# Define the elements we want excluded\n",
    "excluded_elements = set(['Ca', 'Na', 'Nb', 'S', 'Se'])\n",
    "\n",
    "# Find all of the compositions of each MPID so that we can\n",
    "# later parse out any sites whose bulks have elements on the exclusion list\n",
    "mpids = set(doc['mpid'] for doc in dft_docs + ml_docs)\n",
    "composition_by_mpid = dict.fromkeys(mpids)\n",
    "mp_key = utils.read_rc('matproj_api_key')\n",
    "with MPRester(mp_key) as mp_db:\n",
    "    for mpid in tqdm.tqdm(mpids):\n",
    "        entry = mp_db.get_entry_by_material_id({'task_ids': mpid})\n",
    "        comp = entry.as_dict()['composition'].keys()\n",
    "        composition_by_mpid[mpid] = set(comp)\n",
    "\n",
    "# Filter the documents and energies for DFT\n",
    "filtered_docs = []\n",
    "for doc in dft_docs:\n",
    "    mpid = doc['mpid']\n",
    "    comp = composition_by_mpid[mpid]\n",
    "    if not comp.intersection(excluded_elements):\n",
    "        filtered_docs.append(doc)\n",
    "dft_docs = filtered_docs\n",
    "# Filter the documents and energies for ML\n",
    "filtered_docs = []\n",
    "for doc in ml_docs:\n",
    "    mpid = doc['mpid']\n",
    "    comp = composition_by_mpid[mpid]\n",
    "    if not comp.intersection(excluded_elements):\n",
    "        filtered_docs.append(doc)\n",
    "ml_docs = filtered_docs"
   ]
  },
  {
   "cell_type": "code",
   "execution_count": 5,
   "metadata": {
    "ExecuteTime": {
     "end_time": "2018-06-22T04:59:02.997205Z",
     "start_time": "2018-06-22T04:58:52.852Z"
    }
   },
   "outputs": [],
   "source": [
    "# Calculate the y-axis of the volcanos, i.e., the distance from optimal energy\n",
    "dft_distances = np.array([-np.abs(doc['energy']-optimum_energy) for doc in dft_docs])\n",
    "ml_distances = np.array([-np.abs(doc['energy']-optimum_energy) for doc in ml_docs])\n",
    "\n",
    "# Jitter the distances\n",
    "def jitter(array):\n",
    "    ''' Thanks to yoavram on Stack Overflow for this one'''\n",
    "    stdev = 0.001*(max(array)-min(array))\n",
    "    return array + np.random.randn(len(array)) * stdev\n",
    "dft_distances = jitter(dft_distances)\n",
    "ml_distances = jitter(ml_distances)"
   ]
  },
  {
   "cell_type": "markdown",
   "metadata": {},
   "source": [
    "# Plot"
   ]
  },
  {
   "cell_type": "code",
   "execution_count": 20,
   "metadata": {
    "ExecuteTime": {
     "end_time": "2018-06-22T04:59:02.998206Z",
     "start_time": "2018-06-22T04:58:56.637Z"
    }
   },
   "outputs": [
    {
     "data": {
      "image/png": "[encoded data removed]",
      "text/plain": [
       "<matplotlib.figure.Figure at 0x2b40d39d0910>"
      ]
     },
     "metadata": {},
     "output_type": "display_data"
    }
   ],
   "source": [
    "# Plot settings/initialization\n",
    "figsize = (7.08661, 2.5)   # 7.08661 is 180 mm in inches (required by Nature)\n",
    "point_size = 6\n",
    "step = 0.05\n",
    "nbins = 18\n",
    "bins = np.linspace(-3, 0, nbins)\n",
    "fig = plt.figure(figsize=figsize)\n",
    "\n",
    "# Make the histogram\n",
    "dist_ax = plt.subplot2grid((2, 2), (0, 0), rowspan=2)\n",
    "dft_energies = [doc['energy'] for doc in dft_docs]\n",
    "dft_energies_Cu = [doc['energy'] for doc in dft_docs\n",
    "                   if 'Cu' in composition_by_mpid[doc['mpid']]]\n",
    "_ = sns.distplot(dft_energies, bins=bins, kde=True, ax=dist_ax, norm_hist=False)\n",
    "# Make the Cu histogram and scale it down to size\n",
    "scaling_ratio = len(dft_energies_Cu)/float(len(dft_energies))\n",
    "cudist_ax = sns.distplot(dft_energies_Cu, bins=bins, kde=True, ax=dist_ax)\n",
    "scaled_data = cudist_ax.axes.lines[1].get_ydata() * scaling_ratio\n",
    "cudist_ax.axes.lines[1].set_ydata(scaled_data)\n",
    "for patch in cudist_ax.axes.patches[-nbins+1:]:\n",
    "    patch.set_height(patch.get_height() * scaling_ratio)\n",
    "dist_ax.set_ylim([0, np.max(cudist_ax.axes.lines[0].get_ydata()*1.2)])\n",
    "\n",
    "# Format the histograms\n",
    "dist_ax.set_yticks([])\n",
    "_ = dist_ax.set_xticks(dist_ticks)\n",
    "_ = dist_ax.set_ylabel('Density of surfaces (DFT-confirmed)')\n",
    "_ = dist_ax.set_xlim(dist_xlims)\n",
    "# Label the zooming bounds on the histogram\n",
    "plt.axvline(x=dE_min, linestyle='--', color='k')\n",
    "plt.axvline(x=dE_max, linestyle='--', color='k')\n",
    "fig.text(0.3, 0.95, 'Ideal for CO$_2$RR')\n",
    "fig.text(0.3, 0.2, 'copper \\n containing',\n",
    "         horizontalalignment='right')\n",
    "fig.text(0.12, 0.6, 'all\\nsurfaces', horizontalalignment='center')\n",
    "\n",
    "# Make the DFT volcano\n",
    "dft_ax = plt.subplot2grid((2, 2), (0, 1))\n",
    "dft_ax.scatter(dft_energies, dft_distances, s=point_size)\n",
    "# Format it\n",
    "_ = dft_ax.set_xticks([])\n",
    "dft_ax.set_xlim((dE_min, dE_max))\n",
    "_ = dft_ax.set_ylim((-max_dist, 0.01))\n",
    "dft_ax.set_yticks([0., -0.1])\n",
    "dft_ax.yaxis.set_major_formatter(FormatStrFormatter('%.1f'))\n",
    "# Annotate\n",
    "n_dft_hits = len([a for a in dft_energies if dE_min < a < dE_max])\n",
    "fig.text(0.68, 0.6, '%d DFT confirmed' % (n_dft_hits))\n",
    "\n",
    "# Make the ML volcano\n",
    "ml_ax = plt.subplot2grid((2, 2), (1, 1))\n",
    "ml_energies = [doc['energy'] for doc in ml_docs]\n",
    "ml_energies_Cu = [doc['energy'] for doc in ml_docs\n",
    "                   if 'Cu' in composition_by_mpid[doc['mpid']]]\n",
    "ml_ax.scatter(ml_energies, ml_distances, s=point_size/6)\n",
    "# Format it\n",
    "_ = ml_ax.set_xticks(np.arange(dE_min, dE_max+step, step))\n",
    "ml_ax.set_xlim((dE_min, dE_max))\n",
    "_ = ml_ax.set_ylim((-max_dist, 0.01))\n",
    "ml_ax.set_yticks([0., -0.1])\n",
    "ml_ax.yaxis.set_major_formatter(FormatStrFormatter('%.1f'))\n",
    "# Annotate\n",
    "n_ml_hits = len([a for a in ml_energies if dE_min < a < dE_max])\n",
    "fig.text(0.71, 0.15, '{:,} ML only'.format(n_ml_hits))\n",
    "\n",
    "# Label the panels\n",
    "_ = fig.suptitle(xlabel, x=0.5, y=0)\n",
    "_ = fig.text(0.48, 0.8, ylabel, rotation=90)\n",
    "plt.tight_layout()\n",
    "\n",
    "plt.savefig(figure_save_name, transparent=True, bbox_inches='tight')"
   ]
  },
  {
   "cell_type": "code",
   "execution_count": null,
   "metadata": {},
   "outputs": [],
   "source": []
  }
 ],
 "metadata": {
  "anaconda-cloud": {},
  "kernelspec": {
   "display_name": "Python [conda env:GASpy_conda]",
   "language": "python",
   "name": "conda-env-GASpy_conda-py"
  },
  "language_info": {
   "codemirror_mode": {
    "name": "ipython",
    "version": 2
   },
   "file_extension": ".py",
   "mimetype": "text/x-python",
   "name": "python",
   "nbconvert_exporter": "python",
   "pygments_lexer": "ipython2",
   "version": "2.7.13"
  }
 },
 "nbformat": 4,
 "nbformat_minor": 2
}
