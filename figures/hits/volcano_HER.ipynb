{
 "cells": [
  {
   "cell_type": "markdown",
   "metadata": {},
   "source": [
    "# Volcanos\n",
    "This notebook makes volcano plots to show how many surfaces we found"
   ]
  },
  {
   "cell_type": "code",
   "execution_count": 1,
   "metadata": {
    "ExecuteTime": {
     "start_time": "2018-06-22T05:08:17.094Z"
    }
   },
   "outputs": [],
   "source": [
    "import cPickle as pickle\n",
    "import numpy as np\n",
    "import matplotlib.pyplot as plt\n",
    "from matplotlib import rcParams\n",
    "from matplotlib.ticker import FormatStrFormatter\n",
    "import seaborn as sns\n",
    "import tqdm\n",
    "from pymatgen.matproj.rest import MPRester\n",
    "from gaspy import utils\n",
    "\n",
    "%matplotlib inline"
   ]
  },
  {
   "cell_type": "code",
   "execution_count": 2,
   "metadata": {},
   "outputs": [],
   "source": [
    "rcParams.update({'font.sans-serif': 'Helvetica'})\n",
    "rcParams.update({'font.family': 'sans-serif'})\n",
    "rcParams.update({'font.size': 7})\n",
    "rcParams.update({'savefig.dpi': 600})"
   ]
  },
  {
   "cell_type": "markdown",
   "metadata": {},
   "source": [
    "# Initialize"
   ]
  },
  {
   "cell_type": "markdown",
   "metadata": {},
   "source": [
    "## CO2RR"
   ]
  },
  {
   "cell_type": "code",
   "execution_count": 2,
   "metadata": {
    "ExecuteTime": {
     "end_time": "2018-05-31T20:15:54.106287Z",
     "start_time": "2018-05-31T20:15:54.102063Z"
    }
   },
   "outputs": [],
   "source": [
    "## Set the target energy\n",
    "#optimum_energy = -0.6\n",
    "#dE_min = -0.7\n",
    "#dE_max = -0.5\n",
    "#dist_xlims = (-3, 0)\n",
    "#dist_ticks = np.arange(-4, 2 1)\n",
    "#max_dist = max(np.abs(dE_min-optimum_energy), np.abs(dE_max-optimum_energy))\n",
    "#xlabel = 'CO Adsorption Energy, $\\Delta E_{CO}$ [eV]'\n",
    "#ylabel = '$-|\\Delta E_{CO}-0.6|$ [eV]'\n",
    "#figure_save_name = 'volcano_co2rr.pdf'\n",
    "#\n",
    "## Load the data\n",
    "#with open('../CO2RR_predictions.pkl', 'r') as f:\n",
    "#    dft_results, ml_results = pickle.load(f)"
   ]
  },
  {
   "cell_type": "markdown",
   "metadata": {},
   "source": [
    "## HER"
   ]
  },
  {
   "cell_type": "code",
   "execution_count": 3,
   "metadata": {
    "ExecuteTime": {
     "end_time": "2018-06-22T04:59:03.351910Z",
     "start_time": "2018-06-22T04:59:00.860487Z"
    }
   },
   "outputs": [],
   "source": [
    "# Set the target energy\n",
    "optimum_energy = -0.27\n",
    "dE_min = -0.37\n",
    "dE_max = -0.17\n",
    "dist_xlims = (-1.5, 0.5)\n",
    "dist_ticks = np.arange(-1.5, 1, 0.5)\n",
    "max_dist = max(np.abs(dE_min-optimum_energy), np.abs(dE_max-optimum_energy))\n",
    "xlabel = 'H Adsorption Energy, $\\Delta E_H$ [eV]'\n",
    "ylabel = '-|Distance from optimal| [eV]'\n",
    "figure_save_name = 'volcano_her.pdf'\n",
    "\n",
    "# Load the data\n",
    "with open('../HER_predictions.pkl', 'r') as f:\n",
    "    dft_results, ml_results = pickle.load(f)"
   ]
  },
  {
   "cell_type": "code",
   "execution_count": 4,
   "metadata": {
    "ExecuteTime": {
     "end_time": "2018-06-22T04:59:14.460857Z",
     "start_time": "2018-06-22T04:59:03.613612Z"
    }
   },
   "outputs": [
    {
     "name": "stderr",
     "output_type": "stream",
     "text": [
      "/project/projectdirs/m2755/GASpy_conda/lib/python2.7/site-packages/pymatgen-2017.7.4-py2.7-linux-x86_64.egg/pymatgen/ext/matproj.py:106: UserWarning: If you query for structure data encoded using MP's Structure Notation Language (SNL) format and you use `mp_decode=True` (the default) for MPRester queries, you should install dependencies via `pip install pymatgen[matproj.snl]`.\n",
      "  warnings.warn(\"If you query for structure data encoded using MP's \"\n",
      "100%|██████████| 3404/3404 [04:56<00:00, 11.48it/s]\n"
     ]
    }
   ],
   "source": [
    "# Pull out the data\n",
    "dft_docs = [result[0] for result in dft_results]\n",
    "ml_docs = [result[0] for result in ml_results]\n",
    "\n",
    "# Define the elements we want excluded\n",
    "excluded_elements = set(['Ca', 'Na', 'Nb', 'S', 'Se'])\n",
    "\n",
    "# Find all of the compositions of each MPID so that we can\n",
    "# later parse out any sites whose bulks have elements on the exclusion list\n",
    "mpids = set(doc['mpid'] for doc in dft_docs + ml_docs)\n",
    "composition_by_mpid = dict.fromkeys(mpids)\n",
    "mp_key = utils.read_rc('matproj_api_key')\n",
    "with MPRester(mp_key) as mp_db:\n",
    "    for mpid in tqdm.tqdm(mpids):\n",
    "        entry = mp_db.get_entry_by_material_id({'task_ids': mpid})\n",
    "        # Store the composition\n",
    "        comp = entry.as_dict()['composition'].keys()\n",
    "        composition_by_mpid[mpid] = set(comp)\n",
    "\n",
    "# Filter the documents and energies for DFT\n",
    "filtered_docs = []\n",
    "for doc in dft_docs:\n",
    "    mpid = doc['mpid']\n",
    "    comp = composition_by_mpid[mpid]\n",
    "    if not comp.intersection(excluded_elements):\n",
    "        filtered_docs.append(doc)\n",
    "dft_docs = filtered_docs\n",
    "# Filter the documents and energies for ML\n",
    "filtered_docs = []\n",
    "for doc in ml_docs:\n",
    "    mpid = doc['mpid']\n",
    "    comp = composition_by_mpid[mpid]\n",
    "    if not comp.intersection(excluded_elements):\n",
    "        filtered_docs.append(doc)\n",
    "ml_docs = filtered_docs"
   ]
  },
  {
   "cell_type": "code",
   "execution_count": 5,
   "metadata": {
    "ExecuteTime": {
     "end_time": "2018-06-22T04:59:14.461930Z",
     "start_time": "2018-06-22T04:59:04.524Z"
    }
   },
   "outputs": [],
   "source": [
    "# Calculate the y-axis of the volcanos, i.e., the distance from optimal energy\n",
    "dft_distances = np.array([-np.abs(doc['energy']-optimum_energy) for doc in dft_docs])\n",
    "ml_distances = np.array([-np.abs(doc['energy']-optimum_energy) for doc in ml_docs])\n",
    "\n",
    "# Jitter the distances\n",
    "def jitter(array):\n",
    "    ''' Thanks to yoavram on Stack Overflow for this one'''\n",
    "    stdev = 0.001*(max(array)-min(array))\n",
    "    return array + np.random.randn(len(array)) * stdev\n",
    "dft_distances = jitter(dft_distances)\n",
    "ml_distances = jitter(ml_distances)"
   ]
  },
  {
   "cell_type": "markdown",
   "metadata": {},
   "source": [
    "# Plot"
   ]
  },
  {
   "cell_type": "code",
   "execution_count": 9,
   "metadata": {
    "ExecuteTime": {
     "end_time": "2018-06-22T04:59:14.462823Z",
     "start_time": "2018-06-22T04:59:05.708Z"
    }
   },
   "outputs": [
    {
     "data": {
      "image/png": "[encoded data removed]",
      "text/plain": [
       "<matplotlib.figure.Figure at 0x2adfd37025d0>"
      ]
     },
     "metadata": {},
     "output_type": "display_data"
    }
   ],
   "source": [
    "# Plot settings/initialization\n",
    "figsize = (3.46457, 3.46457)\n",
    "fontsize = 10\n",
    "point_size = 6\n",
    "step = 0.05\n",
    "fig = plt.figure(figsize=figsize)\n",
    "\n",
    "# Make the histogram\n",
    "dft_energies = [doc['energy'] for doc in dft_docs]\n",
    "ax = sns.distplot(dft_energies, kde=False)\n",
    "# Format the histogram\n",
    "ax.set_yticks([])\n",
    "_ = ax.set_xticks(dist_ticks)\n",
    "_ = ax.tick_params(labelsize=fontsize)\n",
    "_ = ax.set_ylabel('Density of Surfaces (DFT-confirmed)', fontsize=fontsize)\n",
    "_ = ax.set_xlabel(xlabel, fontsize=fontsize)\n",
    "_ = ax.set_xlim(dist_xlims)\n",
    "# Label the zooming bounds on the histogram\n",
    "fig.text(0.5, 0.975, 'Ideal for HER', fontsize=fontsize)\n",
    "plt.axvline(x=dE_min, linestyle='--', color='k')\n",
    "plt.axvline(x=dE_max, linestyle='--', color='k')\n",
    "\n",
    "# Annotate\n",
    "n_dft_hits = len([doc for doc in dft_docs if dE_min < doc['energy'] < dE_max])\n",
    "fig.text(0.69, 0.7, '%d\\nnear-\\noptimal\\nsurfaces' % (n_dft_hits), fontsize=fontsize)\n",
    "\n",
    "plt.tight_layout()\n",
    "plt.savefig(figure_save_name, transparent=True, bbox_inches='tight')"
   ]
  },
  {
   "cell_type": "code",
   "execution_count": 14,
   "metadata": {},
   "outputs": [
    {
     "data": {
      "image/png": "[encoded data removed]",
      "text/plain": [
       "<matplotlib.figure.Figure at 0x2b06a79236d0>"
      ]
     },
     "metadata": {},
     "output_type": "display_data"
    }
   ],
   "source": [
    "# Plot settings/initialization\n",
    "figsize = (7.08661, 2.5)   # 7.08661 is 180 mm in inches (required by Nature)\n",
    "point_size = 6\n",
    "step = 0.05\n",
    "nbins = 18\n",
    "fig = plt.figure(figsize=figsize)\n",
    "\n",
    "# Make the histogram\n",
    "dist_ax = plt.subplot2grid((2, 2), (0, 0), rowspan=2)\n",
    "dft_energies = [doc['energy'] for doc in dft_docs]\n",
    "dft_energies_Cu = [doc['energy'] for doc in dft_docs\n",
    "                   if 'Cu' in composition_by_mpid[doc['mpid']]]\n",
    "_ = sns.distplot(dft_energies, kde=True, ax=dist_ax, norm_hist=False)\n",
    "\n",
    "# Format the histograms\n",
    "dist_ax.set_yticks([])\n",
    "_ = dist_ax.set_xticks(dist_ticks)\n",
    "_ = dist_ax.set_ylabel('Density of surfaces (DFT-confirmed)')\n",
    "_ = dist_ax.set_xlim(dist_xlims)\n",
    "# Label the zooming bounds on the histogram\n",
    "plt.axvline(x=dE_min, linestyle='--', color='k')\n",
    "plt.axvline(x=dE_max, linestyle='--', color='k')\n",
    "fig.text(0.25, 0.95, 'Ideal for HER')\n",
    "\n",
    "# Make the DFT volcano\n",
    "dft_ax = plt.subplot2grid((2, 2), (0, 1))\n",
    "dft_ax.scatter(dft_energies, dft_distances, s=point_size)\n",
    "# Format it\n",
    "_ = dft_ax.set_xticks([])\n",
    "dft_ax.set_xlim((dE_min, dE_max))\n",
    "_ = dft_ax.set_ylim((-max_dist, 0.01))\n",
    "dft_ax.set_yticks([0., -0.1])\n",
    "dft_ax.yaxis.set_major_formatter(FormatStrFormatter('%.1f'))\n",
    "# Annotate\n",
    "n_dft_hits = len([a for a in dft_energies if dE_min < a < dE_max])\n",
    "fig.text(0.68, 0.6, '%d DFT confirmed' % (n_dft_hits))\n",
    "\n",
    "# Make the ML volcano\n",
    "ml_ax = plt.subplot2grid((2, 2), (1, 1))\n",
    "ml_energies = [doc['energy'] for doc in ml_docs]\n",
    "ml_energies_Cu = [doc['energy'] for doc in ml_docs\n",
    "                   if 'Cu' in composition_by_mpid[doc['mpid']]]\n",
    "ml_ax.scatter(ml_energies, ml_distances, s=point_size/6)\n",
    "# Format it\n",
    "_ = ml_ax.set_xticks(np.arange(dE_min, dE_max+step, step))\n",
    "ml_ax.set_xlim((dE_min, dE_max))\n",
    "_ = ml_ax.set_ylim((-max_dist, 0.01))\n",
    "ml_ax.set_yticks([0., -0.1])\n",
    "ml_ax.yaxis.set_major_formatter(FormatStrFormatter('%.1f'))\n",
    "# Annotate\n",
    "n_ml_hits = len([a for a in ml_energies if dE_min < a < dE_max])\n",
    "fig.text(0.7, 0.15, '{:,} ML only'.format(n_ml_hits))\n",
    "\n",
    "# Label the panels\n",
    "_ = fig.suptitle(xlabel, x=0.5, y=0)\n",
    "_ = fig.text(0.48, 0.8, ylabel, rotation=90)\n",
    "plt.tight_layout()\n",
    "\n",
    "plt.savefig(figure_save_name[:-4] + '_SI.pdf', transparent=True, bbox_inches='tight')"
   ]
  },
  {
   "cell_type": "code",
   "execution_count": null,
   "metadata": {},
   "outputs": [],
   "source": []
  }
 ],
 "metadata": {
  "anaconda-cloud": {},
  "kernelspec": {
   "display_name": "Python [conda env:GASpy_conda]",
   "language": "python",
   "name": "conda-env-GASpy_conda-py"
  },
  "language_info": {
   "codemirror_mode": {
    "name": "ipython",
    "version": 2
   },
   "file_extension": ".py",
   "mimetype": "text/x-python",
   "name": "python",
   "nbconvert_exporter": "python",
   "pygments_lexer": "ipython2",
   "version": "2.7.13"
  }
 },
 "nbformat": 4,
 "nbformat_minor": 2
}
